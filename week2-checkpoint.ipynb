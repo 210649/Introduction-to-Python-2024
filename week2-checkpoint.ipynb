{
 "cells": [
  {
   "cell_type": "markdown",
   "id": "1bb38657",
   "metadata": {},
   "source": [
    "# 第2章 变量和简单数据类型"
   ]
  },
  {
   "cell_type": "markdown",
   "id": "1e4d9a4a",
   "metadata": {},
   "source": [
    "# 2.1 hello world"
   ]
  },
  {
   "cell_type": "code",
   "execution_count": 59,
   "id": "139c32df",
   "metadata": {},
   "outputs": [
    {
     "name": "stdout",
     "output_type": "stream",
     "text": [
      "Hello Python world!\n"
     ]
    }
   ],
   "source": [
    "print(\"Hello Python world!\")"
   ]
  },
  {
   "cell_type": "markdown",
   "id": "0db69730",
   "metadata": {},
   "source": [
    "# 2.2 变量"
   ]
  },
  {
   "cell_type": "code",
   "execution_count": 60,
   "id": "fec3730c",
   "metadata": {},
   "outputs": [
    {
     "name": "stdout",
     "output_type": "stream",
     "text": [
      "Hello Python world!\n",
      "Hello Python world!\n",
      "Hello Python Crash Course world!\n",
      "Hello Python Crash Course reader!\n"
     ]
    }
   ],
   "source": [
    "message = \"Hello Python world!\"\n",
    "print(message)\n",
    "\n",
    "message = \"Hello Python world!\"\n",
    "print(message)\n",
    "message = \"Hello Python Crash Course world!\"\n",
    "print(message)\n",
    "\n",
    "message = \"Hello Python Crash Course reader!\"\n",
    "print(message)\n"
   ]
  },
  {
   "cell_type": "markdown",
   "id": "da7efb58",
   "metadata": {},
   "source": [
    "# 2.3 字符串"
   ]
  },
  {
   "cell_type": "markdown",
   "id": "a0b2b9f7",
   "metadata": {},
   "source": [
    "#2.3.1"
   ]
  },
  {
   "cell_type": "code",
   "execution_count": 61,
   "id": "ae40a4a9",
   "metadata": {},
   "outputs": [
    {
     "name": "stdout",
     "output_type": "stream",
     "text": [
      "Ada Lovalace\n",
      "ADA LOVELACE\n",
      "ada lovelace\n"
     ]
    }
   ],
   "source": [
    "name = \"ada lovalace\" \n",
    "print(name.title())\n",
    "\n",
    "name = \"Ada Lovelace\"\n",
    "print(name.upper())\n",
    "print(name.lower())"
   ]
  },
  {
   "cell_type": "markdown",
   "id": "9c12a1b8",
   "metadata": {},
   "source": [
    "#2.3.2"
   ]
  },
  {
   "cell_type": "code",
   "execution_count": 62,
   "id": "f736a4f2",
   "metadata": {},
   "outputs": [
    {
     "name": "stdout",
     "output_type": "stream",
     "text": [
      "adalovelace\n"
     ]
    }
   ],
   "source": [
    "first_name = \"ada\"\n",
    "last_name = \"lovelace\"\n",
    "full_name = f\"{first_name}{last_name}\"\n",
    "print(full_name)"
   ]
  },
  {
   "cell_type": "code",
   "execution_count": 96,
   "id": "04f53346",
   "metadata": {},
   "outputs": [
    {
     "name": "stdout",
     "output_type": "stream",
     "text": [
      "Hello,Adalovelace!\n"
     ]
    }
   ],
   "source": [
    "first_name = \"ada\"\n",
    "last_name = \"lovelace\"\n",
    "full_name = f\"{first_name}{last_name}\"\n",
    "print(f\"Hello,{full_name.title()}!\")"
   ]
  },
  {
   "cell_type": "code",
   "execution_count": 95,
   "id": "ec56af94",
   "metadata": {},
   "outputs": [
    {
     "name": "stdout",
     "output_type": "stream",
     "text": [
      "Hello,Adalovelace!\n"
     ]
    }
   ],
   "source": [
    "first_name = \"ada\"\n",
    "last_name = \"lovelace\"\n",
    "full_name = f\"{first_name}{last_name}\"\n",
    "message = f\"Hello,{full_name.title()}!\"\n",
    "print(message)"
   ]
  },
  {
   "cell_type": "markdown",
   "id": "24a7e965",
   "metadata": {},
   "source": [
    "#2.3.3"
   ]
  },
  {
   "cell_type": "code",
   "execution_count": 65,
   "id": "bdd97c80",
   "metadata": {},
   "outputs": [
    {
     "name": "stdout",
     "output_type": "stream",
     "text": [
      "Python\n",
      "\tPython\n"
     ]
    }
   ],
   "source": [
    "print(\"Python\")\n",
    "print(\"\\tPython\")"
   ]
  },
  {
   "cell_type": "code",
   "execution_count": 66,
   "id": "2a50d1d5",
   "metadata": {},
   "outputs": [
    {
     "name": "stdout",
     "output_type": "stream",
     "text": [
      "Languages:\n",
      "Python\n",
      "C\n",
      "JavaScript\n",
      "Languages:\n",
      "\tPython\n",
      "\tC\n",
      "\tJavaScript\n"
     ]
    }
   ],
   "source": [
    "print(\"Languages:\\nPython\\nC\\nJavaScript\")\n",
    "print(\"Languages:\\n\\tPython\\n\\tC\\n\\tJavaScript\")"
   ]
  },
  {
   "cell_type": "markdown",
   "id": "322a8028",
   "metadata": {},
   "source": [
    "#2.3.4"
   ]
  },
  {
   "cell_type": "code",
   "execution_count": 97,
   "id": "0ac6f93f",
   "metadata": {},
   "outputs": [],
   "source": [
    "favorite_language = 'python '\n",
    "favorite_language.rstrip()\n",
    "favorite_language = favorite_language.rstrip()"
   ]
  },
  {
   "cell_type": "code",
   "execution_count": 68,
   "id": "5f85f8eb",
   "metadata": {},
   "outputs": [],
   "source": [
    "favorite_language = ' python '\n",
    "favorite_language = favorite_language.lstrip()\n",
    "favorite_language = favorite_language.rstrip()"
   ]
  },
  {
   "cell_type": "markdown",
   "id": "3b157b18",
   "metadata": {},
   "source": [
    "#2.3.5"
   ]
  },
  {
   "cell_type": "code",
   "execution_count": 69,
   "id": "3480f11a",
   "metadata": {},
   "outputs": [],
   "source": [
    "nostarch_url = 'https://nostarch.com'\n",
    "nostarch_url.removeprefix('https://') \n",
    "simple_url = nostarch_url.removeprefix('https://')"
   ]
  },
  {
   "cell_type": "markdown",
   "id": "0848b3fc",
   "metadata": {},
   "source": [
    "#2.3.6"
   ]
  },
  {
   "cell_type": "code",
   "execution_count": 70,
   "id": "4a038ed4",
   "metadata": {},
   "outputs": [
    {
     "name": "stdout",
     "output_type": "stream",
     "text": [
      "One of Python's strengths is its diverse community\n"
     ]
    }
   ],
   "source": [
    "message = \"One of Python's strengths is its diverse community\"\n",
    "print(message)"
   ]
  },
  {
   "cell_type": "markdown",
   "id": "00a94825",
   "metadata": {},
   "source": [
    "# 2.4 数"
   ]
  },
  {
   "cell_type": "markdown",
   "id": "39f60cbe",
   "metadata": {},
   "source": [
    "#2.4.1"
   ]
  },
  {
   "cell_type": "code",
   "execution_count": 71,
   "id": "ee1aeacd",
   "metadata": {},
   "outputs": [
    {
     "data": {
      "text/plain": [
       "5"
      ]
     },
     "execution_count": 71,
     "metadata": {},
     "output_type": "execute_result"
    }
   ],
   "source": [
    "2+3"
   ]
  },
  {
   "cell_type": "code",
   "execution_count": 72,
   "id": "cebe492b",
   "metadata": {},
   "outputs": [
    {
     "data": {
      "text/plain": [
       "1"
      ]
     },
     "execution_count": 72,
     "metadata": {},
     "output_type": "execute_result"
    }
   ],
   "source": [
    "3-2"
   ]
  },
  {
   "cell_type": "code",
   "execution_count": 73,
   "id": "c8056714",
   "metadata": {},
   "outputs": [
    {
     "data": {
      "text/plain": [
       "6"
      ]
     },
     "execution_count": 73,
     "metadata": {},
     "output_type": "execute_result"
    }
   ],
   "source": [
    "2*3"
   ]
  },
  {
   "cell_type": "code",
   "execution_count": 74,
   "id": "33551609",
   "metadata": {},
   "outputs": [
    {
     "data": {
      "text/plain": [
       "1.5"
      ]
     },
     "execution_count": 74,
     "metadata": {},
     "output_type": "execute_result"
    }
   ],
   "source": [
    "3/2"
   ]
  },
  {
   "cell_type": "code",
   "execution_count": 75,
   "id": "72146a8d",
   "metadata": {},
   "outputs": [
    {
     "data": {
      "text/plain": [
       "9"
      ]
     },
     "execution_count": 75,
     "metadata": {},
     "output_type": "execute_result"
    }
   ],
   "source": [
    "3**2"
   ]
  },
  {
   "cell_type": "code",
   "execution_count": 76,
   "id": "2a59100f",
   "metadata": {},
   "outputs": [
    {
     "data": {
      "text/plain": [
       "27"
      ]
     },
     "execution_count": 76,
     "metadata": {},
     "output_type": "execute_result"
    }
   ],
   "source": [
    "3**3"
   ]
  },
  {
   "cell_type": "code",
   "execution_count": 77,
   "id": "f1d5079f",
   "metadata": {},
   "outputs": [
    {
     "data": {
      "text/plain": [
       "1000000"
      ]
     },
     "execution_count": 77,
     "metadata": {},
     "output_type": "execute_result"
    }
   ],
   "source": [
    "10**6"
   ]
  },
  {
   "cell_type": "code",
   "execution_count": 78,
   "id": "ca658aee",
   "metadata": {},
   "outputs": [
    {
     "data": {
      "text/plain": [
       "14"
      ]
     },
     "execution_count": 78,
     "metadata": {},
     "output_type": "execute_result"
    }
   ],
   "source": [
    "2+3*4"
   ]
  },
  {
   "cell_type": "code",
   "execution_count": 79,
   "id": "322ee66b",
   "metadata": {},
   "outputs": [
    {
     "data": {
      "text/plain": [
       "20"
      ]
     },
     "execution_count": 79,
     "metadata": {},
     "output_type": "execute_result"
    }
   ],
   "source": [
    "(2+3)*4"
   ]
  },
  {
   "cell_type": "markdown",
   "id": "090b542f",
   "metadata": {},
   "source": [
    "#2.4.2"
   ]
  },
  {
   "cell_type": "code",
   "execution_count": 80,
   "id": "d0a9ca3c",
   "metadata": {},
   "outputs": [
    {
     "data": {
      "text/plain": [
       "0.2"
      ]
     },
     "execution_count": 80,
     "metadata": {},
     "output_type": "execute_result"
    }
   ],
   "source": [
    "0.1+0.1"
   ]
  },
  {
   "cell_type": "code",
   "execution_count": 81,
   "id": "c903c0fc",
   "metadata": {},
   "outputs": [
    {
     "data": {
      "text/plain": [
       "0.4"
      ]
     },
     "execution_count": 81,
     "metadata": {},
     "output_type": "execute_result"
    }
   ],
   "source": [
    "0.2+0.2"
   ]
  },
  {
   "cell_type": "code",
   "execution_count": 82,
   "id": "0d7b3b80",
   "metadata": {},
   "outputs": [
    {
     "data": {
      "text/plain": [
       "0.2"
      ]
     },
     "execution_count": 82,
     "metadata": {},
     "output_type": "execute_result"
    }
   ],
   "source": [
    "2*0.1"
   ]
  },
  {
   "cell_type": "code",
   "execution_count": 83,
   "id": "e0debf3a",
   "metadata": {},
   "outputs": [
    {
     "data": {
      "text/plain": [
       "0.4"
      ]
     },
     "execution_count": 83,
     "metadata": {},
     "output_type": "execute_result"
    }
   ],
   "source": [
    "2*0.2"
   ]
  },
  {
   "cell_type": "code",
   "execution_count": 84,
   "id": "a07178f4",
   "metadata": {},
   "outputs": [
    {
     "data": {
      "text/plain": [
       "0.30000000000000004"
      ]
     },
     "execution_count": 84,
     "metadata": {},
     "output_type": "execute_result"
    }
   ],
   "source": [
    "0.2+0.1"
   ]
  },
  {
   "cell_type": "code",
   "execution_count": 85,
   "id": "f8fa6208",
   "metadata": {},
   "outputs": [
    {
     "data": {
      "text/plain": [
       "0.30000000000000004"
      ]
     },
     "execution_count": 85,
     "metadata": {},
     "output_type": "execute_result"
    }
   ],
   "source": [
    "3*0.1"
   ]
  },
  {
   "cell_type": "markdown",
   "id": "96d7e15e",
   "metadata": {},
   "source": [
    "#2.4.3"
   ]
  },
  {
   "cell_type": "code",
   "execution_count": 86,
   "id": "3f709948",
   "metadata": {},
   "outputs": [
    {
     "data": {
      "text/plain": [
       "2.0"
      ]
     },
     "execution_count": 86,
     "metadata": {},
     "output_type": "execute_result"
    }
   ],
   "source": [
    "4/2"
   ]
  },
  {
   "cell_type": "code",
   "execution_count": 87,
   "id": "fd401f06",
   "metadata": {},
   "outputs": [
    {
     "data": {
      "text/plain": [
       "3.0"
      ]
     },
     "execution_count": 87,
     "metadata": {},
     "output_type": "execute_result"
    }
   ],
   "source": [
    "1+2.0"
   ]
  },
  {
   "cell_type": "code",
   "execution_count": 88,
   "id": "b2b2a8f9",
   "metadata": {},
   "outputs": [
    {
     "data": {
      "text/plain": [
       "6.0"
      ]
     },
     "execution_count": 88,
     "metadata": {},
     "output_type": "execute_result"
    }
   ],
   "source": [
    "2*3.0"
   ]
  },
  {
   "cell_type": "code",
   "execution_count": 89,
   "id": "90893941",
   "metadata": {},
   "outputs": [
    {
     "data": {
      "text/plain": [
       "9.0"
      ]
     },
     "execution_count": 89,
     "metadata": {},
     "output_type": "execute_result"
    }
   ],
   "source": [
    "3.0**2"
   ]
  },
  {
   "cell_type": "markdown",
   "id": "2ef60541",
   "metadata": {},
   "source": [
    "#2.4.4"
   ]
  },
  {
   "cell_type": "code",
   "execution_count": 90,
   "id": "05f1d6f2",
   "metadata": {},
   "outputs": [
    {
     "name": "stdout",
     "output_type": "stream",
     "text": [
      "14000000000\n"
     ]
    }
   ],
   "source": [
    "universe_age = 14_000_000_000\n",
    "print(universe_age)"
   ]
  },
  {
   "cell_type": "markdown",
   "id": "6cff6dc8",
   "metadata": {},
   "source": [
    "#2.4.5"
   ]
  },
  {
   "cell_type": "code",
   "execution_count": 91,
   "id": "7e56e92e",
   "metadata": {},
   "outputs": [],
   "source": [
    "x,y,z = 0,0,0"
   ]
  },
  {
   "cell_type": "markdown",
   "id": "f2f243c9",
   "metadata": {},
   "source": [
    "#2.4.6"
   ]
  },
  {
   "cell_type": "code",
   "execution_count": 92,
   "id": "f6fbbeee",
   "metadata": {},
   "outputs": [],
   "source": [
    "MAX_CONNECTIONS = 5000"
   ]
  },
  {
   "cell_type": "markdown",
   "id": "3049e00a",
   "metadata": {},
   "source": [
    "# 2.5 注释"
   ]
  },
  {
   "cell_type": "markdown",
   "id": "6a23d36f",
   "metadata": {},
   "source": [
    "#向大家问好"
   ]
  },
  {
   "cell_type": "code",
   "execution_count": 93,
   "id": "af40d1b3",
   "metadata": {},
   "outputs": [
    {
     "name": "stdout",
     "output_type": "stream",
     "text": [
      "Hello Python people!\n"
     ]
    }
   ],
   "source": [
    "print(\"Hello Python people!\")"
   ]
  },
  {
   "cell_type": "markdown",
   "id": "7951d92b",
   "metadata": {},
   "source": [
    "# 2.6  Python之禅"
   ]
  },
  {
   "cell_type": "code",
   "execution_count": 98,
   "id": "1bdcb77f",
   "metadata": {},
   "outputs": [],
   "source": [
    "import this"
   ]
  }
 ],
 "metadata": {
  "kernelspec": {
   "display_name": "Python 3 (ipykernel)",
   "language": "python",
   "name": "python3"
  },
  "language_info": {
   "codemirror_mode": {
    "name": "ipython",
    "version": 3
   },
   "file_extension": ".py",
   "mimetype": "text/x-python",
   "name": "python",
   "nbconvert_exporter": "python",
   "pygments_lexer": "ipython3",
   "version": "3.11.5"
  }
 },
 "nbformat": 4,
 "nbformat_minor": 5
}
