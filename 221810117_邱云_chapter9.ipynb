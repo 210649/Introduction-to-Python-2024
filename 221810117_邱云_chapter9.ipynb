{
 "cells": [
  {
   "cell_type": "markdown",
   "id": "46cc3fe7",
   "metadata": {},
   "source": [
    "# 第 9 章　类"
   ]
  },
  {
   "cell_type": "markdown",
   "id": "8c264a4e",
   "metadata": {},
   "source": [
    "###### 在面向对象编程OOP中，编写表示现实世界中的事物和情景的类（class），并基于这些类来创建对象（object）"
   ]
  },
  {
   "cell_type": "markdown",
   "id": "97859dfe",
   "metadata": {},
   "source": [
    "###### 根据类来创建对象称为实例化，让我们能够使用类的实例（instance）"
   ]
  },
  {
   "cell_type": "markdown",
   "id": "9df815c2",
   "metadata": {},
   "source": [
    "## 9.1　创建和使用类"
   ]
  },
  {
   "cell_type": "markdown",
   "id": "9563cb19",
   "metadata": {},
   "source": [
    "### 9.1.1　创建 Dog 类"
   ]
  },
  {
   "cell_type": "code",
   "execution_count": 13,
   "id": "245aed28",
   "metadata": {},
   "outputs": [],
   "source": [
    "#dog.py\n",
    "#据约定，在 Python 中，首字母大写的名称指的是类\n",
    "class Dog:\n",
    "    \"\"\"一次模拟小狗的简单尝试\"\"\"\n",
    "    \n",
    "#__init__() 方法（类中的函数）\n",
    "#包含三个形参self（指向实例本身的引用，不可缺）、name 和 age（需提供值）\n",
    "    def __init__(self, name, age):\n",
    "        \"\"\"初始化属性 name 和 age\"\"\"\n",
    "        self.name = name\n",
    "        self.age = age\n",
    "    #以 self 为前缀的变量可供类中的所有方法使用，可以通过类的任意实例来访问\n",
    "    #像self.age这样可通过实例访问的变量称为属性（attribute）\n",
    "    \n",
    "    def sit(self):\n",
    "        \"\"\"模拟小狗收到命令时坐下\"\"\"\n",
    "        print(f\"{self.name} is now sitting.\")\n",
    "    def roll_over(self):\n",
    "        \"\"\"模拟小狗收到命令时打滚\"\"\"\n",
    "        print(f\"{self.name} rolled over!\")"
   ]
  },
  {
   "cell_type": "markdown",
   "id": "34cd09f4",
   "metadata": {},
   "source": [
    "### 9.1.2　根据类创建实例"
   ]
  },
  {
   "cell_type": "markdown",
   "id": "f1a342be",
   "metadata": {},
   "source": [
    "###### 命名约定：通常可以认为首字母大写的名称（如 Dog）指的是类，而全小写的名称（如 my_dog）指的是根据类创建的实例"
   ]
  },
  {
   "cell_type": "code",
   "execution_count": 5,
   "id": "19248463",
   "metadata": {},
   "outputs": [
    {
     "name": "stdout",
     "output_type": "stream",
     "text": [
      "My dog's name is Willie.\n",
      "My dog is 6 years old.\n"
     ]
    }
   ],
   "source": [
    "#访问属性\n",
    "class Dog:\n",
    "    my_dog = Dog('Willie', 6)\n",
    "    print(f\"My dog's name is {my_dog.name}.\")\n",
    "    print(f\"My dog is {my_dog.age} years old.\")"
   ]
  },
  {
   "cell_type": "code",
   "execution_count": 11,
   "id": "ed5b32e7",
   "metadata": {},
   "outputs": [
    {
     "name": "stdout",
     "output_type": "stream",
     "text": [
      "Willie is now sitting.\n",
      "Willie rolled over!\n"
     ]
    }
   ],
   "source": [
    "#调用方法让小狗坐下和打滚\n",
    "class Dog:\n",
    "    my_dog = Dog('Willie', 6)\n",
    "    my_dog.sit()\n",
    "    my_dog.roll_over()"
   ]
  },
  {
   "cell_type": "code",
   "execution_count": 14,
   "id": "8f98a575",
   "metadata": {},
   "outputs": [
    {
     "name": "stdout",
     "output_type": "stream",
     "text": [
      "My dog's name is Willie.\n",
      "My dog is 6 years old.\n",
      "Willie is now sitting.\n",
      "\n",
      "Your dog's name is Lucy.\n",
      "Your dog is 3 years old.\n",
      "Lucy is now sitting.\n"
     ]
    }
   ],
   "source": [
    "#创建多个实例\n",
    "class Dog:\n",
    "    my_dog = Dog('Willie', 6)\n",
    "    your_dog = Dog('Lucy', 3)\n",
    "    \n",
    "    print(f\"My dog's name is {my_dog.name}.\")\n",
    "    print(f\"My dog is {my_dog.age} years old.\")\n",
    "    my_dog.sit()\n",
    "    \n",
    "    print(f\"\\nYour dog's name is {your_dog.name}.\")\n",
    "    print(f\"Your dog is {your_dog.age} years old.\")\n",
    "    your_dog.sit()"
   ]
  },
  {
   "cell_type": "markdown",
   "id": "eb461489",
   "metadata": {},
   "source": [
    "### 练习"
   ]
  },
  {
   "cell_type": "code",
   "execution_count": 16,
   "id": "c459f41c",
   "metadata": {},
   "outputs": [
    {
     "name": "stdout",
     "output_type": "stream",
     "text": [
      "餐馆名：大铁牛螺蛳粉\n",
      "菜品类型：原味螺蛳粉，炸弹螺蛳粉，猪蹄螺蛳粉等\n",
      "欢迎光临大铁牛螺蛳粉！\n",
      "本店菜品有原味螺蛳粉，炸弹螺蛳粉，猪蹄螺蛳粉等。\n",
      "大铁牛螺蛳粉正在营业中!\n"
     ]
    }
   ],
   "source": [
    "#9.1餐馆\n",
    "#创建名为Restaurant 的类\n",
    "class Restaurant:\n",
    "    def __init__(self,restaurant_name,cuisine_type):\n",
    "        \"\"\"初始化属性餐馆名 和 菜品类\"\"\"\n",
    "        self.name = restaurant_name\n",
    "        self.type = cuisine_type\n",
    "        \n",
    "    # 创建describe_restaurant()方法 \n",
    "    def describe_restaurant(self):\n",
    "        \"\"\"打印餐馆名和菜品类信息\"\"\"\n",
    "        print(f\"欢迎光临{self.name}！\")\n",
    "        print(f\"本店菜品有{self.type}等。\")\n",
    "        \n",
    "    #创建open_restaurant()方法\n",
    "    def open_restaurant(self):\n",
    "        \"\"\"表示餐馆正在营业\"\"\"\n",
    "        print(f\"{self.name}正在营业中!\")\n",
    "\n",
    "#根据类创建一个名为restaurant的实例并打印属性\n",
    "restaurant = Restaurant('大铁牛螺蛳粉', '原味螺蛳粉，炸弹螺蛳粉，猪蹄螺蛳粉等')\n",
    "print(f\"餐馆名：{restaurant.name}\")\n",
    "print(f\"菜品类型：{restaurant.type}\")\n",
    "\n",
    "#调用那面两个方法\n",
    "class Restaurant:\n",
    "    restaurant = Restaurant('大铁牛螺蛳粉', '原味螺蛳粉，炸弹螺蛳粉，猪蹄螺蛳粉')\n",
    "    restaurant.describe_restaurant()\n",
    "    restaurant.open_restaurant()"
   ]
  },
  {
   "cell_type": "code",
   "execution_count": 82,
   "id": "1d60d307",
   "metadata": {},
   "outputs": [
    {
     "name": "stdout",
     "output_type": "stream",
     "text": [
      "Ddapaidang Nanjing\n",
      "Guangtoucanguan Guangtou\n",
      "Xiaotan Meiwei\n"
     ]
    }
   ],
   "source": [
    "#9.2三家餐馆\n",
    "restaurant_0 = Restaurant('ddapaidang', 'nanjing')\n",
    "print(restaurant_0.describe_restaurant())\n",
    "\n",
    "restaurant_1 = Restaurant('guangtoucanguan', 'guangtou')\n",
    "print(restaurant_1.describe_restaurant())\n",
    "\n",
    "restaurant_2 = Restaurant('xiaotan', 'meiwei')\n",
    "print(restaurant_2.describe_restaurant())"
   ]
  },
  {
   "cell_type": "code",
   "execution_count": 81,
   "id": "5d8b0d61",
   "metadata": {},
   "outputs": [
    {
     "name": "stdout",
     "output_type": "stream",
     "text": [
      "\n",
      "Lan Weiran 20\n",
      "Hello, Lan Weiran!\n",
      "\n",
      "Xiao Hong 21\n",
      "Hello, Xiao Hong!\n",
      "\n",
      "Xiao Ming 16\n",
      "Hello, Xiao Ming!\n"
     ]
    }
   ],
   "source": [
    "#9.3用户\n",
    "class User:\n",
    "    \"\"\"描述用户基本信息\"\"\"\n",
    "\n",
    "    def __init__(self, first_name, last_name, age):\n",
    "        \"\"\"初始化描述用户的信息\"\"\"\n",
    "        self.f_name = first_name\n",
    "        self.l_name = last_name\n",
    "        self.age = age\n",
    "\n",
    "    def describe_user(self):\n",
    "        \"\"\"打印用户信息摘要\"\"\"\n",
    "        print(f'\\n{self.f_name.title()} {self.l_name.title()} {self.age}')\n",
    "\n",
    "    def greet_user(self):\n",
    "        \"\"\"向用户发出个性化的问候\"\"\"\n",
    "        print(f\"Hello, {self.f_name.title()} {self.l_name.title()}!\")\n",
    "\n",
    "user_0 = User('lan', 'weiran', 20)\n",
    "user_0.describe_user()\n",
    "user_0.greet_user()\n",
    "\n",
    "user_1 = User('xiao', 'hong', 21)\n",
    "user_1.describe_user()\n",
    "user_1.greet_user()\n",
    "\n",
    "user_2 = User('xiao', 'ming', 16)\n",
    "user_2.describe_user()\n",
    "user_2.greet_user()"
   ]
  },
  {
   "cell_type": "markdown",
   "id": "dc067abb",
   "metadata": {},
   "source": [
    "## 9.2　使用类和实例"
   ]
  },
  {
   "cell_type": "markdown",
   "id": "db3e147a",
   "metadata": {},
   "source": [
    "###### 可以直接修改实例的属性，也可以编写方法以特定的方式进行修改"
   ]
  },
  {
   "cell_type": "markdown",
   "id": "4aaa750f",
   "metadata": {},
   "source": [
    "### 9.2.1　Car 类"
   ]
  },
  {
   "cell_type": "code",
   "execution_count": 19,
   "id": "e9adfebb",
   "metadata": {},
   "outputs": [
    {
     "name": "stdout",
     "output_type": "stream",
     "text": [
      "2024 Audi A4\n"
     ]
    }
   ],
   "source": [
    "#car.py\n",
    "class Car:\n",
    "    \"\"\"一次模拟汽车的简单尝试\"\"\"\n",
    "    \n",
    "    def __init__(self, make, model, year):\n",
    "        \"\"\"初始化描述汽车的属性\"\"\"\n",
    "        self.make = make\n",
    "        self.model = model\n",
    "        self.year = year\n",
    "        \n",
    "    def get_descriptive_name(self):\n",
    "        \"\"\"返回格式规范的描述性信息\"\"\"\n",
    "        long_name = f\"{self.year} {self.make} {self.model}\"\n",
    "        return long_name.title()\n",
    "    \n",
    "#注意缩进区分类和实例\n",
    "my_new_car = Car('audi', 'a4', 2024)\n",
    "print(my_new_car.get_descriptive_name())"
   ]
  },
  {
   "cell_type": "markdown",
   "id": "b92bf37f",
   "metadata": {},
   "source": [
    "### 9.2.2　给属性指定默认值"
   ]
  },
  {
   "cell_type": "code",
   "execution_count": 20,
   "id": "de815a79",
   "metadata": {},
   "outputs": [
    {
     "name": "stdout",
     "output_type": "stream",
     "text": [
      "2024 Audi A4\n",
      "This car has 0 miles on it.\n"
     ]
    }
   ],
   "source": [
    "#用__init__() 方法为属性指定默认值\n",
    "class Car:\n",
    "    def __init__(self, make, model, year):\n",
    "        \"\"\"初始化描述汽车的属性\"\"\"\n",
    "        self.make = make\n",
    "        self.model = model\n",
    "        self.year = year\n",
    "        #创建odometer_reading属性，并将其初始值设置为 0\n",
    "        self.odometer_reading = 0\n",
    "        \n",
    "    def get_descriptive_name(self):\n",
    "        \"\"\"返回格式规范的描述性信息\"\"\"\n",
    "        long_name = f\"{self.year} {self.make} {self.model}\"\n",
    "        return long_name.title()\n",
    "    \n",
    "    def read_odometer(self):\n",
    "        \"\"\"打印一条指出汽车行驶里程的消息\"\"\"\n",
    "        print(f\"This car has {self.odometer_reading} miles on it.\")\n",
    "            \n",
    "my_new_car = Car('audi', 'a4', 2024)\n",
    "print(my_new_car.get_descriptive_name())\n",
    "my_new_car.read_odometer()"
   ]
  },
  {
   "cell_type": "markdown",
   "id": "e6e8f7f1",
   "metadata": {},
   "source": [
    "### 9.2.3　修改属性的值"
   ]
  },
  {
   "cell_type": "markdown",
   "id": "95ac5537",
   "metadata": {},
   "source": [
    "###### 三种方式修改属性值：直接通过实例修改，通过方法设置，以及通过方法递增（增加特定的值）"
   ]
  },
  {
   "cell_type": "code",
   "execution_count": 21,
   "id": "6c816962",
   "metadata": {},
   "outputs": [
    {
     "name": "stdout",
     "output_type": "stream",
     "text": [
      "2024 Audi A4\n",
      "This car has 23 miles on it.\n"
     ]
    }
   ],
   "source": [
    "#直接修改属性的值\n",
    "my_new_car = Car('audi', 'a4', 2024)\n",
    "print(my_new_car.get_descriptive_name())\n",
    "\n",
    "#使用点号直接访问并设置汽车的属性 odometer_reading\n",
    "my_new_car.odometer_reading = 23\n",
    "my_new_car.read_odometer()"
   ]
  },
  {
   "cell_type": "code",
   "execution_count": 22,
   "id": "1792a0bd",
   "metadata": {},
   "outputs": [
    {
     "name": "stdout",
     "output_type": "stream",
     "text": [
      "2024 Audi A4\n",
      "This car has 23 miles on it.\n"
     ]
    }
   ],
   "source": [
    "#通过方法修改属性的值\n",
    "class Car:\n",
    "    def __init__(self, make, model, year):\n",
    "        \"\"\"初始化描述汽车的属性\"\"\"\n",
    "        self.make = make\n",
    "        self.model = model\n",
    "        self.year = year\n",
    "        #创建odometer_reading属性，并将其初始值设置为 0\n",
    "        self.odometer_reading = 0\n",
    "        \n",
    "    def get_descriptive_name(self):\n",
    "        \"\"\"返回格式规范的描述性信息\"\"\"\n",
    "        long_name = f\"{self.year} {self.make} {self.model}\"\n",
    "        return long_name.title()\n",
    "    \n",
    "    def read_odometer(self):\n",
    "        \"\"\"打印一条指出汽车行驶里程的消息\"\"\"\n",
    "        print(f\"This car has {self.odometer_reading} miles on it.\")\n",
    "    \n",
    "    #添加更新属性的方法\n",
    "    def update_odometer(self, mileage):\n",
    "        \"\"\"\n",
    "        将里程表读数设置为指定的值\n",
    "        禁止将里程表读数往回调\n",
    "        \"\"\"\n",
    "        self.odometer_reading = mileage\n",
    "        #禁止将里程表读数回调\n",
    "        if mileage >= self.odometer_reading:\n",
    "            self.odometer_reading = mileage\n",
    "        else:\n",
    "            print(\"You can't roll back an odometer!\")\n",
    "\n",
    "my_new_car = Car('audi', 'a4', 2024)\n",
    "print(my_new_car.get_descriptive_name())\n",
    "\n",
    "my_new_car.update_odometer(23)\n",
    "my_new_car.read_odometer()"
   ]
  },
  {
   "cell_type": "code",
   "execution_count": 23,
   "id": "9609beae",
   "metadata": {},
   "outputs": [
    {
     "name": "stdout",
     "output_type": "stream",
     "text": [
      "2019 Subaru Outback\n",
      "This car has 23500 miles on it.\n",
      "This car has 23600 miles on it.\n"
     ]
    }
   ],
   "source": [
    "#通过方法让属性的值递增\n",
    "class Car:\n",
    "    def __init__(self, make, model, year):\n",
    "        \"\"\"初始化描述汽车的属性\"\"\"\n",
    "        self.make = make\n",
    "        self.model = model\n",
    "        self.year = year\n",
    "        #创建odometer_reading属性，并将其初始值设置为 0\n",
    "        self.odometer_reading = 0\n",
    "        \n",
    "    def get_descriptive_name(self):\n",
    "        \"\"\"返回格式规范的描述性信息\"\"\"\n",
    "        long_name = f\"{self.year} {self.make} {self.model}\"\n",
    "        return long_name.title()\n",
    "    \n",
    "    def read_odometer(self):\n",
    "        \"\"\"打印一条指出汽车行驶里程的消息\"\"\"\n",
    "        print(f\"This car has {self.odometer_reading} miles on it.\")\n",
    "    \n",
    "    #添加更新属性的方法\n",
    "    def update_odometer(self, mileage):\n",
    "        \"\"\"\n",
    "        将里程表读数设置为指定的值\n",
    "        禁止将里程表读数往回调\n",
    "        \"\"\"\n",
    "        self.odometer_reading = mileage\n",
    "        #禁止将里程表读数回调\n",
    "        if mileage >= self.odometer_reading:\n",
    "            self.odometer_reading = mileage\n",
    "        else:\n",
    "            print(\"You can't roll back an odometer!\")\n",
    "            \n",
    "    def increment_odometer(self, miles):\n",
    "        \"\"\"让里程表读数增加指定的量\"\"\"\n",
    "        #禁止增量为负\n",
    "        if miles > 0:\n",
    "            self.odometer_reading += miles\n",
    "        else:\n",
    "            print(\"The increment_odometer can't be negative number!\")\n",
    "        \n",
    "my_used_car = Car('subaru', 'outback', 2019)\n",
    "print(my_used_car.get_descriptive_name())\n",
    "\n",
    "my_used_car.update_odometer(23_500)\n",
    "my_used_car.read_odometer()\n",
    "\n",
    "my_used_car.increment_odometer(100)\n",
    "my_used_car.read_odometer()"
   ]
  },
  {
   "cell_type": "markdown",
   "id": "b54f8650",
   "metadata": {},
   "source": [
    "### 练习"
   ]
  },
  {
   "cell_type": "code",
   "execution_count": 83,
   "id": "89fe2282",
   "metadata": {},
   "outputs": [
    {
     "name": "stdout",
     "output_type": "stream",
     "text": [
      "0 person had dinner at Hunnanrenjia.\n",
      "6 persons had dinner at Daomanxiang.\n",
      "9 persons had dinner at Daomanxiang.\n",
      "19 persons had dinner at Daomanxiang.\n"
     ]
    }
   ],
   "source": [
    "#9.4 就餐人数\n",
    "class Restaurant:\n",
    "    \"\"\"描述餐厅基础信息\"\"\"\n",
    "\n",
    "    def __init__(self, restaurant_name, cuisine_type, number_served=0):\n",
    "        \"\"\"初始化描述餐厅的信息\"\"\"\n",
    "        self.restaurant_name = restaurant_name\n",
    "        self.cuisine_type = cuisine_type\n",
    "        self.number_served = number_served\n",
    "    \n",
    "    def describe_restaurant(self):\n",
    "        \"\"\"打印餐厅信息\"\"\"\n",
    "        restaurant_info = f\"{self.restaurant_name} {self.cuisine_type}\"\n",
    "        return restaurant_info.title()\n",
    "\n",
    "    def open_restaurant(self):\n",
    "        \"\"\"指出餐厅正在营业\"\"\"\n",
    "        print(f\"{self.restaurant_name.title()} is opening.\")\n",
    "\n",
    "    def set_number_served(self,p_number):\n",
    "        \"\"\"设置就餐人数\"\"\"\n",
    "        self.number_served = p_number\n",
    "        print(f'{self.number_served} persons had dinner at {self.restaurant_name.title()}.')\n",
    "\n",
    "    def increment_number_served(self, num):\n",
    "        \"\"\"添加餐厅就餐的人数\"\"\"\n",
    "        self.number_served += num\n",
    "        print(f'{self.number_served} persons had dinner at {self.restaurant_name.title()}.')\n",
    "\n",
    "restaurant = Restaurant('hunnanrenjia', 'haixing')\n",
    "print(f'{restaurant.number_served} person had dinner at {restaurant.restaurant_name.title()}.')\n",
    "\n",
    "restaurant = Restaurant('daomanxiang', 'delicious', 6)\n",
    "print(f'{restaurant.number_served} persons had dinner at {restaurant.restaurant_name.title()}.')\n",
    "\n",
    "restaurant.set_number_served(9)\n",
    "restaurant.increment_number_served(10)"
   ]
  },
  {
   "cell_type": "code",
   "execution_count": 80,
   "id": "39b3f7ea",
   "metadata": {},
   "outputs": [
    {
     "data": {
      "text/plain": [
       "0"
      ]
     },
     "execution_count": 80,
     "metadata": {},
     "output_type": "execute_result"
    }
   ],
   "source": [
    "#9.5 尝试登录次数\n",
    "class User:\n",
    "    \"\"\"描述用户基本信息\"\"\"\n",
    "\n",
    "    def __init__(self, first_name, last_name, age, login_attempts):\n",
    "        \"\"\"初始化描述用户的信息\"\"\"\n",
    "        self.f_name = first_name\n",
    "        self.l_name = last_name\n",
    "        self.age = age\n",
    "        self.login_attempts = login_attempts\n",
    "    \n",
    "    def describe_user(self):\n",
    "        \"\"\"打印用户信息摘要\"\"\"\n",
    "        print(f'\\n{self.f_name.title()} {self.l_name.title()} {self.age}')\n",
    "\n",
    "    def greet_user(self):\n",
    "        \"\"\"向用户发出个性化的问候\"\"\"\n",
    "        print(f\"Hello, {self.f_name.title()} {self.l_name.title()}!\")\n",
    "\n",
    "    def increment_login_attempts(self):\n",
    "        \"\"\"将属性login_attempts的值加1\"\"\"\n",
    "        self.login_attempts += 1\n",
    "\n",
    "    def reset_login_attempts(self):\n",
    "        \"\"\"重置login_attempts的次数\"\"\"\n",
    "        self.login_attempts = 0\n",
    "\n",
    "my_user = User('lan','weiran',20,1)\n",
    "\n",
    "my_user.increment_login_attempts()\n",
    "my_user.login_attempts\n",
    "\n",
    "my_user.increment_login_attempts()\n",
    "my_user.login_attempts\n",
    "\n",
    "my_user.increment_login_attempts()\n",
    "my_user.login_attempts\n",
    "\n",
    "my_user.reset_login_attempts()\n",
    "my_user.login_attempts"
   ]
  },
  {
   "cell_type": "markdown",
   "id": "8478e0c4",
   "metadata": {},
   "source": [
    "## 9.3 继承"
   ]
  },
  {
   "cell_type": "markdown",
   "id": "66f9db04",
   "metadata": {},
   "source": [
    "###### 子类继承父类的所有属性和方法，还可定义自己的属性和方法。"
   ]
  },
  {
   "cell_type": "markdown",
   "id": "cec80ab0",
   "metadata": {},
   "source": [
    "### 9.3.1　子类的 __init__() 方法"
   ]
  },
  {
   "cell_type": "code",
   "execution_count": 26,
   "id": "81791720",
   "metadata": {},
   "outputs": [
    {
     "name": "stdout",
     "output_type": "stream",
     "text": [
      "2024 Nissan Leaf\n"
     ]
    }
   ],
   "source": [
    "#electric_car.py\n",
    "class Car:\n",
    "    \"\"\"一次模拟汽车的简单尝试\"\"\"\n",
    "    \n",
    "    def __init__(self, make, model, year):\n",
    "        \"\"\"初始化描述汽车的属性\"\"\"\n",
    "        self.make = make\n",
    "        self.model = model\n",
    "        self.year = year\n",
    "        self.odometer_reading = 0\n",
    "        \n",
    "    def get_descriptive_name(self):\n",
    "        \"\"\"返回格式规范的描述性名称\"\"\"\n",
    "        long_name = f\"{self.year} {self.make} {self.model}\"\n",
    "        return long_name.title()\n",
    "    \n",
    "    def read_odometer(self):\n",
    "        \"\"\"打印一个句子，指出汽车的行驶里程\"\"\"\n",
    "        print(f\"This car has {self.odometer_reading} miles on it.\")\n",
    "        \n",
    "    def update_odometer(self, mileage):\n",
    "        \"\"\"将里程表读数设置为给定的值\"\"\"\n",
    "        if mileage >= self.odometer_reading:\n",
    "            self.odometer_reading = mileage\n",
    "        else:\n",
    "            print(\"You can't roll back an odometer!\")\n",
    "        \n",
    "    def increment_odometer(self, miles):\n",
    "        \"\"\"让里程表读数增加给定的量\"\"\"\n",
    "        self.odometer_reading += miles\n",
    "        \n",
    "class ElectricCar(Car):\n",
    "    \"\"\"电动汽车的独特之处\"\"\"\n",
    "    \n",
    "    def __init__(self, make, model, year):\n",
    "        \"\"\"初始化父类的属性\"\"\"\n",
    "        super().__init__(make, model, year)\n",
    "\n",
    "my_leaf = ElectricCar('nissan', 'leaf', 2024)\n",
    "print(my_leaf.get_descriptive_name())"
   ]
  },
  {
   "cell_type": "markdown",
   "id": "3482e8fc-b0b5-4ec4-b846-4854a98d657d",
   "metadata": {},
   "source": [
    "### **9.3.2 给子类定义属性和方法**"
   ]
  },
  {
   "cell_type": "code",
   "execution_count": 27,
   "id": "413a4500-5763-42f6-8fcd-a1e6c3f72c6a",
   "metadata": {
    "execution": {
     "iopub.execute_input": "2024-04-26T08:29:19.392065Z",
     "iopub.status.busy": "2024-04-26T08:29:19.392065Z",
     "iopub.status.idle": "2024-04-26T08:29:19.403872Z",
     "shell.execute_reply": "2024-04-26T08:29:19.403872Z",
     "shell.execute_reply.started": "2024-04-26T08:29:19.392065Z"
    }
   },
   "outputs": [
    {
     "name": "stdout",
     "output_type": "stream",
     "text": [
      "2024 Nissan Leaf\n",
      "This car has a 40-kwh battery.\n"
     ]
    }
   ],
   "source": [
    "class Car:\n",
    "    \"\"\"一次模拟汽车的简单尝试\"\"\"\n",
    "\n",
    "    def __init__(self, make, model, year):\n",
    "        \"\"\"初始化描述汽车的属性\"\"\"\n",
    "        self.make = make\n",
    "        self.model = model\n",
    "        self.year = year\n",
    "        self.odometer_reading = 0\n",
    "\n",
    "    def get_descriptive_name(self):\n",
    "        \"\"\"返回格式规范的描述性信息\"\"\"\n",
    "        long_name = f\"{self.year} {self.make} {self.model}\"\n",
    "        return long_name.title()\n",
    "\n",
    "    def read_odometer(self):\n",
    "        \"\"\"打印一条指出汽车行驶里程的消息\"\"\"\n",
    "        print(f\"This car has {self.odometer_reading} miles on it.\")\n",
    "\n",
    "    def update_odometer(self, mileage):#添加一个方法，接受一个里程值\n",
    "        \"\"\"\n",
    "        将里程表读数设置为指定的值\n",
    "        禁止将里程碑读数往回调\n",
    "        \"\"\"\n",
    "        if mileage >= self.odometer_reading:\n",
    "            self.odometer_reading = mileage #将里程值赋给self.odometer_reading\n",
    "        else:\n",
    "            print(\"You cant't roll back an odometer\")\n",
    "\n",
    "    def increment_odometer(self, miles):\n",
    "        \"\"\"让里程表读数增加指定的量\"\"\"\n",
    "        self.odometer_reading += miles\n",
    "\n",
    "class ElectricCar(Car):\n",
    "    \"\"\"电动汽车的独特之处\"\"\"\n",
    "\n",
    "    def __init__(self, make, model, year):\n",
    "        \"\"\"\n",
    "        先初始化父类的属性，再初始化电动汽车特有的属性\n",
    "        \"\"\"\n",
    "        super().__init__(make, model, year)\n",
    "        self.battery_size = 40 #添加新属性并给属性默认值\n",
    "        \n",
    "#添加新方法描述电池信息\n",
    "    def describe_battery(self):\n",
    "        \"\"\"打印一条描述电池容量的消息\"\"\"\n",
    "        print(f\"This car has a {self.battery_size}-kwh battery.\")\n",
    "\n",
    "my_leaf = ElectricCar('nissan', 'leaf', 2024)\n",
    "print(my_leaf.get_descriptive_name())\n",
    "my_leaf.describe_battery()"
   ]
  },
  {
   "cell_type": "markdown",
   "id": "90762450-0df0-4df7-a057-0b1595d4eaa6",
   "metadata": {},
   "source": [
    "### **9.3.3 重写父类中的方法**"
   ]
  },
  {
   "cell_type": "code",
   "execution_count": 29,
   "id": "0bad8f45-938b-4d8c-9c71-bc7759d78b55",
   "metadata": {
    "execution": {
     "iopub.execute_input": "2024-04-26T08:32:55.634499Z",
     "iopub.status.busy": "2024-04-26T08:32:55.634499Z",
     "iopub.status.idle": "2024-04-26T08:32:55.648497Z",
     "shell.execute_reply": "2024-04-26T08:32:55.648497Z",
     "shell.execute_reply.started": "2024-04-26T08:32:55.634499Z"
    }
   },
   "outputs": [],
   "source": [
    "class ElectricCar(Car):\n",
    "    \"\"\"电动汽车的独特之处\"\"\"\n",
    "\n",
    "    def __init__(self, make, model, year):\n",
    "        \"\"\"\n",
    "        先初始化父类的属性，再初始化电动汽车特有的属性\n",
    "        \"\"\"\n",
    "        super().__init__(make, model, year)\n",
    "        self.battery_size = 40 #添加新属性并给属性默认值\n",
    "        \n",
    "#添加新方法描述电池信息\n",
    "    def describe_battery(self):\n",
    "        \"\"\"打印一条描述电池容量的消息\"\"\"\n",
    "        print(f\"This car has a {self.battery_size}-kwh battery.\")\n",
    "        \n",
    "#重写方法覆盖以前的方法\n",
    "    def fill_gas_tank(self):\n",
    "        \"\"\"电动汽车没有油箱\"\"\"\n",
    "        print(\"This car doesn't have a gas tank!\")"
   ]
  },
  {
   "cell_type": "markdown",
   "id": "03ea8cf6-d3c6-4a12-bb88-17a7ac9fba5b",
   "metadata": {},
   "source": [
    "### **9.3.4 将实例用作属性**"
   ]
  },
  {
   "cell_type": "code",
   "execution_count": 31,
   "id": "61785016-1001-4cc4-9f6b-5cfdd4ca842d",
   "metadata": {
    "execution": {
     "iopub.execute_input": "2024-04-28T10:46:08.551700Z",
     "iopub.status.busy": "2024-04-28T10:46:08.551700Z",
     "iopub.status.idle": "2024-04-28T10:46:08.577518Z",
     "shell.execute_reply": "2024-04-28T10:46:08.577518Z",
     "shell.execute_reply.started": "2024-04-28T10:46:08.551700Z"
    }
   },
   "outputs": [
    {
     "name": "stdout",
     "output_type": "stream",
     "text": [
      "2024 Nissan Leaf\n",
      "This car has a 40-kwh battery.\n"
     ]
    }
   ],
   "source": [
    "#组合（composition）：将大型类拆分成多个协同工作的小类\n",
    "class Car:\n",
    "    \"\"\"一次模拟汽车的简单尝试\"\"\"\n",
    "\n",
    "    def __init__(self, make, model, year):\n",
    "        \"\"\"初始化描述汽车的属性\"\"\"\n",
    "        self.make = make\n",
    "        self.model = model\n",
    "        self.year = year\n",
    "        self.odometer_reading = 0\n",
    "\n",
    "    def get_descriptive_name(self):\n",
    "        \"\"\"返回格式规范的描述性信息\"\"\"\n",
    "        long_name = f\"{self.year} {self.make} {self.model}\"\n",
    "        return long_name.title()\n",
    "\n",
    "    def read_odometer(self):\n",
    "        \"\"\"打印一条指出汽车行驶里程的消息\"\"\"\n",
    "        print(f\"This car has {self.odometer_reading} miles on it.\")\n",
    "\n",
    "    def update_odometer(self, mileage):#添加一个方法，接受一个里程值\n",
    "        \"\"\"\n",
    "        将里程表读数设置为指定的值\n",
    "        禁止将里程碑读数往回调\n",
    "        \"\"\"\n",
    "        if mileage >= self.odometer_reading:\n",
    "            self.odometer_reading = mileage #将里程值赋给self.odometer_reading\n",
    "        else:\n",
    "            print(\"You cant't roll back an odometer\")\n",
    "\n",
    "    def increment_odometer(self, miles):\n",
    "        \"\"\"让里程表读数增加指定的量\"\"\"\n",
    "        self.odometer_reading += miles\n",
    "\n",
    "#提取 ElectricCar 类关于汽车电池的属性和方法放入Battery中\n",
    "class Battery:\n",
    "    \"\"\"一次模拟电动汽车电池的简单尝试\"\"\"\n",
    "\n",
    "    def __init__(self, battery_size=40):\n",
    "        \"\"\"初始化电池的属性\"\"\"\n",
    "        self.battery_size = battery_size\n",
    "\n",
    "    def describe_battery(self):\n",
    "        \"\"\"打印一条描述电池容量的消息\"\"\"\n",
    "        print(f\"This car has a {self.battery_size}-kwh battery.\")\n",
    "\n",
    "class ElectricCar(Car):\n",
    "    \"\"\"电动汽车的独特之处\"\"\"\n",
    "\n",
    "    def __init__(self, make, model, year):\n",
    "        \"\"\"\n",
    "        先初始化父类的属性，再初始化电动汽车特有的属性\n",
    "        \"\"\"\n",
    "        super().__init__(make, model, year)\n",
    "        self.battery = Battery() #创建一个新的Battery实例并赋给一个新的属性\n",
    "\n",
    "my_leaf = ElectricCar('nissan', 'leaf', 2024)\n",
    "print(my_leaf.get_descriptive_name())\n",
    "my_leaf.battery.describe_battery()"
   ]
  },
  {
   "cell_type": "code",
   "execution_count": 32,
   "id": "9c216d42-e4a6-405d-85d4-a7fa58479d9c",
   "metadata": {
    "execution": {
     "iopub.execute_input": "2024-04-28T10:55:17.240206Z",
     "iopub.status.busy": "2024-04-28T10:55:17.240206Z",
     "iopub.status.idle": "2024-04-28T10:55:17.261501Z",
     "shell.execute_reply": "2024-04-28T10:55:17.261501Z",
     "shell.execute_reply.started": "2024-04-28T10:55:17.240206Z"
    }
   },
   "outputs": [
    {
     "name": "stdout",
     "output_type": "stream",
     "text": [
      "2024 Nissan Leaf\n",
      "This car has a 40-kwh battery.\n",
      "This car can go about 150 miles on a full charge.\n"
     ]
    }
   ],
   "source": [
    "class Car:\n",
    "    \"\"\"一次模拟汽车的简单尝试\"\"\"\n",
    "\n",
    "    def __init__(self, make, model, year):\n",
    "        \"\"\"初始化描述汽车的属性\"\"\"\n",
    "        self.make = make\n",
    "        self.model = model\n",
    "        self.year = year\n",
    "        self.odometer_reading = 0\n",
    "\n",
    "    def get_descriptive_name(self):\n",
    "        \"\"\"返回格式规范的描述性信息\"\"\"\n",
    "        long_name = f\"{self.year} {self.make} {self.model}\"\n",
    "        return long_name.title()\n",
    "\n",
    "    def read_odometer(self):\n",
    "        \"\"\"打印一条指出汽车行驶里程的消息\"\"\"\n",
    "        print(f\"This car has {self.odometer_reading} miles on it.\")\n",
    "\n",
    "    def update_odometer(self, mileage):#添加一个方法，接受一个里程值\n",
    "        \"\"\"\n",
    "        将里程表读数设置为指定的值\n",
    "        禁止将里程碑读数往回调\n",
    "        \"\"\"\n",
    "        if mileage >= self.odometer_reading:\n",
    "            self.odometer_reading = mileage #将里程值赋给self.odometer_reading\n",
    "        else:\n",
    "            print(\"You cant't roll back an odometer\")\n",
    "\n",
    "    def increment_odometer(self, miles):\n",
    "        \"\"\"让里程表读数增加指定的量\"\"\"\n",
    "        self.odometer_reading += miles\n",
    "\n",
    "class Battery:\n",
    "    \"\"\"一次模拟电动汽车电池的简单尝试\"\"\"\n",
    "\n",
    "    def __init__(self, battery_size=40):\n",
    "        \"\"\"初始化电池的属性\"\"\"\n",
    "        self.battery_size = battery_size\n",
    "\n",
    "    def describe_battery(self):\n",
    "        \"\"\"打印一条描述电池容量的消息\"\"\"\n",
    "        print(f\"This car has a {self.battery_size}-kwh battery.\")\n",
    "    \n",
    "    #给Battery类增加方法报告续航里程\n",
    "    def get_range(self):\n",
    "        \"\"\"打印一条消息，指出电池的续航里程\"\"\"\n",
    "        if self.battery_size == 40:\n",
    "            range = 150\n",
    "        elif self.battery_size == 65:\n",
    "            range = 225\n",
    "\n",
    "        print(f\"This car can go about {range} miles on a full charge.\")\n",
    "        \n",
    "class ElectricCar(Car):\n",
    "    \"\"\"电动汽车的独特之处\"\"\"\n",
    "\n",
    "    def __init__(self, make, model, year):\n",
    "        \"\"\"\n",
    "        先初始化父类的属性，再初始化电动汽车特有的属性\n",
    "        \"\"\"\n",
    "        super().__init__(make, model, year)\n",
    "        self.battery = Battery() #创建一个新的Battery实例并赋给一个新的属性\n",
    "\n",
    "my_leaf = ElectricCar('nissan', 'leaf', 2024)\n",
    "print(my_leaf.get_descriptive_name())\n",
    "my_leaf.battery.describe_battery()\n",
    "my_leaf.battery.get_range()"
   ]
  },
  {
   "cell_type": "markdown",
   "id": "add87084",
   "metadata": {},
   "source": [
    "### 练习"
   ]
  },
  {
   "cell_type": "code",
   "execution_count": 84,
   "id": "9732dcb5",
   "metadata": {
    "execution": {
     "iopub.execute_input": "2024-04-30T07:17:34.376558Z",
     "iopub.status.busy": "2024-04-30T07:17:34.376558Z",
     "iopub.status.idle": "2024-04-30T07:17:34.387227Z",
     "shell.execute_reply": "2024-04-30T07:17:34.387227Z",
     "shell.execute_reply.started": "2024-04-30T07:17:34.376558Z"
    }
   },
   "outputs": [
    {
     "name": "stdout",
     "output_type": "stream",
     "text": [
      "mango\n",
      "banana\n",
      "strawberry\n"
     ]
    }
   ],
   "source": [
    "#9.6 冰淇淋小店\n",
    "class Restaurant:\n",
    "    \"\"\"描述餐厅基础信息\"\"\"\n",
    "\n",
    "    def __init__(self, restaurant_name, cuisine_type, number_served=0):\n",
    "        \"\"\"初始化描述餐厅的信息\"\"\"\n",
    "        self.restaurant_name = restaurant_name\n",
    "        self.cuisine_type = cuisine_type\n",
    "        self.number_served = number_served\n",
    "    \n",
    "    def describe_restaurant(self):\n",
    "        \"\"\"打印餐厅信息\"\"\"\n",
    "        restaurant_info = f\"{self.restaurant_name} {self.cuisine_type}\"\n",
    "        return restaurant_info.title()\n",
    "\n",
    "    def open_restaurant(self):\n",
    "        \"\"\"指出餐厅正在营业\"\"\"\n",
    "        print(f\"{self.restaurant_name.title()} is opening.\")\n",
    "\n",
    "    def set_number_served(self,p_number):\n",
    "        \"\"\"设置就餐人数\"\"\"\n",
    "        self.number_served = p_number\n",
    "        print(f'{self.number_served} persons had dinner at {self.restaurant_name.title()}.')\n",
    "\n",
    "    def increment_number_served(self, num):\n",
    "        \"\"\"添加餐厅就餐的人数\"\"\"\n",
    "        self.number_served += num\n",
    "        print(f'{self.number_served} persons had dinner at {self.restaurant_name.title()}.')\n",
    "\n",
    "class IceCreamStand(Restaurant):\n",
    "    \"\"\"冰激凌小店的信息\"\"\"\n",
    "\n",
    "    def __init__(self, restaurant_name, cuisine_type, number_served=0):\n",
    "        \"\"\"\n",
    "        先初始化父类的属性，再初始化冰激凌小店的属性\n",
    "        \"\"\"\n",
    "        super().__init__(restaurant_name, cuisine_type, number_served=0)\n",
    "        self.flavors = ['mango', 'banana', 'strawberry']\n",
    "\n",
    "    def describe_flavors(self):\n",
    "        \"\"\"显示冰激凌口味\"\"\"\n",
    "        for flavor in self.flavors:\n",
    "            print(flavor)\n",
    "\n",
    "icecream = IceCreamStand('icecreamstand', 'ice_cream', 12)\n",
    "icecream.describe_flavors()"
   ]
  },
  {
   "cell_type": "code",
   "execution_count": 34,
   "id": "c1e06ec9",
   "metadata": {
    "execution": {
     "iopub.execute_input": "2024-04-30T07:29:28.715075Z",
     "iopub.status.busy": "2024-04-30T07:29:28.715075Z",
     "iopub.status.idle": "2024-04-30T07:29:28.731854Z",
     "shell.execute_reply": "2024-04-30T07:29:28.731590Z",
     "shell.execute_reply.started": "2024-04-30T07:29:28.715075Z"
    }
   },
   "outputs": [
    {
     "name": "stdout",
     "output_type": "stream",
     "text": [
      "can add post\n",
      "can delete post\n",
      "can ban user\n"
     ]
    }
   ],
   "source": [
    "#9.7 管理员\n",
    "class User:\n",
    "    \"\"\"描述用户基本信息\"\"\"\n",
    "\n",
    "    def __init__(self, first_name, last_name, age):\n",
    "        \"\"\"初始化描述用户的信息\"\"\"\n",
    "        self.f_name = first_name\n",
    "        self.l_name = last_name\n",
    "        self.age = age\n",
    "\n",
    "    def describe_user(self):\n",
    "        \"\"\"打印用户信息摘要\"\"\"\n",
    "        print(f'\\n{self.f_name.title()} {self.l_name.title()} {self.age}')\n",
    "\n",
    "    def greet_user(self):\n",
    "        \"\"\"向用户发出个性化的问候\"\"\"\n",
    "        print(f\"Hello, {self.f_name.title()} {self.l_name.title()}!\")\n",
    "\n",
    "class Admin(User):\n",
    "    \"\"\"管理员的特殊之处\"\"\"\n",
    "\n",
    "    def __init__(self, first_name, last_name, age):\n",
    "        \"\"\"初始化父类和管理员的属性\"\"\"\n",
    "        super().__init__(first_name, last_name, age)\n",
    "        self.privileges = ['can add post', 'can delete post', 'can ban user']\n",
    "\n",
    "    def show_privileges(self):\n",
    "        \"\"\"显示管理员的权限\"\"\"\n",
    "        for privilege in self.privileges:\n",
    "            print(privilege)\n",
    "\n",
    "admin = Admin('qian', 'qian', 20)\n",
    "admin.show_privileges()"
   ]
  },
  {
   "cell_type": "code",
   "execution_count": 35,
   "id": "ad5c6498",
   "metadata": {
    "execution": {
     "iopub.execute_input": "2024-04-30T07:35:39.081616Z",
     "iopub.status.busy": "2024-04-30T07:35:39.081616Z",
     "iopub.status.idle": "2024-04-30T07:35:39.095742Z",
     "shell.execute_reply": "2024-04-30T07:35:39.095742Z",
     "shell.execute_reply.started": "2024-04-30T07:35:39.081616Z"
    }
   },
   "outputs": [
    {
     "name": "stdout",
     "output_type": "stream",
     "text": [
      "can add post\n",
      "can delete post\n",
      "can ban user\n"
     ]
    }
   ],
   "source": [
    "#9.8 权限\n",
    "class Privileges:\n",
    "    \"\"\"关于权限的类\"\"\"\n",
    "\n",
    "    def __init__(self, privileges):\n",
    "        \"\"\"初始化权限属性\"\"\"\n",
    "        self.privileges = ['can add post', 'can delete post', 'can ban user']\n",
    "\n",
    "    def show_privileges(self):\n",
    "        \"\"\"显示管理员的权限\"\"\"\n",
    "        for privilege in self.privileges:\n",
    "            print(privilege)\n",
    "\n",
    "admin = Admin('qian', 'qian', 22)\n",
    "admin.show_privileges()"
   ]
  },
  {
   "cell_type": "code",
   "execution_count": 85,
   "id": "a6c3c719",
   "metadata": {
    "execution": {
     "iopub.execute_input": "2024-04-30T07:43:25.272579Z",
     "iopub.status.busy": "2024-04-30T07:43:25.272579Z",
     "iopub.status.idle": "2024-04-30T07:43:25.289459Z",
     "shell.execute_reply": "2024-04-30T07:43:25.289459Z",
     "shell.execute_reply.started": "2024-04-30T07:43:25.272579Z"
    }
   },
   "outputs": [
    {
     "name": "stdout",
     "output_type": "stream",
     "text": [
      "This car can go about 150 miles on a full charge.\n",
      "This car can go about 225 miles on a full charge.\n"
     ]
    }
   ],
   "source": [
    "#9.9 电池升级\n",
    "\"\"\"一组用于表示燃油汽车和电动汽车的类\"\"\"\n",
    "\n",
    "class Car:\n",
    "    \"\"\"一次模拟汽车的简单尝试\"\"\"\n",
    "\n",
    "    def __init__(self, make, model, year):\n",
    "        \"\"\"初始化描述汽车的属性\"\"\"\n",
    "        self.make = make\n",
    "        self.model = model\n",
    "        self.year = year\n",
    "        self.odometer_reading = 0\n",
    "\n",
    "    def get_descriptive_name(self):\n",
    "        \"\"\"返回格式规范的描述性信息\"\"\"\n",
    "        long_name = f\"{self.year} {self.make} {self.model}\"\n",
    "        return long_name.title()\n",
    "\n",
    "    def read_odometer(self):\n",
    "        \"\"\"打印一条指出汽车行驶里程的消息\"\"\"\n",
    "        print(f\"This car has {self.odometer_reading} miles on it.\")\n",
    "\n",
    "    def update_odometer(self, mileage):#添加一个方法，接受一个里程值\n",
    "        \"\"\"\n",
    "        将里程表读数设置为指定的值\n",
    "        禁止将里程碑读数往回调\n",
    "        \"\"\"\n",
    "        if mileage >= self.odometer_reading:\n",
    "            self.odometer_reading = mileage #将里程值赋给self.odometer_reading\n",
    "        else:\n",
    "            print(\"You cant't roll back an odometer\")\n",
    "\n",
    "    def increment_odometer(self, miles):\n",
    "        \"\"\"让里程表读数增加指定的量\"\"\"\n",
    "        self.odometer_reading += miles\n",
    "\n",
    "class Battery:\n",
    "    \"\"\"一次模拟电动汽车电池的简单尝试\"\"\"\n",
    "\n",
    "    def __init__(self, battery_size=40):\n",
    "        \"\"\"初始化电池的属性\"\"\"\n",
    "        self.battery_size = battery_size\n",
    "\n",
    "    def describe_battery(self):\n",
    "        \"\"\"打印一条描述电池容量的消息\"\"\"\n",
    "        print(f\"This car has a {self.battery_size}-kwh battery.\")\n",
    "\n",
    "    def get_range(self):\n",
    "        \"\"\"打印一条消息，指出电池的续航里程\"\"\"\n",
    "        if self.battery_size == 40:\n",
    "            range = 150\n",
    "        elif self.battery_size == 65:\n",
    "            range = 225\n",
    "\n",
    "        print(f\"This car can go about {range} miles on a full charge.\")\n",
    "\n",
    "    def upgrade_battery(self):\n",
    "        \"\"\"升级电池容量\"\"\"\n",
    "        if self.battery_size < 65:\n",
    "            self.battery_size = 65\n",
    "        \n",
    "class ElectricCar(Car):\n",
    "    \"\"\"电动汽车的独特之处\"\"\"\n",
    "\n",
    "    def __init__(self, make, model, year):\n",
    "        \"\"\"\n",
    "        先初始化父类的属性，再初始化电动汽车特有的属性\n",
    "        \"\"\"\n",
    "        super().__init__(make, model, year)\n",
    "        self.battery = Battery() #创建一个新的Battery实例并赋给一个新的属性\n",
    "\n",
    "my_car = ElectricCar('xiaomu', 'su7', 2024)\n",
    "my_car.battery.get_range()\n",
    "my_car.battery.upgrade_battery()\n",
    "my_car.battery.get_range()"
   ]
  },
  {
   "cell_type": "markdown",
   "id": "9cf038d9-aea1-4011-8a06-6b811964c165",
   "metadata": {},
   "source": [
    "## **9.4 导入类**"
   ]
  },
  {
   "cell_type": "markdown",
   "id": "e2f82d87-f722-43b0-bd52-87f6ecec2f3e",
   "metadata": {},
   "source": [
    "### **9.4.1 导入单个类**"
   ]
  },
  {
   "cell_type": "code",
   "execution_count": 130,
   "id": "dbd938ce-fc33-4910-9bae-35cecebfdda0",
   "metadata": {},
   "outputs": [],
   "source": [
    "#car.py\n",
    "\"\"\"一个用来表示汽车的类\"\"\"\n",
    "\n",
    "class Car:\n",
    "    \"\"\"一次模拟汽车的简单尝试\"\"\"\n",
    "\n",
    "    def __init__(self, make, model, year):\n",
    "        \"\"\"初始化描述汽车的属性\"\"\"\n",
    "        self.make = make\n",
    "        self.model = model\n",
    "        self.year = year\n",
    "        self.odometer_reading = 0\n",
    "\n",
    "    def get_descriptive_name(self):\n",
    "        \"\"\"返回格式规范的描述性信息\"\"\"\n",
    "        long_name = f\"{self.year} {self.make} {self.model}\"\n",
    "        return long_name.title()\n",
    "\n",
    "    def read_odometer(self):\n",
    "        \"\"\"打印一条指出汽车行驶里程的消息\"\"\"\n",
    "        print(f\"This car has {self.odometer_reading} miles on it.\")\n",
    "\n",
    "    def update_odometer(self, mileage):#添加一个方法，接受一个里程值\n",
    "        \"\"\"\n",
    "        将里程表读数设置为指定的值\n",
    "        禁止将里程碑读数往回调\n",
    "        \"\"\"\n",
    "        if mileage >= self.odometer_reading:\n",
    "            self.odometer_reading = mileage #将里程值赋给self.odometer_reading\n",
    "        else:\n",
    "            print(\"You cant't roll back an odometer\")\n",
    "\n",
    "    def increment_odometer(self, miles):\n",
    "        \"\"\"让里程表读数增加指定的量\"\"\"\n",
    "        self.odometer_reading += miles"
   ]
  },
  {
   "cell_type": "code",
   "execution_count": 134,
   "id": "1edf9d56-0906-4364-9d8b-d47c733a07af",
   "metadata": {
    "execution": {
     "iopub.execute_input": "2024-04-28T11:16:35.081044Z",
     "iopub.status.busy": "2024-04-28T11:16:35.080044Z",
     "iopub.status.idle": "2024-04-28T11:16:35.085557Z",
     "shell.execute_reply": "2024-04-28T11:16:35.084554Z",
     "shell.execute_reply.started": "2024-04-28T11:16:35.081044Z"
    }
   },
   "outputs": [
    {
     "name": "stdout",
     "output_type": "stream",
     "text": [
      "2024 Audi A4\n",
      "This car has 23 miles on it.\n"
     ]
    }
   ],
   "source": [
    "from car import Car\n",
    "\n",
    "my_new_car = Car('audi', 'a4', 2024)\n",
    "print(my_new_car.get_descriptive_name())\n",
    "\n",
    "my_new_car.odometer_reading = 23\n",
    "my_new_car.read_odometer()"
   ]
  },
  {
   "cell_type": "markdown",
   "id": "2431af94-b377-492c-9573-0e1c8028adea",
   "metadata": {},
   "source": [
    "### **9.4.2 在一个模块中存储多个类**"
   ]
  },
  {
   "cell_type": "code",
   "execution_count": 132,
   "id": "8b4e95de-87d8-4777-89ac-00543d86d30c",
   "metadata": {},
   "outputs": [],
   "source": [
    "#car.py\n",
    "\"\"\"一组用于表示燃油汽车和电动汽车的类\"\"\"\n",
    "\n",
    "class Car:\n",
    "    \"\"\"一次模拟汽车的简单尝试\"\"\"\n",
    "\n",
    "    def __init__(self, make, model, year):\n",
    "        \"\"\"初始化描述汽车的属性\"\"\"\n",
    "        self.make = make\n",
    "        self.model = model\n",
    "        self.year = year\n",
    "        self.odometer_reading = 0\n",
    "\n",
    "    def get_descriptive_name(self):\n",
    "        \"\"\"返回格式规范的描述性信息\"\"\"\n",
    "        long_name = f\"{self.year} {self.make} {self.model}\"\n",
    "        return long_name.title()\n",
    "\n",
    "    def read_odometer(self):\n",
    "        \"\"\"打印一条指出汽车行驶里程的消息\"\"\"\n",
    "        print(f\"This car has {self.odometer_reading} miles on it.\")\n",
    "\n",
    "    def update_odometer(self, mileage):#添加一个方法，接受一个里程值\n",
    "        \"\"\"\n",
    "        将里程表读数设置为指定的值\n",
    "        禁止将里程碑读数往回调\n",
    "        \"\"\"\n",
    "        if mileage >= self.odometer_reading:\n",
    "            self.odometer_reading = mileage #将里程值赋给self.odometer_reading\n",
    "        else:\n",
    "            print(\"You cant't roll back an odometer\")\n",
    "\n",
    "    def increment_odometer(self, miles):\n",
    "        \"\"\"让里程表读数增加指定的量\"\"\"\n",
    "        self.odometer_reading += miles\n",
    "\n",
    "class Battery:\n",
    "    \"\"\"一次模拟电动汽车电池的简单尝试\"\"\"\n",
    "\n",
    "    def __init__(self, battery_size=40):\n",
    "        \"\"\"初始化电池的属性\"\"\"\n",
    "        self.battery_size = battery_size\n",
    "\n",
    "    def describe_battery(self):\n",
    "        \"\"\"打印一条描述电池容量的消息\"\"\"\n",
    "        print(f\"This car has a {self.battery_size}-kwh battery.\")\n",
    "\n",
    "    def get_range(self):\n",
    "        \"\"\"打印一条消息，指出电池的续航里程\"\"\"\n",
    "        if self.battery_size == 40:\n",
    "            range = 150\n",
    "        elif self.battery_size == 65:\n",
    "            range = 225\n",
    "\n",
    "        print(f\"This car can go about {range} miles on a full charge.\")\n",
    "        \n",
    "class ElectricCar(Car):\n",
    "    \"\"\"模拟电动汽车的独特之处\"\"\"\n",
    "\n",
    "    def __init__(self, make, model, year):\n",
    "        \"\"\"\n",
    "        先初始化父类的属性，再初始化电动汽车特有的属性\n",
    "        \"\"\"\n",
    "        super().__init__(make, model, year)\n",
    "        self.battery = Battery() #创建一个新的Battery实例并赋给一个新的属性"
   ]
  },
  {
   "cell_type": "code",
   "execution_count": 135,
   "id": "50246c56-eb46-451c-a4e5-752bffe868a5",
   "metadata": {
    "execution": {
     "iopub.execute_input": "2024-04-28T11:20:08.463087Z",
     "iopub.status.busy": "2024-04-28T11:20:08.463087Z",
     "iopub.status.idle": "2024-04-28T11:20:08.482223Z",
     "shell.execute_reply": "2024-04-28T11:20:08.481574Z",
     "shell.execute_reply.started": "2024-04-28T11:20:08.463087Z"
    }
   },
   "outputs": [
    {
     "name": "stdout",
     "output_type": "stream",
     "text": [
      "2024 Nissan Leaf\n",
      "This car has a 40-kwh battery.\n",
      "This car can go about 150 miles on a full charge.\n"
     ]
    }
   ],
   "source": [
    "#my_electric_car.py\n",
    "\n",
    "from car_copy import ElectricCar\n",
    "my_leaf = ElectricCar('nissan', 'leaf', 2024)\n",
    "print(my_leaf.get_descriptive_name())\n",
    "my_leaf.battery.describe_battery()\n",
    "my_leaf.battery.get_range()"
   ]
  },
  {
   "cell_type": "markdown",
   "id": "c3ad882e-1f3a-4265-b432-54033dde0095",
   "metadata": {},
   "source": [
    "### **9.4.3 从一个模块中导入多个类**"
   ]
  },
  {
   "cell_type": "code",
   "execution_count": 136,
   "id": "94384850-7750-4b06-8175-5a03babc302d",
   "metadata": {
    "execution": {
     "iopub.execute_input": "2024-04-28T11:23:54.756496Z",
     "iopub.status.busy": "2024-04-28T11:23:54.756496Z",
     "iopub.status.idle": "2024-04-28T11:23:54.766812Z",
     "shell.execute_reply": "2024-04-28T11:23:54.766812Z",
     "shell.execute_reply.started": "2024-04-28T11:23:54.756496Z"
    }
   },
   "outputs": [
    {
     "name": "stdout",
     "output_type": "stream",
     "text": [
      "2024 Ford Mustang\n",
      "2024 Nissan Leaf\n"
     ]
    }
   ],
   "source": [
    "#my_cars.py\n",
    "from car_copy import Car, ElectricCar\n",
    "\n",
    "my_mustang = Car('ford', 'mustang', 2024)\n",
    "print(my_mustang.get_descriptive_name())\n",
    "my_leaf = ElectricCar('nissan', 'leaf', 2024)\n",
    "print(my_leaf.get_descriptive_name())"
   ]
  },
  {
   "cell_type": "markdown",
   "id": "aca3934c-6aef-4263-ba4f-55fef579e683",
   "metadata": {},
   "source": [
    "### **9.4.4 导入整个模块**"
   ]
  },
  {
   "cell_type": "code",
   "execution_count": 138,
   "id": "0fcf9e4d-f72e-4b65-addd-ab6df00ffd21",
   "metadata": {
    "execution": {
     "iopub.execute_input": "2024-04-28T11:26:42.962063Z",
     "iopub.status.busy": "2024-04-28T11:26:42.960556Z",
     "iopub.status.idle": "2024-04-28T11:26:42.965646Z",
     "shell.execute_reply": "2024-04-28T11:26:42.965646Z",
     "shell.execute_reply.started": "2024-04-28T11:26:42.962063Z"
    }
   },
   "outputs": [
    {
     "name": "stdout",
     "output_type": "stream",
     "text": [
      "2024 Ford Mustang\n",
      "2024 Nissan Leaf\n"
     ]
    }
   ],
   "source": [
    "#my_cars.py\n",
    "import car_copy\n",
    "\n",
    "my_mustang = car_copy.Car('ford', 'mustang', 2024)\n",
    "print(my_mustang.get_descriptive_name())\n",
    "\n",
    "my_leaf = car_copy.ElectricCar('nissan', 'leaf', 2024)\n",
    "print(my_leaf.get_descriptive_name())"
   ]
  },
  {
   "cell_type": "markdown",
   "id": "9e6c833f-939b-4c8a-8dbb-82e99a4245c3",
   "metadata": {
    "execution": {
     "iopub.execute_input": "2024-04-28T11:27:14.466153Z",
     "iopub.status.busy": "2024-04-28T11:27:14.466153Z",
     "iopub.status.idle": "2024-04-28T11:27:14.473521Z",
     "shell.execute_reply": "2024-04-28T11:27:14.473521Z",
     "shell.execute_reply.started": "2024-04-28T11:27:14.466153Z"
    }
   },
   "source": [
    "### **9.4.5 导入模块中的所有类**"
   ]
  },
  {
   "cell_type": "code",
   "execution_count": null,
   "id": "070031a7-1550-4f16-8e30-6a7c4e96311f",
   "metadata": {},
   "outputs": [],
   "source": [
    "from module_name import *"
   ]
  },
  {
   "cell_type": "markdown",
   "id": "19061602-f3c6-4f7a-ab27-5c40509a44d3",
   "metadata": {},
   "source": [
    "### **9.4.6 在一个模块中导入另一个模块**"
   ]
  },
  {
   "cell_type": "code",
   "execution_count": 95,
   "id": "b617aeb8-53ac-4a91-9226-ef57578fb297",
   "metadata": {
    "execution": {
     "iopub.execute_input": "2024-04-28T11:34:42.332857Z",
     "iopub.status.busy": "2024-04-28T11:34:42.331857Z",
     "iopub.status.idle": "2024-04-28T11:34:42.343388Z",
     "shell.execute_reply": "2024-04-28T11:34:42.343388Z",
     "shell.execute_reply.started": "2024-04-28T11:34:42.332857Z"
    }
   },
   "outputs": [
    {
     "name": "stdout",
     "output_type": "stream",
     "text": [
      "2024 Ford Mustang\n",
      "2024 Nissan Leaf\n"
     ]
    }
   ],
   "source": [
    "#electric_car.py\n",
    "from car import Car\n",
    "from electric_car import ElectricCar\n",
    "\n",
    "my_mustang = Car('ford', 'mustang', 2024)\n",
    "print(my_mustang.get_descriptive_name())\n",
    "\n",
    "my_leaf = ElectricCar('nissan', 'leaf', 2024)\n",
    "print(my_leaf.get_descriptive_name())"
   ]
  },
  {
   "cell_type": "markdown",
   "id": "bb6b8593-f09a-406c-8ac2-7b7a88de9f5a",
   "metadata": {},
   "source": [
    "### **9.4.7 使用别名**"
   ]
  },
  {
   "cell_type": "code",
   "execution_count": 97,
   "id": "3f0dcdae-312b-42e4-968f-9842ae1d5d2b",
   "metadata": {
    "execution": {
     "iopub.execute_input": "2024-04-28T11:38:07.187714Z",
     "iopub.status.busy": "2024-04-28T11:38:07.187714Z",
     "iopub.status.idle": "2024-04-28T11:38:07.192984Z",
     "shell.execute_reply": "2024-04-28T11:38:07.192984Z",
     "shell.execute_reply.started": "2024-04-28T11:38:07.187714Z"
    }
   },
   "outputs": [],
   "source": [
    "#给类指定别名\n",
    "from electric_car import ElectricCar as EC\n",
    "my_leaf = EC('nissan', 'leaf', 2024)"
   ]
  },
  {
   "cell_type": "code",
   "execution_count": 98,
   "id": "e35e3a1c-4239-4851-a203-5ac5c4c117e5",
   "metadata": {
    "execution": {
     "iopub.execute_input": "2024-04-28T11:39:26.047465Z",
     "iopub.status.busy": "2024-04-28T11:39:26.047465Z",
     "iopub.status.idle": "2024-04-28T11:39:26.053552Z",
     "shell.execute_reply": "2024-04-28T11:39:26.052550Z",
     "shell.execute_reply.started": "2024-04-28T11:39:26.047465Z"
    }
   },
   "outputs": [],
   "source": [
    "#给模块指定别名\n",
    "import electric_car as ec\n",
    "my_leaf = ec.ElectricCar('nissan', 'leaf', 2024)"
   ]
  },
  {
   "cell_type": "markdown",
   "id": "66ac843f",
   "metadata": {},
   "source": [
    "### 练习"
   ]
  },
  {
   "cell_type": "code",
   "execution_count": 99,
   "id": "3dd331b6",
   "metadata": {
    "execution": {
     "iopub.execute_input": "2024-05-06T01:30:07.174267Z",
     "iopub.status.busy": "2024-05-06T01:30:07.174267Z",
     "iopub.status.idle": "2024-05-06T01:30:07.198780Z",
     "shell.execute_reply": "2024-05-06T01:30:07.198780Z",
     "shell.execute_reply.started": "2024-05-06T01:30:07.174267Z"
    }
   },
   "outputs": [
    {
     "data": {
      "text/plain": [
       "'Datieniu Luosifen'"
      ]
     },
     "execution_count": 99,
     "metadata": {},
     "output_type": "execute_result"
    }
   ],
   "source": [
    "#9.10 导入restaurant\n",
    "from restaurant import Restaurant\n",
    "\n",
    "rest_0 = Restaurant('datieniu', 'luosifen', 26)\n",
    "rest_0.describe_restaurant()"
   ]
  },
  {
   "cell_type": "code",
   "execution_count": 100,
   "id": "0ce3df14",
   "metadata": {},
   "outputs": [
    {
     "name": "stdout",
     "output_type": "stream",
     "text": [
      "can add post\n",
      "can delete post\n",
      "can ban user\n"
     ]
    }
   ],
   "source": [
    "#9.11 导入Admin类\n",
    "from user import Admin\n",
    "\n",
    "admin_0 = Admin('xiao', 'fang', 20)\n",
    "admin_0.show_privileges()"
   ]
  },
  {
   "cell_type": "code",
   "execution_count": 102,
   "id": "0bdf9c51",
   "metadata": {
    "execution": {
     "iopub.execute_input": "2024-05-06T01:50:21.875829Z",
     "iopub.status.busy": "2024-05-06T01:50:21.875829Z",
     "iopub.status.idle": "2024-05-06T01:50:21.886193Z",
     "shell.execute_reply": "2024-05-06T01:50:21.886193Z",
     "shell.execute_reply.started": "2024-05-06T01:50:21.875829Z"
    }
   },
   "outputs": [
    {
     "name": "stdout",
     "output_type": "stream",
     "text": [
      "can add post\n",
      "can delete post\n",
      "can ban user\n"
     ]
    }
   ],
   "source": [
    "#9.12 多个模块\n",
    "from user_1 import User\n",
    "from user_2 import Admin\n",
    "\n",
    "admin_1 = Admin('li', 'ming', 33)\n",
    "admin_1.show_privileges()"
   ]
  },
  {
   "cell_type": "markdown",
   "id": "24cd4c08-6407-4f18-a624-8b987d3ecb21",
   "metadata": {},
   "source": [
    "## **9.5 Python标准库**"
   ]
  },
  {
   "cell_type": "code",
   "execution_count": 51,
   "id": "b8072ce5-e24c-4b38-9820-712e92220f75",
   "metadata": {
    "execution": {
     "iopub.execute_input": "2024-04-28T11:41:24.841195Z",
     "iopub.status.busy": "2024-04-28T11:41:24.841195Z",
     "iopub.status.idle": "2024-04-28T11:41:24.858869Z",
     "shell.execute_reply": "2024-04-28T11:41:24.858869Z",
     "shell.execute_reply.started": "2024-04-28T11:41:24.841195Z"
    }
   },
   "outputs": [
    {
     "data": {
      "text/plain": [
       "5"
      ]
     },
     "execution_count": 51,
     "metadata": {},
     "output_type": "execute_result"
    }
   ],
   "source": [
    "# randint()函数将两个整数作为参数，并随机返回一个位于这两个整数之间（含）的整数\n",
    "from random import randint\n",
    "randint(1,6)"
   ]
  },
  {
   "cell_type": "code",
   "execution_count": 106,
   "id": "d301f73e-fd02-4dbe-84ee-5cbdd512f870",
   "metadata": {
    "execution": {
     "iopub.execute_input": "2024-04-28T11:43:20.337154Z",
     "iopub.status.busy": "2024-04-28T11:43:20.337154Z",
     "iopub.status.idle": "2024-04-28T11:43:20.342837Z",
     "shell.execute_reply": "2024-04-28T11:43:20.342837Z",
     "shell.execute_reply.started": "2024-04-28T11:43:20.337154Z"
    }
   },
   "outputs": [
    {
     "data": {
      "text/plain": [
       "'charles'"
      ]
     },
     "execution_count": 106,
     "metadata": {},
     "output_type": "execute_result"
    }
   ],
   "source": [
    "#choice()。它将一个列表或元组作为参数，并随机返回其中的一个元素\n",
    "from random import choice\n",
    "players = ['charles', 'martina', 'michael', 'florence', 'eli']\n",
    "first_up = choice(players)\n",
    "first_up"
   ]
  },
  {
   "cell_type": "markdown",
   "id": "d5f44304",
   "metadata": {},
   "source": [
    "### 练习"
   ]
  },
  {
   "cell_type": "code",
   "execution_count": 107,
   "id": "1c566e85-77f0-4a8a-bb96-739352ffcc3a",
   "metadata": {
    "execution": {
     "iopub.execute_input": "2024-05-06T02:05:16.429440Z",
     "iopub.status.busy": "2024-05-06T02:05:16.429440Z",
     "iopub.status.idle": "2024-05-06T02:05:16.435067Z",
     "shell.execute_reply": "2024-05-06T02:05:16.435067Z",
     "shell.execute_reply.started": "2024-05-06T02:05:16.429440Z"
    }
   },
   "outputs": [
    {
     "name": "stdout",
     "output_type": "stream",
     "text": [
      "3\n",
      "1\n",
      "1\n",
      "6\n",
      "6\n",
      "3\n",
      "5\n",
      "2\n",
      "3\n",
      "6\n",
      "5\n",
      "8\n",
      "4\n",
      "10\n",
      "7\n",
      "5\n",
      "9\n",
      "8\n",
      "1\n",
      "3\n",
      "19\n",
      "10\n",
      "3\n",
      "18\n",
      "7\n",
      "20\n",
      "15\n",
      "7\n",
      "9\n",
      "6\n"
     ]
    }
   ],
   "source": [
    "#9.13 骰子\n",
    "from random import randint #导入随机数方法\n",
    "\n",
    "class Die:\n",
    "    \"\"\"关于骰子的模拟\"\"\"\n",
    "\n",
    "    def __init__(self, sides=6): #包含一个sides属性，默认值为6(6个面)\n",
    "        \"\"\"初始化骰子的属性\"\"\"\n",
    "        self.sides = sides\n",
    "\n",
    "    def roll_die(self):\n",
    "        \"\"\"打印位于1和骰子面数之间的随机数\"\"\"\n",
    "        print(randint(1,self.sides))\n",
    "\n",
    "die_0 = Die()\n",
    "number = 0\n",
    "while number < 10:\n",
    "    number += 1\n",
    "    die_0.roll_die()\n",
    "\n",
    "die_1 = Die(10)\n",
    "number = 0\n",
    "while number < 10:\n",
    "    number += 1\n",
    "    die_1.roll_die()\n",
    "\n",
    "die_2 = Die(20)\n",
    "number = 0\n",
    "while number < 10:\n",
    "    number += 1\n",
    "    die_2.roll_die()"
   ]
  },
  {
   "cell_type": "code",
   "execution_count": 108,
   "id": "d3101f75-720e-431c-874a-b8fbe445b75c",
   "metadata": {
    "execution": {
     "iopub.execute_input": "2024-05-06T08:37:52.940554Z",
     "iopub.status.busy": "2024-05-06T08:37:52.939052Z",
     "iopub.status.idle": "2024-05-06T08:37:52.945476Z",
     "shell.execute_reply": "2024-05-06T08:37:52.945476Z",
     "shell.execute_reply.started": "2024-05-06T08:37:52.940554Z"
    }
   },
   "outputs": [
    {
     "name": "stdout",
     "output_type": "stream",
     "text": [
      "If there are 'y', '3', 'y' and '17' on the lottery ticket, you get a big award!\n"
     ]
    }
   ],
   "source": [
    "#9.14 彩票\n",
    "from random import choice\n",
    "lottery_ticket = [2,3,5,6,7,9,11,13,17,19, 'a', 'p', 'l', 'e','y']\n",
    "\n",
    "first = choice(lottery_ticket)\n",
    "second = choice(lottery_ticket)\n",
    "third = choice(lottery_ticket)\n",
    "fourth = choice(lottery_ticket)\n",
    "print(f\"If there are '{first}', '{second}', '{third}' and '{fourth}' on the lottery ticket, you get a big award!\")"
   ]
  },
  {
   "cell_type": "code",
   "execution_count": 112,
   "id": "3bd0e4cf-1fb2-4657-b772-de555e1bd54c",
   "metadata": {
    "execution": {
     "iopub.execute_input": "2024-05-06T08:44:22.320030Z",
     "iopub.status.busy": "2024-05-06T08:44:22.320030Z",
     "iopub.status.idle": "2024-05-06T08:44:22.811927Z",
     "shell.execute_reply": "2024-05-06T08:44:22.810928Z",
     "shell.execute_reply.started": "2024-05-06T08:44:22.320030Z"
    }
   },
   "outputs": [
    {
     "name": "stdout",
     "output_type": "stream",
     "text": [
      "After 383 circles, you got the big award!\n"
     ]
    }
   ],
   "source": [
    "#9.15 彩票分析\n",
    "from random import choice\n",
    "lottery_ticket = [2,3,5,6,7,9,11,13,17,19, 'a', 'p', 'l', 'e','y']\n",
    "number = 0\n",
    "awrad_ticket = [6,11, 'l', 'e']\n",
    "\n",
    "while True:\n",
    "    #使用number记录循环次数\n",
    "    number += 1\n",
    "    \n",
    "    #生成随机并加入列表\n",
    "    n_1 = choice(lottery_ticket)\n",
    "    n_2 = choice(lottery_ticket)\n",
    "    n_3 = choice(lottery_ticket)\n",
    "    n_4 = choice(lottery_ticket)\n",
    "    my_ticket = [n_1,n_2,n_3,n_4]\n",
    "    \n",
    "    if my_ticket == awrad_ticket:\n",
    "        print(f'After {number} circles, you got the big award!')\n",
    "        break"
   ]
  },
  {
   "cell_type": "markdown",
   "id": "2f873f04",
   "metadata": {},
   "source": [
    "## 9.6　类的编程风格"
   ]
  },
  {
   "cell_type": "markdown",
   "id": "adae5a4d",
   "metadata": {},
   "source": [
    "#### 驼峰命名法"
   ]
  },
  {
   "cell_type": "markdown",
   "id": "2dbc1ab1",
   "metadata": {},
   "source": [
    "##### 类名：首字母大写，无下划线；实例/模块：全小写+下划线"
   ]
  },
  {
   "cell_type": "markdown",
   "id": "c9f36d98",
   "metadata": {},
   "source": [
    "##### 先导标准库后导自己写的模块"
   ]
  }
 ],
 "metadata": {
  "kernelspec": {
   "display_name": "Python 3 (ipykernel)",
   "language": "python",
   "name": "python3"
  },
  "language_info": {
   "codemirror_mode": {
    "name": "ipython",
    "version": 3
   },
   "file_extension": ".py",
   "mimetype": "text/x-python",
   "name": "python",
   "nbconvert_exporter": "python",
   "pygments_lexer": "ipython3",
   "version": "3.11.5"
  }
 },
 "nbformat": 4,
 "nbformat_minor": 5
}
