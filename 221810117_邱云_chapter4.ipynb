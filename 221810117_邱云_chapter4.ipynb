{
 "cells": [
  {
   "cell_type": "markdown",
   "id": "011f51dc",
   "metadata": {},
   "source": [
    "# 第4章 操作列表"
   ]
  },
  {
   "cell_type": "markdown",
   "id": "d2857b9f",
   "metadata": {},
   "source": [
    "## 4.1 遍历列表"
   ]
  },
  {
   "cell_type": "code",
   "execution_count": 2,
   "id": "2db6eab6",
   "metadata": {
    "scrolled": true
   },
   "outputs": [
    {
     "name": "stdout",
     "output_type": "stream",
     "text": [
      "alice\n",
      "david\n",
      "carolina\n"
     ]
    }
   ],
   "source": [
    "magicians = ['alice','david','carolina']\n",
    "for magician in magicians:\n",
    "    print(magician)"
   ]
  },
  {
   "cell_type": "markdown",
   "id": "f162ae2d",
   "metadata": {},
   "source": [
    "### 4.1.2"
   ]
  },
  {
   "cell_type": "code",
   "execution_count": 8,
   "id": "9004b1ac",
   "metadata": {},
   "outputs": [
    {
     "name": "stdout",
     "output_type": "stream",
     "text": [
      "Alice,that was a great trick!\n",
      "David,that was a great trick!\n",
      "Carolina,that was a great trick!\n"
     ]
    }
   ],
   "source": [
    "magicians = ['alice','david','carolina']\n",
    "for magician in magicians:\n",
    "    print(f\"{magician.title()},that was a great trick!\")"
   ]
  },
  {
   "cell_type": "code",
   "execution_count": 12,
   "id": "d1bccd98",
   "metadata": {
    "scrolled": true
   },
   "outputs": [
    {
     "name": "stdout",
     "output_type": "stream",
     "text": [
      "Alice,that was a great trick!\n",
      "I can't wait to see your next trick,Alice.\n",
      "\n",
      "David,that was a great trick!\n",
      "I can't wait to see your next trick,David.\n",
      "\n",
      "Carolina,that was a great trick!\n",
      "I can't wait to see your next trick,Carolina.\n",
      "\n"
     ]
    }
   ],
   "source": [
    "magicians = ['alice','david','carolina']\n",
    "for magician in magicians:\n",
    "    print(f\"{magician.title()},that was a great trick!\")\n",
    "    print(f\"I can't wait to see your next trick,{magician.title()}.\\n\")"
   ]
  },
  {
   "cell_type": "markdown",
   "id": "e43157ac",
   "metadata": {},
   "source": [
    "### 4.1.3"
   ]
  },
  {
   "cell_type": "code",
   "execution_count": 13,
   "id": "98f8ca0d",
   "metadata": {},
   "outputs": [
    {
     "name": "stdout",
     "output_type": "stream",
     "text": [
      "Alice,that was a great trick!\n",
      "I can't wait to see your next trick,Alice.\n",
      "\n",
      "David,that was a great trick!\n",
      "I can't wait to see your next trick,David.\n",
      "\n",
      "Carolina,that was a great trick!\n",
      "I can't wait to see your next trick,Carolina.\n",
      "\n",
      "Thank you,everyone.That was a great magic show!\n"
     ]
    }
   ],
   "source": [
    "magicians = ['alice','david','carolina']\n",
    "for magician in magicians:\n",
    "    print(f\"{magician.title()},that was a great trick!\")\n",
    "    print(f\"I can't wait to see your next trick,{magician.title()}.\\n\")\n",
    "print(\"Thank you,everyone.That was a great magic show!\")"
   ]
  },
  {
   "cell_type": "markdown",
   "id": "9e8d7171",
   "metadata": {},
   "source": [
    "## 4.2 避免缩进错误"
   ]
  },
  {
   "cell_type": "code",
   "execution_count": 1,
   "id": "2d788e9e",
   "metadata": {},
   "outputs": [
    {
     "name": "stdout",
     "output_type": "stream",
     "text": [
      "alice\n",
      "david\n",
      "carolina\n"
     ]
    }
   ],
   "source": [
    "magicians = ['alice','david','carolina']\n",
    "for magician in magicians:\n",
    "    print(magician)"
   ]
  },
  {
   "cell_type": "code",
   "execution_count": 2,
   "id": "3e16521b",
   "metadata": {},
   "outputs": [
    {
     "name": "stdout",
     "output_type": "stream",
     "text": [
      "Alice,that was a great trick!\n",
      "I can't wait to see your next trick,Alice.\n",
      "\n",
      "David,that was a great trick!\n",
      "I can't wait to see your next trick,David.\n",
      "\n",
      "Carolina,that was a great trick!\n",
      "I can't wait to see your next trick,Carolina.\n",
      "\n"
     ]
    }
   ],
   "source": [
    "magicians = ['alice','david','carolina']\n",
    "for magician in magicians:\n",
    "    print(f\"{magician.title()},that was a great trick!\")\n",
    "    print(f\"I can't wait to see your next trick,{magician.title()}.\\n\")"
   ]
  },
  {
   "cell_type": "code",
   "execution_count": 3,
   "id": "19b79a26",
   "metadata": {},
   "outputs": [
    {
     "name": "stdout",
     "output_type": "stream",
     "text": [
      "Alice,that was a great trick!\n",
      "I can't wait to see your next trick,Alice.\n",
      "\n",
      "Thank you everyone,that was a great magic show!\n",
      "David,that was a great trick!\n",
      "I can't wait to see your next trick,David.\n",
      "\n",
      "Thank you everyone,that was a great magic show!\n",
      "Carolina,that was a great trick!\n",
      "I can't wait to see your next trick,Carolina.\n",
      "\n",
      "Thank you everyone,that was a great magic show!\n"
     ]
    }
   ],
   "source": [
    "magicians = ['alice','david','carolina']\n",
    "for magician in magicians:\n",
    "    print(f\"{magician.title()},that was a great trick!\")\n",
    "    print(f\"I can't wait to see your next trick,{magician.title()}.\\n\")\n",
    "    print(\"Thank you everyone,that was a great magic show!\")"
   ]
  },
  {
   "cell_type": "markdown",
   "id": "ab6339b9",
   "metadata": {},
   "source": [
    "# 4.3 创建数值列表"
   ]
  },
  {
   "cell_type": "markdown",
   "id": "f7ac0607",
   "metadata": {},
   "source": [
    "## 4.3.1"
   ]
  },
  {
   "cell_type": "code",
   "execution_count": 5,
   "id": "6d950d59",
   "metadata": {},
   "outputs": [
    {
     "name": "stdout",
     "output_type": "stream",
     "text": [
      "1\n",
      "2\n",
      "3\n",
      "4\n"
     ]
    }
   ],
   "source": [
    "for value in range(1,5):\n",
    "    print(value)"
   ]
  },
  {
   "cell_type": "markdown",
   "id": "508d8cec",
   "metadata": {},
   "source": [
    "## 4.3.2"
   ]
  },
  {
   "cell_type": "code",
   "execution_count": 7,
   "id": "aeeeeab1",
   "metadata": {},
   "outputs": [
    {
     "name": "stdout",
     "output_type": "stream",
     "text": [
      "[1, 2, 3, 4, 5]\n"
     ]
    }
   ],
   "source": [
    "numbers = list(range(1,6))\n",
    "print(numbers)"
   ]
  },
  {
   "cell_type": "code",
   "execution_count": 10,
   "id": "451ec503",
   "metadata": {},
   "outputs": [
    {
     "name": "stdout",
     "output_type": "stream",
     "text": [
      "[2, 4, 6, 8, 10]\n"
     ]
    }
   ],
   "source": [
    "even_numbers = list(range(2,11,2))\n",
    "print(even_numbers)"
   ]
  },
  {
   "cell_type": "code",
   "execution_count": 13,
   "id": "b7b51ecf",
   "metadata": {},
   "outputs": [
    {
     "name": "stdout",
     "output_type": "stream",
     "text": [
      "[1, 4, 9, 16, 25, 36, 49, 64, 81, 100]\n"
     ]
    }
   ],
   "source": [
    "squares = []\n",
    "for value in range(1,11):\n",
    "    square = value**2\n",
    "    squares.append(square)\n",
    "print(squares)"
   ]
  },
  {
   "cell_type": "code",
   "execution_count": 15,
   "id": "b00bd530",
   "metadata": {},
   "outputs": [
    {
     "name": "stdout",
     "output_type": "stream",
     "text": [
      "[1, 4, 9, 16, 25, 36, 49, 64, 81, 100]\n"
     ]
    }
   ],
   "source": [
    "squares = []\n",
    "for value in range(1,11):\n",
    "    squares.append(value**2)\n",
    "print(squares)"
   ]
  },
  {
   "cell_type": "markdown",
   "id": "7d03e92d",
   "metadata": {},
   "source": [
    "### 4.3.3"
   ]
  },
  {
   "cell_type": "code",
   "execution_count": 16,
   "id": "d484c130",
   "metadata": {},
   "outputs": [
    {
     "data": {
      "text/plain": [
       "0"
      ]
     },
     "execution_count": 16,
     "metadata": {},
     "output_type": "execute_result"
    }
   ],
   "source": [
    "digits = [1,2,3,4,5,6,7,8,9,0]\n",
    "min(digits)"
   ]
  },
  {
   "cell_type": "code",
   "execution_count": 17,
   "id": "c28e5d25",
   "metadata": {},
   "outputs": [
    {
     "data": {
      "text/plain": [
       "9"
      ]
     },
     "execution_count": 17,
     "metadata": {},
     "output_type": "execute_result"
    }
   ],
   "source": [
    "max(digits)"
   ]
  },
  {
   "cell_type": "code",
   "execution_count": 18,
   "id": "dfeacdaf",
   "metadata": {},
   "outputs": [
    {
     "data": {
      "text/plain": [
       "45"
      ]
     },
     "execution_count": 18,
     "metadata": {},
     "output_type": "execute_result"
    }
   ],
   "source": [
    "sum(digits)"
   ]
  },
  {
   "cell_type": "code",
   "execution_count": 19,
   "id": "78cced30",
   "metadata": {},
   "outputs": [
    {
     "name": "stdout",
     "output_type": "stream",
     "text": [
      "[1, 4, 9, 16, 25, 36, 49, 64, 81, 100]\n"
     ]
    }
   ],
   "source": [
    "squares = [value**2 for value in range(1,11)]\n",
    "print(squares)"
   ]
  },
  {
   "cell_type": "markdown",
   "id": "7ffe1317",
   "metadata": {},
   "source": [
    "## 4.4"
   ]
  },
  {
   "cell_type": "markdown",
   "id": "2e4102ba",
   "metadata": {},
   "source": [
    "### 4.4.1"
   ]
  },
  {
   "cell_type": "code",
   "execution_count": 22,
   "id": "fe75179f",
   "metadata": {},
   "outputs": [
    {
     "name": "stdout",
     "output_type": "stream",
     "text": [
      "['charles', 'martina', 'michael']\n"
     ]
    }
   ],
   "source": [
    "players = ['charles','martina','michael','florence','eli']\n",
    "print(players[0:3])"
   ]
  },
  {
   "cell_type": "code",
   "execution_count": 23,
   "id": "5483e5fd",
   "metadata": {},
   "outputs": [
    {
     "name": "stdout",
     "output_type": "stream",
     "text": [
      "['martina', 'michael', 'florence']\n"
     ]
    }
   ],
   "source": [
    "players = ['charles','martina','michael','florence','eli']\n",
    "print(players[1:4])"
   ]
  },
  {
   "cell_type": "code",
   "execution_count": 24,
   "id": "60a4b9aa",
   "metadata": {},
   "outputs": [
    {
     "name": "stdout",
     "output_type": "stream",
     "text": [
      "['charles', 'martina', 'michael', 'florence']\n"
     ]
    }
   ],
   "source": [
    "players = ['charles','martina','michael','florence','eli']\n",
    "print(players[:4])"
   ]
  },
  {
   "cell_type": "code",
   "execution_count": 25,
   "id": "94bff2ed",
   "metadata": {},
   "outputs": [
    {
     "name": "stdout",
     "output_type": "stream",
     "text": [
      "['michael', 'florence', 'eli']\n"
     ]
    }
   ],
   "source": [
    "players = ['charles','martina','michael','florence','eli']\n",
    "print(players[2:])"
   ]
  },
  {
   "cell_type": "code",
   "execution_count": 26,
   "id": "9e714fa8",
   "metadata": {},
   "outputs": [
    {
     "name": "stdout",
     "output_type": "stream",
     "text": [
      "['michael', 'florence', 'eli']\n"
     ]
    }
   ],
   "source": [
    "players = ['charles','martina','michael','florence','eli']\n",
    "print(players[-3:])"
   ]
  },
  {
   "cell_type": "markdown",
   "id": "bcd3506b",
   "metadata": {},
   "source": [
    "### 4.4.2"
   ]
  },
  {
   "cell_type": "code",
   "execution_count": 31,
   "id": "373cf71f",
   "metadata": {},
   "outputs": [
    {
     "name": "stdout",
     "output_type": "stream",
     "text": [
      "Here are the first three players on my team:\n",
      "Charles\n",
      "Martina\n",
      "Michael\n"
     ]
    }
   ],
   "source": [
    "players = ['charles','martina','michael','florence','eli']\n",
    "print(\"Here are the first three players on my team:\")\n",
    "for player in players[:3]:\n",
    "    print(player.title())"
   ]
  },
  {
   "cell_type": "markdown",
   "id": "2f4b7ae1",
   "metadata": {},
   "source": [
    "### 4.4.3"
   ]
  },
  {
   "cell_type": "code",
   "execution_count": 8,
   "id": "469d1cac",
   "metadata": {},
   "outputs": [
    {
     "name": "stdout",
     "output_type": "stream",
     "text": [
      "My favorite foods are:\n",
      "['pizza', 'falafel', 'caarrot cake']\n",
      "\n",
      "My friend's favorite foods are:\n",
      "['pizza', 'falafel', 'caarrot cake']\n"
     ]
    }
   ],
   "source": [
    "my_foods = ['pizza','falafel','caarrot cake']\n",
    "friend_foods = my_foods[:]\n",
    "\n",
    "print(\"My favorite foods are:\")\n",
    "print(my_foods)\n",
    "\n",
    "print(\"\\nMy friend's favorite foods are:\")\n",
    "print(friend_foods)"
   ]
  },
  {
   "cell_type": "code",
   "execution_count": 9,
   "id": "aa7b5360",
   "metadata": {},
   "outputs": [
    {
     "name": "stdout",
     "output_type": "stream",
     "text": [
      "My favorite foods are:\n",
      "['pizza', 'falafel', 'caarrot cake', 'cannoli']\n",
      "\n",
      "My friend's favorite foods are:\n",
      "['pizza', 'falafel', 'caarrot cake', 'ice cream']\n"
     ]
    }
   ],
   "source": [
    "my_foods = ['pizza','falafel','caarrot cake']\n",
    "friend_foods = my_foods[:]\n",
    "\n",
    "my_foods.append('cannoli')\n",
    "friend_foods.append('ice cream')\n",
    "\n",
    "print(\"My favorite foods are:\")\n",
    "print(my_foods)\n",
    "\n",
    "print(\"\\nMy friend's favorite foods are:\")\n",
    "print(friend_foods)"
   ]
  },
  {
   "cell_type": "code",
   "execution_count": 10,
   "id": "2f3ce2a3",
   "metadata": {},
   "outputs": [
    {
     "name": "stdout",
     "output_type": "stream",
     "text": [
      "My favorite foods are:\n",
      "['pizza', 'falafel', 'caarrot cake', 'cannoli', 'ice cream']\n",
      "\n",
      "My friend's favorite foods are:\n",
      "['pizza', 'falafel', 'caarrot cake', 'cannoli', 'ice cream']\n"
     ]
    }
   ],
   "source": [
    "my_foods = ['pizza','falafel','caarrot cake']\n",
    "\n",
    "#错误示范\n",
    "friend_foods = my_foods\n",
    "\n",
    "my_foods.append('cannoli')\n",
    "friend_foods.append('ice cream')\n",
    "\n",
    "print(\"My favorite foods are:\")\n",
    "print(my_foods)\n",
    "\n",
    "print(\"\\nMy friend's favorite foods are:\")\n",
    "print(friend_foods)"
   ]
  },
  {
   "cell_type": "markdown",
   "id": "0d9b0c21",
   "metadata": {},
   "source": [
    "# 4.5 元组"
   ]
  },
  {
   "cell_type": "markdown",
   "id": "864d62ec",
   "metadata": {},
   "source": [
    "## 4.5.1 定义元组"
   ]
  },
  {
   "cell_type": "code",
   "execution_count": 13,
   "id": "cda5af4b",
   "metadata": {},
   "outputs": [
    {
     "name": "stdout",
     "output_type": "stream",
     "text": [
      "200\n",
      "50\n"
     ]
    }
   ],
   "source": [
    "dimensions = (200,50)\n",
    "print(dimensions[0])\n",
    "print(dimensions[1])"
   ]
  },
  {
   "cell_type": "code",
   "execution_count": 14,
   "id": "22681ec2",
   "metadata": {},
   "outputs": [
    {
     "ename": "TypeError",
     "evalue": "'tuple' object does not support item assignment",
     "output_type": "error",
     "traceback": [
      "\u001b[1;31m---------------------------------------------------------------------------\u001b[0m",
      "\u001b[1;31mTypeError\u001b[0m                                 Traceback (most recent call last)",
      "Cell \u001b[1;32mIn[14], line 3\u001b[0m\n\u001b[0;32m      1\u001b[0m \u001b[38;5;66;03m#错误示范\u001b[39;00m\n\u001b[0;32m      2\u001b[0m dimensions \u001b[38;5;241m=\u001b[39m(\u001b[38;5;241m200\u001b[39m,\u001b[38;5;241m50\u001b[39m)\n\u001b[1;32m----> 3\u001b[0m dimensions[\u001b[38;5;241m0\u001b[39m] \u001b[38;5;241m=\u001b[39m \u001b[38;5;241m250\u001b[39m\n",
      "\u001b[1;31mTypeError\u001b[0m: 'tuple' object does not support item assignment"
     ]
    }
   ],
   "source": [
    "#错误示范\n",
    "dimensions =(200,50)\n",
    "dimensions[0] = 250"
   ]
  },
  {
   "cell_type": "markdown",
   "id": "b17728f8",
   "metadata": {},
   "source": [
    "## 4.5.2 遍历元组"
   ]
  },
  {
   "cell_type": "code",
   "execution_count": 16,
   "id": "1f720321",
   "metadata": {},
   "outputs": [
    {
     "name": "stdout",
     "output_type": "stream",
     "text": [
      "200\n",
      "50\n"
     ]
    }
   ],
   "source": [
    "dimensions = (200,50)\n",
    "for dimension in dimensions:\n",
    "    print(dimension)"
   ]
  },
  {
   "cell_type": "markdown",
   "id": "6e8ad7cb",
   "metadata": {},
   "source": [
    "## 4.5.3 修改元组变量"
   ]
  },
  {
   "cell_type": "code",
   "execution_count": 22,
   "id": "baca4a3f",
   "metadata": {},
   "outputs": [
    {
     "name": "stdout",
     "output_type": "stream",
     "text": [
      "Original dimensions:\n",
      "200\n",
      "50\n",
      "\n",
      "Modified dimensions:\n",
      "400\n",
      "100\n"
     ]
    }
   ],
   "source": [
    "dimensions = (200,50)\n",
    "print(\"Original dimensions:\")\n",
    "for dimension in dimensions:\n",
    "    print(dimension)\n",
    "    \n",
    "dimensions = (400,100)\n",
    "print(\"\\nModified dimensions:\")\n",
    "for dimension in dimensions:\n",
    "    print(dimension)"
   ]
  },
  {
   "cell_type": "markdown",
   "id": "f0a78471",
   "metadata": {},
   "source": [
    "# 4.6 设置代码格式"
   ]
  },
  {
   "cell_type": "code",
   "execution_count": 32,
   "id": "5d6975ae",
   "metadata": {},
   "outputs": [],
   "source": [
    "#PEP #Python增强提案 #缩进4个字符  #行长 < 80  #空行使用  "
   ]
  },
  {
   "cell_type": "code",
   "execution_count": null,
   "id": "b4bde09d",
   "metadata": {},
   "outputs": [],
   "source": []
  },
  {
   "cell_type": "code",
   "execution_count": null,
   "id": "d11d4b20",
   "metadata": {},
   "outputs": [],
   "source": []
  }
 ],
 "metadata": {
  "kernelspec": {
   "display_name": "Python 3 (ipykernel)",
   "language": "python",
   "name": "python3"
  },
  "language_info": {
   "codemirror_mode": {
    "name": "ipython",
    "version": 3
   },
   "file_extension": ".py",
   "mimetype": "text/x-python",
   "name": "python",
   "nbconvert_exporter": "python",
   "pygments_lexer": "ipython3",
   "version": "3.11.5"
  }
 },
 "nbformat": 4,
 "nbformat_minor": 5
}
