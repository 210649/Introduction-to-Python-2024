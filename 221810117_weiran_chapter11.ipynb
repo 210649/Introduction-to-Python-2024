{
 "cells": [
  {
   "cell_type": "markdown",
   "id": "1596d499",
   "metadata": {},
   "source": [
    "# 第 11 章　测试代码"
   ]
  },
  {
   "cell_type": "markdown",
   "id": "81457ed6",
   "metadata": {},
   "source": [
    "## 11.1 安装pytest"
   ]
  },
  {
   "cell_type": "code",
   "execution_count": null,
   "id": "637376ca",
   "metadata": {},
   "outputs": [],
   "source": [
    "#已在终端完成"
   ]
  },
  {
   "cell_type": "markdown",
   "id": "75661b95",
   "metadata": {},
   "source": [
    "## 11.2　测试函数"
   ]
  },
  {
   "cell_type": "code",
   "execution_count": 2,
   "id": "adfc4183",
   "metadata": {},
   "outputs": [
    {
     "name": "stdout",
     "output_type": "stream",
     "text": [
      "Enter 'q' at any time to quit.\n",
      "\n",
      "Please give me a first name: lan\n",
      "Please give me a last name: weiran\n",
      "\tNeatly formatted name: Lan Weiran.\n",
      "\n",
      "Please give me a first name: q\n"
     ]
    }
   ],
   "source": [
    "#names.py\n",
    "from name_function import get_formatted_name\n",
    "\n",
    "print(\"Enter 'q' at any time to quit.\")\n",
    "while True:\n",
    "    first = input(\"\\nPlease give me a first name: \")\n",
    "    if first == 'q':\n",
    "        break\n",
    "    last = input(\"Please give me a last name: \")\n",
    "    if last == 'q':\n",
    "        break\n",
    "        \n",
    "    formatted_name = get_formatted_name(first, last)\n",
    "    print(f\"\\tNeatly formatted name: {formatted_name}.\")"
   ]
  },
  {
   "cell_type": "markdown",
   "id": "14f7ebdb",
   "metadata": {},
   "source": [
    "### 11.2.1　单元测试和测试用例"
   ]
  },
  {
   "cell_type": "code",
   "execution_count": null,
   "id": "bb459203",
   "metadata": {},
   "outputs": [],
   "source": [
    "#单元测试、测试用例、全覆盖"
   ]
  },
  {
   "cell_type": "markdown",
   "id": "d14d6c38",
   "metadata": {},
   "source": [
    "### 11.2.2　可通过的测试"
   ]
  },
  {
   "cell_type": "code",
   "execution_count": null,
   "id": "30be274c",
   "metadata": {},
   "outputs": [],
   "source": [
    "#test_name_function.py\n",
    "from name_function import get_formatted_name  #导入测试函数\n",
    "\n",
    "def test_first_last_name():  #定义一个测试函数，以test_打头\n",
    "    \"\"\"能够正确地处理像 Janis Joplin 这样的姓名吗？\"\"\"\n",
    "    formatted_name = get_formatted_name('janis', 'joplin')  #传递实参\n",
    "    assert formatted_name == 'Janis Joplin'  #做出断言（声称满足特定的条件）"
   ]
  },
  {
   "cell_type": "markdown",
   "id": "dfae4130",
   "metadata": {},
   "source": [
    "### 11.2.3　运行测试"
   ]
  },
  {
   "cell_type": "code",
   "execution_count": null,
   "id": "56499b04",
   "metadata": {},
   "outputs": [],
   "source": [
    "#终端已运行\n",
    "platform win32 -- Python 3.11.2, pytest-8.2.2, pluggy-1.5.0\n",
    "rootdir: C:\\Users\\蓝未然\\OneDrive\\桌面\\python\n",
    "collected 1 item\n",
    "\n",
    "test_name_function.py .                                                                                          [100%]\n",
    "\n",
    "================================================== 1 passed in 0.03s =================================================="
   ]
  },
  {
   "cell_type": "markdown",
   "id": "5d43a5f9",
   "metadata": {},
   "source": [
    "### 11.2.4　未通过的测试"
   ]
  },
  {
   "cell_type": "code",
   "execution_count": null,
   "id": "00a69e3e",
   "metadata": {},
   "outputs": [],
   "source": [
    "#name_function.py\n",
    "def get_formatted_name(first, middle, last):  #更新函数\n",
    "    \"\"\"生成格式规范的姓名\"\"\"\n",
    "    full_name = f\"{first} {middle} {last}\"\n",
    "    return full_name.title()"
   ]
  },
  {
   "cell_type": "markdown",
   "id": "e951da8e",
   "metadata": {},
   "source": [
    "### 11.2.5　在测试未通过时怎么办"
   ]
  },
  {
   "cell_type": "code",
   "execution_count": null,
   "id": "13bccd2a",
   "metadata": {},
   "outputs": [],
   "source": [
    "#name_function.py\n",
    "def get_formatted_name(first, last, middle=''):\n",
    "    \"\"\"生成格式规范的姓名\"\"\"\n",
    "    if middle:   #添加if测试\n",
    "        full_name = f\"{first} {middle} {last}\"\n",
    "    else:\n",
    "        full_name = f\"{first} {last}\"\n",
    "    return full_name.title()"
   ]
  },
  {
   "cell_type": "markdown",
   "id": "7543660b",
   "metadata": {},
   "source": [
    "### 11.2.6　添加新测试"
   ]
  },
  {
   "cell_type": "code",
   "execution_count": null,
   "id": "4908b795",
   "metadata": {},
   "outputs": [],
   "source": [
    "#test_name_function.py\n",
    "from name_function import get_formatted_name  #导入测试函数\n",
    "\n",
    "def test_first_last_name():  #定义一个测试函数，以test_打头\n",
    "    \"\"\"能够正确地处理像 Janis Joplin 这样的姓名吗？\"\"\"\n",
    "    formatted_name = get_formatted_name('janis', 'joplin')  #传递实参\n",
    "    assert formatted_name == 'Janis Joplin'  #做出断言（声称满足特定的条件）\n",
    "\n",
    "def test_first_last_middle_name():\n",
    "    \"\"\"能够正确地处理像 Wolfgang Amadeus Mozart 这样的姓名吗？\"\"\"\n",
    "    formatted_name = get_formatted_name('wolfgang', 'mozart', 'amadeus')\n",
    "    assert formatted_name == 'Wolfgang Amadeus Mozart'"
   ]
  },
  {
   "cell_type": "markdown",
   "id": "b81d0c23",
   "metadata": {},
   "source": [
    "### 练习11.1 城市和国家"
   ]
  },
  {
   "cell_type": "code",
   "execution_count": 1,
   "id": "340dd698",
   "metadata": {},
   "outputs": [],
   "source": [
    "#city_functions.py\n",
    "def get_city_country(city,country):\n",
    "    \"\"\"生成城市和所属国家信息\"\"\"\n",
    "    city_country =  f\"{city},{country}\"\n",
    "    return city_country.title()\n",
    "\n",
    "#test_cities.py\n",
    "def test_city_country():\n",
    "    \"\"\"能够正确处理像Nanjing,China这样的信息吗？\"\"\"\n",
    "    city_info = get_city_country('nanjing','china')\n",
    "    assert city_info == 'Nanjing,China'"
   ]
  },
  {
   "cell_type": "markdown",
   "id": "da4e6f4f",
   "metadata": {},
   "source": [
    "### 练习11.2 人口数量"
   ]
  },
  {
   "cell_type": "code",
   "execution_count": null,
   "id": "cadb981e",
   "metadata": {},
   "outputs": [],
   "source": [
    "#修改函数增加形参\n",
    "def get_city_country(city, country, population):\n",
    "    city_country=f\"{city}, {country} - population {population}\"\n",
    "    return city_country.title()\n",
    "\n",
    "#将形参设为可选\n",
    "def get_city_country(city, country, population=''):\n",
    "    city_country=f\"{city}, {country} - population {population}\"\n",
    "    return city_country.title()\n",
    "\n",
    "def test_city_country():\n",
    "    city_info = get_city_country('nanjing','china')\n",
    "    assert city_info == 'Nanjing,China'\n",
    "    \n",
    "#编写test_city_country_population测试\n",
    "def test_city_country_population():\n",
    "    city_info = get_city_country('nanjing','china'，9547000)\n",
    "    assert city_info == 'Nanjing,China - population 9547000'"
   ]
  },
  {
   "cell_type": "markdown",
   "id": "5e412158",
   "metadata": {},
   "source": [
    "## 11.3　测试类"
   ]
  },
  {
   "cell_type": "markdown",
   "id": "51da3ff2",
   "metadata": {},
   "source": [
    "### 11.3.1　各种断言"
   ]
  },
  {
   "cell_type": "code",
   "execution_count": null,
   "id": "663408f9",
   "metadata": {},
   "outputs": [],
   "source": [
    "# == , != , a , not a ,element in list , element not in list"
   ]
  },
  {
   "cell_type": "markdown",
   "id": "242313fa",
   "metadata": {},
   "source": [
    "### 11.3.2　一个要测试的类"
   ]
  },
  {
   "cell_type": "code",
   "execution_count": null,
   "id": "1868df88",
   "metadata": {},
   "outputs": [],
   "source": [
    "#survey.py\n",
    "class AnonymousSurvey:\n",
    "    \"\"\"收集匿名调查问卷的答案\"\"\"\n",
    "    \n",
    "    def __init__(self, question):\n",
    "        \"\"\"存储一个问题，并为存储答案做准备\"\"\"\n",
    "        self.question = question\n",
    "        self.responses = []\n",
    "        \n",
    "    def show_question(self):\n",
    "        \"\"\"显示调查问卷\"\"\"\n",
    "        print(self.question)\n",
    "        \n",
    "    def store_response(self, new_response):\n",
    "        \"\"\"存储单份调查答卷\"\"\"\n",
    "        self.responses.append(new_response)\n",
    "    \n",
    "    def show_results(self):\n",
    "        \"\"\"显示收集到的所有答卷\"\"\"\n",
    "        print(\"Survey results:\")\n",
    "        for response in self.responses:\n",
    "            print(f\"- {response}\")"
   ]
  },
  {
   "cell_type": "code",
   "execution_count": 4,
   "id": "5071e2a3",
   "metadata": {},
   "outputs": [
    {
     "name": "stdout",
     "output_type": "stream",
     "text": [
      "What language did you first learn to speak?\n",
      "Enter 'q' at any time to quit.\n",
      "\n",
      "Language: Mandarin\n",
      "Language: English\n",
      "Language: Spanish\n",
      "Language: q\n",
      "\n",
      "Thank you to everyone who participated in the survey!\n",
      "Survey results:\n",
      "- Mandarin\n",
      "- English\n",
      "- Spanish\n"
     ]
    }
   ],
   "source": [
    "#language_survey.py  (创建类实例)\n",
    "from survey import AnonymousSurvey\n",
    "\n",
    "# 定义一个问题，并创建一个表示调查的 AnonymousSurvey 对象\n",
    "question = \"What language did you first learn to speak?\"\n",
    "language_survey = AnonymousSurvey(question)\n",
    "\n",
    "# 显示问题并存储答案\n",
    "language_survey.show_question()\n",
    "print(\"Enter 'q' at any time to quit.\\n\")\n",
    "while True:\n",
    "    response = input(\"Language: \")\n",
    "    if response == 'q':\n",
    "        break\n",
    "    language_survey.store_response(response)\n",
    "    \n",
    "# 显示调查结果\n",
    "print(\"\\nThank you to everyone who participated in the survey!\")\n",
    "language_survey.show_results()"
   ]
  },
  {
   "cell_type": "markdown",
   "id": "5a61abc9",
   "metadata": {},
   "source": [
    "### 11.3.3　测试 AnonymousSurvey 类"
   ]
  },
  {
   "cell_type": "code",
   "execution_count": null,
   "id": "2ff730c9",
   "metadata": {},
   "outputs": [],
   "source": [
    "#test_survey.py （单个答案）\n",
    "from survey import AnonymousSurvey #导入测试类\n",
    "\n",
    "def test_store_single_response():\n",
    "    \"\"\"测试单个答案会被妥善地存储\"\"\"\n",
    "    question = \"What language did you first learn to speak?\"\n",
    "    language_survey = AnonymousSurvey(question)\n",
    "    language_survey.store_response('English')\n",
    "    assert 'English' in language_survey.responses  #验证测试"
   ]
  },
  {
   "cell_type": "code",
   "execution_count": null,
   "id": "a8961a5d",
   "metadata": {},
   "outputs": [],
   "source": [
    "#test_survey.py（多个答案）\n",
    "from survey import AnonymousSurvey #导入测试类\n",
    "\n",
    "def test_store_single_response():\n",
    "    \"\"\"测试单个答案会被妥善地存储\"\"\"\n",
    "    question = \"What language did you first learn to speak?\"\n",
    "    language_survey = AnonymousSurvey(question)\n",
    "    language_survey.store_response('English')\n",
    "    assert 'English' in language_survey.responses  #验证测试\n",
    "    \n",
    "def test_store_three_responses():\n",
    "    \"\"\"测试三个答案会被妥善地存储\"\"\"\n",
    "    question = \"What language did you first learn to speak?\"\n",
    "    language_survey = AnonymousSurvey(question)\n",
    "    responses = ['English', 'Spanish', 'Mandarin']\n",
    "    for response in responses:\n",
    "        language_survey.store_response(response)\n",
    "        \n",
    "    for response in responses:\n",
    "        assert response in language_survey.responses"
   ]
  },
  {
   "cell_type": "markdown",
   "id": "ff7dcdac",
   "metadata": {},
   "source": [
    "### 11.3.4　使用夹具"
   ]
  },
  {
   "cell_type": "code",
   "execution_count": 5,
   "id": "b4d8a1f3",
   "metadata": {},
   "outputs": [],
   "source": [
    "#使用夹具fixture（搭建测试环境）创建新的实例\n",
    "import pytest\n",
    "from survey import AnonymousSurvey\n",
    "\n",
    "@pytest.fixture #定义装饰器\n",
    "def language_survey():\n",
    "    \"\"\"一个可供所有测试函数使用的 AnonymousSurvey 实例\"\"\"\n",
    "    question = \"What language did you first learn to speak?\"\n",
    "    language_survey = AnonymousSurvey(question)\n",
    "    return language_survey\n",
    "\n",
    "def test_store_single_response(language_survey):\n",
    "    \"\"\"测试单个答案会被妥善地存储\"\"\"\n",
    "    language_survey.store_response('English')\n",
    "    assert 'English' in language_survey.responses\n",
    "    \n",
    "def test_store_three_responses(language_survey):\n",
    "    \"\"\"测试三个答案会被妥善地存储\"\"\"\n",
    "    responses = ['English', 'Spanish', 'Mandarin']\n",
    "    for response in responses:\n",
    "        language_survey.store_response(response)\n",
    "        \n",
    "    for response in responses:\n",
    "        assert response in language_survey.responses"
   ]
  },
  {
   "cell_type": "markdown",
   "id": "1b7ab1b1",
   "metadata": {},
   "source": [
    "### 练习11.3 雇员"
   ]
  },
  {
   "cell_type": "code",
   "execution_count": null,
   "id": "4e0af2a6",
   "metadata": {},
   "outputs": [],
   "source": [
    "#编写Employee类\n",
    "class Employee:\n",
    "    def __init__(self, first_name, last_name, annual_salary):\n",
    "        self.first = first_name\n",
    "        self.last = last_name\n",
    "        self.salary = annual_salary\n",
    "\n",
    "    def give_raise(self,raise_salary=5000):\n",
    "        self.salary += raise_salary\n",
    "        \n",
    "#不使用夹具进行测试（终端完成）\n",
    "from employee import Employee\n",
    "\n",
    "def test_give_default_raise():\n",
    "    first_name = 'lan'\n",
    "    last_name = 'weiran'\n",
    "    annual_salary = 100000\n",
    "    employee_salary = Employee(first_name, last_name, annual_salary)\n",
    "    employee_salary.give_raise()\n",
    "    assert 105000 == employee_salary.salary\n",
    "\n",
    "def test_give_custom_raise():\n",
    "    first_name = 'lan'\n",
    "    last_name = 'weiran'\n",
    "    annual_salary = 100000\n",
    "    employee_salary = Employee(first_name, last_name, annual_salary)\n",
    "    employee_salary.give_raise(10000)\n",
    "    assert 110000 == employee_salary.salary\n",
    "    \n",
    "#编写夹具\n",
    "import pytest\n",
    "from employee import Employee\n",
    "\n",
    "@pytest.fixture\n",
    "def employee_salary():\n",
    "    first_name = 'lan'\n",
    "    last_name = 'weiran'\n",
    "    annual_salary = 100000\n",
    "    employee_salary = Employee(first_name, last_name, annual_salary)\n",
    "    return employee_salary\n",
    "\n",
    "def test_give_default_raise(employee_salary):\n",
    "    employee_salary.give_raise()\n",
    "    assert 105000 == employee_salary.salary\n",
    "\n",
    "def test_give_custom_raise(employee_salary):\n",
    "    employee_salary.give_raise(10000)\n",
    "    assert 110000 == employee_salary.salary"
   ]
  }
 ],
 "metadata": {
  "kernelspec": {
   "display_name": "Python 3 (ipykernel)",
   "language": "python",
   "name": "python3"
  },
  "language_info": {
   "codemirror_mode": {
    "name": "ipython",
    "version": 3
   },
   "file_extension": ".py",
   "mimetype": "text/x-python",
   "name": "python",
   "nbconvert_exporter": "python",
   "pygments_lexer": "ipython3",
   "version": "3.11.5"
  }
 },
 "nbformat": 4,
 "nbformat_minor": 5
}
