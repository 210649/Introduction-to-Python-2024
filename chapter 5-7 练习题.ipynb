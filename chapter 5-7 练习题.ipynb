{
 "cells": [
  {
   "cell_type": "markdown",
   "id": "78de41cc",
   "metadata": {},
   "source": [
    "# chapter 5"
   ]
  },
  {
   "cell_type": "code",
   "execution_count": 3,
   "id": "d987cb79",
   "metadata": {},
   "outputs": [
    {
     "name": "stdout",
     "output_type": "stream",
     "text": [
      "Is car == 'subaru'? I predict True.\n",
      "True\n",
      "\n",
      "Is car == 'audi'? I predict False.\n",
      "False\n",
      "\n",
      "Is number == '10'?I predict false.\n",
      "False\n"
     ]
    }
   ],
   "source": [
    "#5.1\n",
    "car = 'subaru'\n",
    "print(\"Is car == 'subaru'? I predict True.\")\n",
    "print(car == 'subaru')\n",
    "print(\"\\nIs car == 'audi'? I predict False.\")\n",
    "print(car == 'audi')\n",
    "\n",
    "number = 15\n",
    "print(\"\\nIs number == '10'?I predict false.\")\n",
    "print(number == 10)"
   ]
  },
  {
   "cell_type": "code",
   "execution_count": 9,
   "id": "943ca3a6",
   "metadata": {},
   "outputs": [
    {
     "name": "stdout",
     "output_type": "stream",
     "text": [
      "True\n",
      "False\n",
      "True\n",
      "True\n",
      "Qianqian isn't my friend.\n"
     ]
    }
   ],
   "source": [
    "#5.2\n",
    "name = 'Cachy'\n",
    "print(name.lower() == 'cachy')\n",
    "\n",
    "number = 9\n",
    "print(number > 5 and number < 8)\n",
    "\n",
    "number = 9\n",
    "print(number > 5 or number < 8)\n",
    "\n",
    "friends = ['huahua','xixi','honghong']\n",
    "print('huahua' in  friends)\n",
    "\n",
    "friend = 'qianqian'\n",
    "if friend not in friends:\n",
    "    print(f\"{friend.title()} isn't my friend.\")"
   ]
  },
  {
   "cell_type": "code",
   "execution_count": 3,
   "id": "588c3d64",
   "metadata": {},
   "outputs": [
    {
     "name": "stdout",
     "output_type": "stream",
     "text": [
      "You achieve 5 points.\n"
     ]
    }
   ],
   "source": [
    "#5.3\n",
    "alien_color = ['green','yellow','red']\n",
    "if 'green' in alien_color:\n",
    "    print(\"You achieve 5 points.\")\n",
    "alien_color = ['yellow','red']\n",
    "if 'green' in alien_color:\n",
    "    print(\"You achieve 5 points.\")"
   ]
  },
  {
   "cell_type": "code",
   "execution_count": 4,
   "id": "e36a4d84",
   "metadata": {},
   "outputs": [
    {
     "name": "stdout",
     "output_type": "stream",
     "text": [
      "You achieve 5 points.\n",
      "You achieve 10 points.\n"
     ]
    }
   ],
   "source": [
    "#5.4\n",
    "alien_color = ['green']\n",
    "if 'green' in alien_color:\n",
    "    print(\"You achieve 5 points.\")\n",
    "else:\n",
    "    print(\"You achieve 10 points.\")\n",
    "alien_color = ['red']\n",
    "if 'green' in alien_color:\n",
    "    print(\"You achieve 5 points.\")\n",
    "else:\n",
    "    print(\"You achieve 10 points.\")"
   ]
  },
  {
   "cell_type": "code",
   "execution_count": 5,
   "id": "196e9352",
   "metadata": {},
   "outputs": [
    {
     "name": "stdout",
     "output_type": "stream",
     "text": [
      "You achieve 5 points.\n",
      "You achieve 10 points.\n",
      "You achieve 15 points.\n"
     ]
    }
   ],
   "source": [
    "#5.5\n",
    "alien_color = ['green']\n",
    "if 'green' in alien_color:\n",
    "    print(\"You achieve 5 points.\")\n",
    "elif 'yellow' in alien_color:\n",
    "    print(\"You achieve 10 points.\")\n",
    "else:\n",
    "    print(\"You achieve 15 points.\")\n",
    "alien_color = ['yellow']\n",
    "if 'green' in alien_color:\n",
    "    print(\"You achieve 5 points.\")\n",
    "elif 'yellow' in alien_color:\n",
    "    print(\"You achieve 10 points.\")\n",
    "else:\n",
    "    print(\"You achieve 15 points.\")\n",
    "alien_color = ['red']\n",
    "if 'green' in alien_color:\n",
    "    print(\"You achieve 5 points.\")\n",
    "elif 'yellow' in alien_color:\n",
    "    print(\"You achieve 10 points.\")\n",
    "else:\n",
    "    print(\"You achieve 15 points.\")"
   ]
  },
  {
   "cell_type": "code",
   "execution_count": 7,
   "id": "2c2f4aab",
   "metadata": {},
   "outputs": [
    {
     "name": "stdout",
     "output_type": "stream",
     "text": [
      "这个人是少年。\n"
     ]
    }
   ],
   "source": [
    "#5.6\n",
    "age = 14\n",
    "if age < 2:\n",
    "    print(\"这个人是婴儿。\")\n",
    "elif 2 <= age < 4:\n",
    "    print(\"这个人是幼儿。\")\n",
    "elif 4<=age<13:\n",
    "    print(\"这个人是儿童。\")\n",
    "elif 13<=age<18:\n",
    "    print(\"这个人是少年。\")\n",
    "elif 18<=age<65:\n",
    "    print(\"这个人是中青年人。\")\n",
    "else:\n",
    "    print(\"这个人是老年人。\")"
   ]
  },
  {
   "cell_type": "code",
   "execution_count": 9,
   "id": "4f0f8c41",
   "metadata": {},
   "outputs": [
    {
     "name": "stdout",
     "output_type": "stream",
     "text": [
      "You really like bananas.\n",
      "You really like peaches.\n",
      "You really like strawberries.\n"
     ]
    }
   ],
   "source": [
    "#5.7\n",
    "favorite_fruits = ['peaches','bananas','strawberries']\n",
    "if 'bananas' in favorite_fruits:\n",
    "    print(\"You really like bananas.\")\n",
    "if 'peaches' in favorite_fruits:\n",
    "    print(\"You really like peaches.\")\n",
    "if 'strawberries' in favorite_fruits:\n",
    "    print(\"You really like strawberries.\")"
   ]
  },
  {
   "cell_type": "code",
   "execution_count": 12,
   "id": "059b9081",
   "metadata": {},
   "outputs": [
    {
     "name": "stdout",
     "output_type": "stream",
     "text": [
      "Hello admin, would you like to see a status report?\n",
      "Hello huahua, thank you for logging in again.\n",
      "Hello xixi, thank you for logging in again.\n",
      "Hello cachy, thank you for logging in again.\n",
      "Hello weiran, thank you for logging in again.\n"
     ]
    }
   ],
   "source": [
    "#5.8\n",
    "users = ['admin','huahua','xixi','cachy','weiran']\n",
    "for user in users:\n",
    "    if user == 'admin':\n",
    "        print(f\"Hello {user}, would you like to see a status report?\")\n",
    "    else:\n",
    "        print(f\"Hello {user}, thank you for logging in again.\")"
   ]
  },
  {
   "cell_type": "code",
   "execution_count": 14,
   "id": "cd7122da",
   "metadata": {},
   "outputs": [
    {
     "name": "stdout",
     "output_type": "stream",
     "text": [
      "Hello admin, would you like to see a status report?\n",
      "Hello huahua, thank you for logging in again.\n",
      "Hello xixi, thank you for logging in again.\n",
      "Hello cachy, thank you for logging in again.\n",
      "Hello weiran, thank you for logging in again.\n"
     ]
    }
   ],
   "source": [
    "#5.9\n",
    "users = ['admin','huahua','xixi','cachy','weiran']\n",
    "if users:\n",
    "    for user in users:\n",
    "        if user == 'admin':\n",
    "            print(f\"Hello {user}, would you like to see a status report?\")\n",
    "        else:\n",
    "            print(f\"Hello {user}, thank you for logging in again.\")\n",
    "else:\n",
    "    print(\"We need to find some users!\")"
   ]
  },
  {
   "cell_type": "code",
   "execution_count": 21,
   "id": "c1d7f8d9",
   "metadata": {},
   "outputs": [
    {
     "name": "stdout",
     "output_type": "stream",
     "text": [
      "The name Admin has been used,you need to change a name.\n",
      "The name WEIRAN has been used,you need to change a name.\n",
      "The name qianqian is not used.\n",
      "The name kuku is not used.\n"
     ]
    }
   ],
   "source": [
    "#5.10(大小写？？？)\n",
    "current_users = ['admin','huahua','xixi','cachy','weiran']\n",
    "new_users = ['Admin','WEIRAN','qianqian','kuku']\n",
    "for user in new_users:\n",
    "    if user.lower() in current_users:\n",
    "        print(f\"The name {user} has been used,you need to change a name.\")\n",
    "    else:\n",
    "        print(f\"The name {user} is not used.\")"
   ]
  },
  {
   "cell_type": "code",
   "execution_count": 17,
   "id": "6bd333c1",
   "metadata": {},
   "outputs": [
    {
     "name": "stdout",
     "output_type": "stream",
     "text": [
      "\n",
      "1st\n",
      "\n",
      "2nd\n",
      "\n",
      "3rd\n",
      "\n",
      "4th\n",
      "\n",
      "5th\n",
      "\n",
      "6th\n",
      "\n",
      "7th\n",
      "\n",
      "8th\n",
      "\n",
      "9th\n"
     ]
    }
   ],
   "source": [
    "#5.11\n",
    "numbers = [1,2,3,4,5,6,7,8,9]\n",
    "for number in numbers:\n",
    "    if number == 1:\n",
    "        print(\"\\n1st\")\n",
    "    elif number == 2:\n",
    "        print(\"\\n2nd\")\n",
    "    elif number ==3:\n",
    "         print(\"\\n3rd\")\n",
    "    else:\n",
    "        print(f\"\\n{number}th\")"
   ]
  },
  {
   "cell_type": "markdown",
   "id": "38591fec",
   "metadata": {},
   "source": [
    "# chapter 6"
   ]
  },
  {
   "cell_type": "code",
   "execution_count": 23,
   "id": "a4edd7bc",
   "metadata": {},
   "outputs": [
    {
     "name": "stdout",
     "output_type": "stream",
     "text": [
      "weiran\n",
      "Lan\n",
      "19\n",
      "Nanjing\n"
     ]
    }
   ],
   "source": [
    "#6.1\n",
    "person = {'first_name':'weiran','last_name':'Lan','age':19,'city':'Nanjing'}\n",
    "print(person['first_name'])\n",
    "print(person['last_name'])\n",
    "print(person['age'])\n",
    "print(person['city'])"
   ]
  },
  {
   "cell_type": "code",
   "execution_count": 30,
   "id": "87f3598b",
   "metadata": {},
   "outputs": [
    {
     "name": "stdout",
     "output_type": "stream",
     "text": [
      "\n",
      "Admin's favorite number is 6.\n",
      "\n",
      "Huahua's favorite number is 7.\n",
      "\n",
      "Xixi's favorite number is 3.\n",
      "\n",
      "Cachy's favorite number is 9.\n",
      "\n",
      "Weiran's favorite number is 2.\n"
     ]
    }
   ],
   "source": [
    "#6.2\n",
    "favorite_number = {'admin':6,'huahua':7,'xixi':3,'cachy':9,'weiran':2}\n",
    "for name,number in favorite_number.items():\n",
    "    print(f\"\\n{name.title()}'s favorite number is {number}.\")"
   ]
  },
  {
   "cell_type": "code",
   "execution_count": 37,
   "id": "ec1ee00a",
   "metadata": {},
   "outputs": [
    {
     "name": "stdout",
     "output_type": "stream",
     "text": [
      "注释是指行首有一特殊标志符号运行时告知编程忽略此行，使代码更易于阅读。\n",
      "关键字是指编程语言中 具有特殊意义的词。\n",
      "对象是指唯一标识，数据类型和值是Python中3个属性的数据值。\n",
      "Str是指字符串的数据类型。\n",
      "Int是指整数的数据类型。\n"
     ]
    }
   ],
   "source": [
    "#6.3\n",
    "vocabularies = {\n",
    "'注释':'行首有一特殊标志符号运行时告知编程忽略此行，使代码更易于阅读',\n",
    "'关键字':'编程语言中 具有特殊意义的词',\n",
    "'对象':'唯一标识，数据类型和值是Python中3个属性的数据值',\n",
    "'Str':'字符串的数据类型',\n",
    "'Int':'整数的数据类型'\n",
    "}\n",
    "for term,mean in vocabularies.items():\n",
    "    print(f\"{term}是指{mean}。\")"
   ]
  },
  {
   "cell_type": "code",
   "execution_count": 39,
   "id": "48db9285",
   "metadata": {},
   "outputs": [
    {
     "name": "stdout",
     "output_type": "stream",
     "text": [
      "注释是指行首有一特殊标志符号运行时告知编程忽略此行，使代码更易于阅读。\n",
      "关键字是指编程语言中 具有特殊意义的词。\n",
      "对象是指唯一标识，数据类型和值是Python中3个属性的数据值。\n",
      "Str是指字符串的数据类型。\n",
      "Int是指整数的数据类型。\n",
      "字典是指一系列键值对。\n",
      "变量是指可用于存储值的盒子。\n",
      "浮点数是指带小数点的数。\n",
      "常量是指在程序的整个生命周期内都保持不变的变量。\n",
      "元组是指不可变的列表。\n"
     ]
    }
   ],
   "source": [
    "#6.4\n",
    "vocabularies = {\n",
    "'注释':'行首有一特殊标志符号运行时告知编程忽略此行，使代码更易于阅读',\n",
    "'关键字':'编程语言中 具有特殊意义的词',\n",
    "'对象':'唯一标识，数据类型和值是Python中3个属性的数据值',\n",
    "'Str':'字符串的数据类型',\n",
    "'Int':'整数的数据类型'\n",
    "}\n",
    "vocabularies['字典'] = '一系列键值对'\n",
    "vocabularies['变量'] = '可用于存储值的盒子'\n",
    "vocabularies['浮点数'] = '带小数点的数'\n",
    "vocabularies['常量'] = '在程序的整个生命周期内都保持不变的变量'\n",
    "vocabularies['元组'] = '不可变的列表'\n",
    "for term,mean in vocabularies.items():\n",
    "    print(f\"{term}是指{mean}。\")"
   ]
  },
  {
   "cell_type": "code",
   "execution_count": 47,
   "id": "d8c28f7f",
   "metadata": {},
   "outputs": [
    {
     "name": "stdout",
     "output_type": "stream",
     "text": [
      "The Nile rnus through Egypt.\n",
      "The Yangtze rnus through China.\n",
      "The Rhine rnus through Germany.\n",
      "Nile\n",
      "Yangtze\n",
      "Rhine\n",
      "Egypt\n",
      "China\n",
      "Germany\n"
     ]
    }
   ],
   "source": [
    "#6.5\n",
    "river_nation = {\n",
    "    'nile':'egypt',\n",
    "    'yangtze':'china',\n",
    "    'rhine':'germany',\n",
    "    }\n",
    "for river,nation in river_nation.items():\n",
    "    print(f\"The {river.title()} rnus through {nation.title()}.\")\n",
    "for river in river_nation.keys():\n",
    "    print(river.title())\n",
    "for nation in river_nation.values():\n",
    "    print(nation.title())"
   ]
  },
  {
   "cell_type": "code",
   "execution_count": 49,
   "id": "077c8ff8",
   "metadata": {},
   "outputs": [
    {
     "name": "stdout",
     "output_type": "stream",
     "text": [
      "Thank you for taking part in survey,Jen.\n",
      "Thank you for taking part in survey,Sarah.\n",
      "Thank you for taking part in survey,Edward.\n",
      "Dear Phil,we invite you to the investigation.\n",
      "Dear Cachy,we invite you to the investigation.\n"
     ]
    }
   ],
   "source": [
    "#6.6\n",
    "names = ['jen','sarah','edward','phil','cachy']\n",
    "favorite_languages = {\n",
    "    'jen': 'python',\n",
    "    'sarah': 'c',\n",
    "    }\n",
    "favorite_languages['edward'] = 'rust'\n",
    "for name in names:\n",
    "    if name in favorite_languages.keys():\n",
    "        print(f\"Thank you for taking part in survey,{name.title()}.\")\n",
    "    else:\n",
    "        print(f\"Dear {name.title()},we invite you to the investigation.\")"
   ]
  },
  {
   "cell_type": "code",
   "execution_count": 56,
   "id": "c1c232f4",
   "metadata": {},
   "outputs": [
    {
     "name": "stdout",
     "output_type": "stream",
     "text": [
      "({'first_name': 'weiran', 'last_name': 'Lan', 'age': 19, 'city': 'Nanjing'},)\n",
      "{'first_name': 'qianqian', 'last_name': 'Xu', 'age': 17, 'city': 'Beijing'}\n",
      "{'first_name': 'Xixi', 'last_name': 'Su', 'age': 22, 'city': 'Shanghai'}\n",
      "{'first_name': 'huahua', 'last_name': 'Liu', 'age': 15, 'city': 'Suzhou'}\n"
     ]
    }
   ],
   "source": [
    "#6.7\n",
    "person_1 = {'first_name':'weiran',\n",
    "             'last_name':'Lan',\n",
    "             'age':19,\n",
    "            'city':'Nanjing'},\n",
    "person_2 = {'first_name':'qianqian',\n",
    "            'last_name':'Xu',\n",
    "            'age':17,\n",
    "             'city':'Beijing'}\n",
    "person_3 = {'first_name':'Xixi',\n",
    "            'last_name':'Su',\n",
    "            'age':22,\n",
    "            'city':'Shanghai'}\n",
    "person_4 = {'first_name':'huahua',\n",
    "            'last_name':'Liu',\n",
    "            'age':15,\n",
    "            'city':'Suzhou'}\n",
    "persons = [person_1,person_2,person_3,person_4]\n",
    "for person in persons:\n",
    "    print(person)"
   ]
  },
  {
   "cell_type": "code",
   "execution_count": 59,
   "id": "4fe069a2",
   "metadata": {},
   "outputs": [
    {
     "name": "stdout",
     "output_type": "stream",
     "text": [
      "{'owner': 'weiran', 'pet': 'dog'}\n",
      "{'owner': 'xixi', 'pet': 'cat'}\n",
      "{'owner': 'qianqian', 'pet': 'parrot'}\n"
     ]
    }
   ],
   "source": [
    "#6.8\n",
    "pet_1 = {'owner':'weiran','pet':'dog'}\n",
    "pet_2 = {'owner':'xixi','pet':'cat'}\n",
    "pet_3 = {'owner':'qianqian','pet':'parrot'}\n",
    "pets = [pet_1,pet_2,pet_3]\n",
    "for pet in pets:\n",
    "    print(pet)"
   ]
  },
  {
   "cell_type": "code",
   "execution_count": 62,
   "id": "e76c40ce",
   "metadata": {},
   "outputs": [
    {
     "name": "stdout",
     "output_type": "stream",
     "text": [
      "\n",
      "Aeinstein's favorite places are:\n",
      "\tNanjing\n",
      "\tBeijing\n",
      "\n",
      "Huahua's favorite places are:\n",
      "\tMaanshan\n",
      "\tSuzhou\n",
      "\tHangzhou\n",
      "\n",
      "Xixi's favorite places are:\n",
      "\tDongguan\n"
     ]
    }
   ],
   "source": [
    "#6.9\n",
    "favorite_places = {\n",
    "'aeinstein':['nanjing','beijing'],\n",
    "'huahua':['maanshan','suzhou','hangzhou'],\n",
    "'xixi':['dongguan']\n",
    "}\n",
    "for name,places in favorite_places.items():\n",
    "    print(f\"\\n{name.title()}'s favorite places are:\")\n",
    "    for place in places:\n",
    "        print(f\"\\t{place.title()}\")"
   ]
  },
  {
   "cell_type": "code",
   "execution_count": 77,
   "id": "d2ba9a03",
   "metadata": {},
   "outputs": [
    {
     "name": "stdout",
     "output_type": "stream",
     "text": [
      "\n",
      "Admin's favorite number are:\n"
     ]
    },
    {
     "ename": "TypeError",
     "evalue": "'int' object is not iterable",
     "output_type": "error",
     "traceback": [
      "\u001b[1;31m---------------------------------------------------------------------------\u001b[0m",
      "\u001b[1;31mTypeError\u001b[0m                                 Traceback (most recent call last)",
      "Cell \u001b[1;32mIn[77], line 11\u001b[0m\n\u001b[0;32m      9\u001b[0m \u001b[38;5;28;01mfor\u001b[39;00m name,numbers \u001b[38;5;129;01min\u001b[39;00m favorite_number\u001b[38;5;241m.\u001b[39mitems():\n\u001b[0;32m     10\u001b[0m     \u001b[38;5;28mprint\u001b[39m(\u001b[38;5;124mf\u001b[39m\u001b[38;5;124m\"\u001b[39m\u001b[38;5;130;01m\\n\u001b[39;00m\u001b[38;5;132;01m{\u001b[39;00mname\u001b[38;5;241m.\u001b[39mtitle()\u001b[38;5;132;01m}\u001b[39;00m\u001b[38;5;124m'\u001b[39m\u001b[38;5;124ms favorite number are:\u001b[39m\u001b[38;5;124m\"\u001b[39m)\n\u001b[1;32m---> 11\u001b[0m     \u001b[38;5;28;01mfor\u001b[39;00m number \u001b[38;5;129;01min\u001b[39;00m numbers:\n\u001b[0;32m     12\u001b[0m         \u001b[38;5;28mprint\u001b[39m(\u001b[38;5;124mf\u001b[39m\u001b[38;5;124m\"\u001b[39m\u001b[38;5;132;01m{\u001b[39;00mnumebr\u001b[38;5;132;01m}\u001b[39;00m\u001b[38;5;124m\"\u001b[39m)\n",
      "\u001b[1;31mTypeError\u001b[0m: 'int' object is not iterable"
     ]
    }
   ],
   "source": [
    "#6.10(数字无法遍历如何调用？？)\n",
    "favorite_numbers = {\n",
    "'admin':[6,9],\n",
    "'huahua':[7,2,3],\n",
    "'xixi':[3],\n",
    "'cachy':[9,6],\n",
    "'weiran':[2,7]\n",
    "}\n",
    "for name,numbers in favorite_number.items():\n",
    "    print(f\"\\n{name.title()}'s favorite number are:\")\n",
    "    for number in numbers:\n",
    "        print(f\"{numebr}\")"
   ]
  },
  {
   "cell_type": "code",
   "execution_count": 86,
   "id": "de1935d9",
   "metadata": {},
   "outputs": [
    {
     "name": "stdout",
     "output_type": "stream",
     "text": [
      "\n",
      "City:Shanghai\n",
      "\n",
      "Nation:China\n",
      "\n",
      "Population:2487million\n",
      "\n",
      "Shanghai is in the east of China.\n",
      "\n",
      "City:Pari\n",
      "\n",
      "Nation:French\n",
      "\n",
      "Population:210million\n",
      "\n",
      "Pari is th capitial of French.\n"
     ]
    }
   ],
   "source": [
    "#6.11\n",
    "cities = {\n",
    "    'Shanghai':{\n",
    "        'nation':'China',\n",
    "        'population':'2487million',\n",
    "        'fact':'Shanghai is in the east of China.'\n",
    "            },\n",
    "    'Pari':{\n",
    "        'nation':'French',\n",
    "        'population':'210million',\n",
    "        'fact':'Pari is th capitial of French.'\n",
    "            }\n",
    "    }\n",
    "for city,infor in cities.items():\n",
    "    print(f\"\\nCity:{city}\")\n",
    "    nation = infor['nation']\n",
    "    population = infor['population']\n",
    "    fact = infor['fact']\n",
    "    print(f\"\\nNation:{nation}\")\n",
    "    print(f\"\\nPopulation:{population}\")\n",
    "    print(f\"\\n{fact}\")"
   ]
  },
  {
   "cell_type": "markdown",
   "id": "9bbae607",
   "metadata": {},
   "source": [
    "# chapter 7"
   ]
  },
  {
   "cell_type": "code",
   "execution_count": 3,
   "id": "19bc9297",
   "metadata": {},
   "outputs": [
    {
     "name": "stdout",
     "output_type": "stream",
     "text": [
      "What kind of car do you want to rent:Subaru\n",
      "\n",
      "Let me see if I can find you a Subaru.\n"
     ]
    }
   ],
   "source": [
    "#7.1\n",
    "car = input(\"What kind of car do you want to rent:\")\n",
    "print(f\"\\nLet me see if I can find you a {car}.\")"
   ]
  },
  {
   "cell_type": "code",
   "execution_count": 4,
   "id": "5e7d10cf",
   "metadata": {
    "scrolled": true
   },
   "outputs": [
    {
     "name": "stdout",
     "output_type": "stream",
     "text": [
      "How many customers are eating:6\n",
      "Welcome,there is a available table.\n"
     ]
    }
   ],
   "source": [
    "#7.2\n",
    "number = input(\"How many customers are eating:\")\n",
    "number = int(number)\n",
    "if number > 8:\n",
    "    print(\"Sorry,no available table,please wait for a while.\")\n",
    "else:\n",
    "    print(\"Welcome,there is a available table.\")"
   ]
  },
  {
   "cell_type": "code",
   "execution_count": 7,
   "id": "bb5610c9",
   "metadata": {},
   "outputs": [
    {
     "name": "stdout",
     "output_type": "stream",
     "text": [
      "Please input a number.I will tell you if it's a multiple of 10.132\n",
      "\n",
      "The number 132 isn't a multiple of 10.\n"
     ]
    }
   ],
   "source": [
    "#7.3\n",
    "number = input(\"Please input a number.I will tell you if it's a multiple of 10.\")\n",
    "number = int(number)\n",
    "if number % 10 == 0:\n",
    "    print(f\"\\nYes,the number {number} is a multiple of 10.\")\n",
    "else:\n",
    "    print(f\"\\nThe number {number} isn't a multiple of 10.\")"
   ]
  },
  {
   "cell_type": "code",
   "execution_count": 22,
   "id": "43968542",
   "metadata": {},
   "outputs": [
    {
     "name": "stdout",
     "output_type": "stream",
     "text": [
      "Please tell me a series of pizza ingredients:\n",
      "Enter 'quit' to end the program. mango\n",
      "add mango.\n",
      "Please tell me a series of pizza ingredients:\n",
      "Enter 'quit' to end the program. quit\n",
      "add quit.\n"
     ]
    }
   ],
   "source": [
    "#7.4\n",
    "prompt = \"Please tell me a series of pizza ingredients:\"\n",
    "prompt +=\"\\nEnter 'quit' to end the program. \"\n",
    "message = \"\"\n",
    "active = True\n",
    "while active:\n",
    "    if message != \"quit\":\n",
    "        message = input(prompt)\n",
    "        print(f\"add {message}.\")\n",
    "    else:\n",
    "        active = False\n",
    "        break"
   ]
  },
  {
   "cell_type": "code",
   "execution_count": 3,
   "id": "e5e50538",
   "metadata": {},
   "outputs": [
    {
     "name": "stdout",
     "output_type": "stream",
     "text": [
      "please fill in your age:\n",
      "Enter 'quit' to end the program. 19\n",
      "The ticket of film is $15.\n",
      "please fill in your age:\n",
      "Enter 'quit' to end the program. quit\n",
      "The ticket of film is $15.\n"
     ]
    }
   ],
   "source": [
    "#7.5\n",
    "prompt = \"please fill in your age:\"\n",
    "prompt += \"\\nEnter 'quit' to end the program. \"\n",
    "active = True\n",
    "while active:\n",
    "    message = input(prompt)\n",
    "    if message == 'quit':\n",
    "        active = False\n",
    "    else:\n",
    "        age = int(message)\n",
    "        fee = \"\"\n",
    "    if age < 3:\n",
    "        fee = \"free\"\n",
    "    elif age >= 12:\n",
    "        fee = \"$15\" \n",
    "    else:\n",
    "        fee = \"10\"\n",
    "    print(f\"The ticket of film is {fee}.\")"
   ]
  },
  {
   "cell_type": "code",
   "execution_count": 89,
   "id": "7a81c0b3",
   "metadata": {},
   "outputs": [
    {
     "name": "stdout",
     "output_type": "stream",
     "text": [
      "Please tell me a series of pizza ingredients:\n",
      "Enter 'quit' to end the program. beef\n",
      "add beef.\n",
      "Please tell me a series of pizza ingredients:\n",
      "Enter 'quit' to end the program. durian\n",
      "add durian.\n",
      "Please tell me a series of pizza ingredients:\n",
      "Enter 'quit' to end the program. quit\n"
     ]
    }
   ],
   "source": [
    "#7.6\n",
    "prompt = \"Please tell me a series of pizza ingredients:\"\n",
    "prompt +=\"\\nEnter 'quit' to end the program. \"\n",
    "message = \"\"\n",
    "while True:\n",
    "    message = input(prompt)\n",
    "    if message == \"quit\":\n",
    "        break\n",
    "    else:\n",
    "        print(f\"add {message}.\")"
   ]
  },
  {
   "cell_type": "code",
   "execution_count": null,
   "id": "79ed49c0",
   "metadata": {},
   "outputs": [],
   "source": [
    "#7.7 无限循环（试过了电脑卡死了此处省略）"
   ]
  },
  {
   "cell_type": "code",
   "execution_count": 94,
   "id": "b162ee23",
   "metadata": {},
   "outputs": [
    {
     "name": "stdout",
     "output_type": "stream",
     "text": [
      "I made your Bocadillo sandwich.\n",
      "I made your Montadito sandwich.\n",
      "I made your Pan Bagnat sandwich.\n",
      "Here are these sandwiches:['Bocadillo', 'Montadito', 'Pan Bagnat'].\n"
     ]
    }
   ],
   "source": [
    "#7.8\n",
    "sandwich_orders = ['Bocadillo','Montadito','Pan Bagnat','pastrami']\n",
    "finished_sandwiches = []\n",
    "for sdwi in sandwich_orders:\n",
    "    print(f\"I made your {sdwi} sandwich.\")\n",
    "    finished_sandwiches = [{sdwi}]\n",
    "print(f\"Here are these sandwiches:{sandwich_orders}.\")"
   ]
  },
  {
   "cell_type": "code",
   "execution_count": 106,
   "id": "577da73e",
   "metadata": {},
   "outputs": [
    {
     "name": "stdout",
     "output_type": "stream",
     "text": [
      "Pastrami has been sold out.\n",
      "['Bocadillo', 'Montadito', 'Pan Bagnat']\n"
     ]
    }
   ],
   "source": [
    "#7.9\n",
    "print(\"Pastrami has been sold out.\")\n",
    "sandwich_orders = ['Bocadillo','Montadito','Pan Bagnat','pastrami']\n",
    "while 'pastrami' in sandwich_orders:\n",
    "    sandwich_orders.remove('pastrami')\n",
    "finished_sandwiches = sandwich_orders\n",
    "print(finished_sandwiches)"
   ]
  },
  {
   "cell_type": "code",
   "execution_count": 3,
   "id": "9aa99f6f",
   "metadata": {},
   "outputs": [
    {
     "name": "stdout",
     "output_type": "stream",
     "text": [
      "If you could visit one place in the world,where would you go?Enter 'quit' to end the program.Chongqing\n",
      "user's favorite places have:Chongqing.\n",
      "If you could visit one place in the world,where would you go?Enter 'quit' to end the program.Chengdu\n",
      "user's favorite places have:Chengdu.\n",
      "If you could visit one place in the world,where would you go?Enter 'quit' to end the program.quit\n",
      "user's favorite places have:quit.\n"
     ]
    }
   ],
   "source": [
    "#7.10\n",
    "prompt = \"If you could visit one place in the world,where would you go?\"\n",
    "prompt += \"Enter 'quit' to end the program.\"\n",
    "message = \"\"\n",
    "while True:\n",
    "    if message == \"quit\":\n",
    "        break\n",
    "    else:\n",
    "        message = input(prompt)\n",
    "        print(f\"user's favorite places have:{message}.\")"
   ]
  }
 ],
 "metadata": {
  "kernelspec": {
   "display_name": "Python 3 (ipykernel)",
   "language": "python",
   "name": "python3"
  },
  "language_info": {
   "codemirror_mode": {
    "name": "ipython",
    "version": 3
   },
   "file_extension": ".py",
   "mimetype": "text/x-python",
   "name": "python",
   "nbconvert_exporter": "python",
   "pygments_lexer": "ipython3",
   "version": "3.11.5"
  }
 },
 "nbformat": 4,
 "nbformat_minor": 5
}
