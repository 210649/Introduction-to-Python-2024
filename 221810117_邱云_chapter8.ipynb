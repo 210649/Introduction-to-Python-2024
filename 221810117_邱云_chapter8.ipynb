{
 "cells": [
  {
   "cell_type": "markdown",
   "id": "f30002bf",
   "metadata": {},
   "source": [
    "# 第 8 章　函数"
   ]
  },
  {
   "cell_type": "markdown",
   "id": "d7757fc6",
   "metadata": {},
   "source": [
    "## 8.1　定义函数"
   ]
  },
  {
   "cell_type": "code",
   "execution_count": 1,
   "id": "bffa7cd5",
   "metadata": {},
   "outputs": [
    {
     "name": "stdout",
     "output_type": "stream",
     "text": [
      "Hello!\n"
     ]
    }
   ],
   "source": [
    "def greet_user():\n",
    "    \"\"\"显示简单的问候语\"\"\"\n",
    "    print(\"Hello!\")\n",
    "greet_user()"
   ]
  },
  {
   "cell_type": "markdown",
   "id": "fa4076df",
   "metadata": {},
   "source": [
    "### 8.1.1　向函数传递信息"
   ]
  },
  {
   "cell_type": "code",
   "execution_count": 2,
   "id": "a21f9fd2",
   "metadata": {},
   "outputs": [
    {
     "name": "stdout",
     "output_type": "stream",
     "text": [
      "Hello, Jesse!\n"
     ]
    }
   ],
   "source": [
    "def greet_user(username):\n",
    "    \"\"\"显示简单的问候语\"\"\"#文档注释\n",
    "    print(f\"Hello, {username.title()}!\")\n",
    "greet_user('jesse')"
   ]
  },
  {
   "cell_type": "markdown",
   "id": "df0014a2",
   "metadata": {},
   "source": [
    "### 8.1.2　实参和形参"
   ]
  },
  {
   "cell_type": "markdown",
   "id": "06b96697",
   "metadata": {},
   "source": [
    "##### 如上例，username形参，jesse实参"
   ]
  },
  {
   "cell_type": "markdown",
   "id": "b3ea05b4",
   "metadata": {},
   "source": [
    "### 练习"
   ]
  },
  {
   "cell_type": "code",
   "execution_count": 3,
   "id": "22e3cec4",
   "metadata": {},
   "outputs": [
    {
     "name": "stdout",
     "output_type": "stream",
     "text": [
      "The theme of this chapter is function.\n"
     ]
    }
   ],
   "source": [
    "#8.1 消息\n",
    "def display_message():\n",
    "   print(\"The theme of this chapter is function.\")\n",
    "display_message()"
   ]
  },
  {
   "cell_type": "code",
   "execution_count": 4,
   "id": "e6dee1fe",
   "metadata": {},
   "outputs": [
    {
     "name": "stdout",
     "output_type": "stream",
     "text": [
      "One of my favorite book is Alice in Wonderland.\n"
     ]
    }
   ],
   "source": [
    "#8.2 喜欢的书\n",
    "def favorite_book(title):\n",
    "    \"\"\"我最爱的书\"\"\"\n",
    "    print(f\"One of my favorite book is {title}\")\n",
    "favorite_book('Alice in Wonderland.')"
   ]
  },
  {
   "cell_type": "markdown",
   "id": "6ce301d5",
   "metadata": {},
   "source": [
    "## 8.2　传递实参"
   ]
  },
  {
   "cell_type": "markdown",
   "id": "5943a56b",
   "metadata": {},
   "source": [
    "### 8.2.1　位置实参"
   ]
  },
  {
   "cell_type": "code",
   "execution_count": 5,
   "id": "b8037845",
   "metadata": {},
   "outputs": [
    {
     "name": "stdout",
     "output_type": "stream",
     "text": [
      "\n",
      "I have a hamster.\n",
      "My hamster's name is Harry.\n"
     ]
    }
   ],
   "source": [
    "#pets.py\n",
    "def describe_pet(animal_type, pet_name):\n",
    "    \"\"\"显示宠物的信息\"\"\"\n",
    "    print(f\"\\nI have a {animal_type}.\")\n",
    "    print(f\"My {animal_type}'s name is {pet_name.title()}.\")\n",
    "describe_pet('hamster', 'harry')"
   ]
  },
  {
   "cell_type": "code",
   "execution_count": 6,
   "id": "807af24c",
   "metadata": {},
   "outputs": [
    {
     "name": "stdout",
     "output_type": "stream",
     "text": [
      "\n",
      "I have a hamster.\n",
      "My hamster's name is Harry.\n",
      "\n",
      "I have a dog.\n",
      "My dog's name is Willie.\n"
     ]
    }
   ],
   "source": [
    "#多次调用函数\n",
    "def describe_pet(animal_type, pet_name):\n",
    "    \"\"\"显示宠物的信息\"\"\"\n",
    "    print(f\"\\nI have a {animal_type}.\")\n",
    "    print(f\"My {animal_type}'s name is {pet_name.title()}.\")\n",
    "    \n",
    "describe_pet('hamster', 'harry')\n",
    "describe_pet('dog', 'willie')"
   ]
  },
  {
   "cell_type": "code",
   "execution_count": 7,
   "id": "16f23c74",
   "metadata": {},
   "outputs": [
    {
     "name": "stdout",
     "output_type": "stream",
     "text": [
      "\n",
      "I have a harry.\n",
      "My harry's name is Hamster.\n"
     ]
    }
   ],
   "source": [
    "#位置实参的顺序很重要\n",
    "#多次调用函数\n",
    "def describe_pet(animal_type, pet_name):\n",
    "    \"\"\"显示宠物的信息\"\"\"\n",
    "    print(f\"\\nI have a {animal_type}.\")\n",
    "    print(f\"My {animal_type}'s name is {pet_name.title()}.\")\n",
    "    \n",
    "describe_pet('harry','hamster')"
   ]
  },
  {
   "cell_type": "markdown",
   "id": "14410b64",
   "metadata": {},
   "source": [
    "### 8.2.2　关键字实参"
   ]
  },
  {
   "cell_type": "code",
   "execution_count": 8,
   "id": "bbf4a80a",
   "metadata": {},
   "outputs": [
    {
     "name": "stdout",
     "output_type": "stream",
     "text": [
      "\n",
      "I have a hamster.\n",
      "My hamster's name is Harry.\n"
     ]
    }
   ],
   "source": [
    "def describe_pet(animal_type, pet_name):\n",
    "    \"\"\"显示宠物的信息\"\"\"\n",
    "    print(f\"\\nI have a {animal_type}.\")\n",
    "    print(f\"My {animal_type}'s name is {pet_name.title()}.\")\n",
    "    \n",
    "describe_pet(animal_type='hamster', pet_name='harry')"
   ]
  },
  {
   "cell_type": "markdown",
   "id": "b730c7b1",
   "metadata": {},
   "source": [
    "### 8.2.3　默认值"
   ]
  },
  {
   "cell_type": "code",
   "execution_count": 9,
   "id": "bf46eef2",
   "metadata": {},
   "outputs": [
    {
     "name": "stdout",
     "output_type": "stream",
     "text": [
      "\n",
      "I have a dog.\n",
      "My dog's name is Willie.\n"
     ]
    }
   ],
   "source": [
    "def describe_pet(pet_name, animal_type='dog'):\n",
    "    \"\"\"显示宠物的信息\"\"\"\n",
    "    print(f\"\\nI have a {animal_type}.\")\n",
    "    print(f\"My {animal_type}'s name is {pet_name.title()}.\")\n",
    "    \n",
    "describe_pet(pet_name='willie')"
   ]
  },
  {
   "cell_type": "code",
   "execution_count": 10,
   "id": "f0c9c419",
   "metadata": {},
   "outputs": [
    {
     "name": "stdout",
     "output_type": "stream",
     "text": [
      "\n",
      "I have a hamster.\n",
      "My hamster's name is Harry.\n"
     ]
    }
   ],
   "source": [
    "describe_pet(pet_name='harry', animal_type='hamster')"
   ]
  },
  {
   "cell_type": "markdown",
   "id": "084e6642",
   "metadata": {},
   "source": [
    "### 8.2.4　等效的函数调用"
   ]
  },
  {
   "cell_type": "code",
   "execution_count": 11,
   "id": "074bfe1b",
   "metadata": {},
   "outputs": [
    {
     "name": "stdout",
     "output_type": "stream",
     "text": [
      "\n",
      "I have a dog.\n",
      "My dog's name is Willie.\n",
      "\n",
      "I have a dog.\n",
      "My dog's name is Willie.\n",
      "\n",
      "I have a hamster.\n",
      "My hamster's name is Harry.\n",
      "\n",
      "I have a hamster.\n",
      "My hamster's name is Harry.\n",
      "\n",
      "I have a hamster.\n",
      "My hamster's name is Harry.\n"
     ]
    }
   ],
   "source": [
    "# 一条名为 Willie 的小狗\n",
    "describe_pet('willie')\n",
    "describe_pet(pet_name='willie')\n",
    "\n",
    "# 一只名为 Harry 的仓鼠\n",
    "describe_pet('harry', 'hamster')\n",
    "describe_pet(pet_name='harry', animal_type='hamster')\n",
    "describe_pet(animal_type='hamster', pet_name='harry')"
   ]
  },
  {
   "cell_type": "markdown",
   "id": "2f6539cf",
   "metadata": {},
   "source": [
    "### 8.2.5　避免实参错误"
   ]
  },
  {
   "cell_type": "code",
   "execution_count": 12,
   "id": "2ba7475f",
   "metadata": {},
   "outputs": [
    {
     "ename": "TypeError",
     "evalue": "describe_pet() missing 2 required positional arguments: 'animal_type' and 'pet_name'",
     "output_type": "error",
     "traceback": [
      "\u001b[1;31m---------------------------------------------------------------------------\u001b[0m",
      "\u001b[1;31mTypeError\u001b[0m                                 Traceback (most recent call last)",
      "Cell \u001b[1;32mIn[12], line 6\u001b[0m\n\u001b[0;32m      4\u001b[0m     \u001b[38;5;28mprint\u001b[39m(\u001b[38;5;124mf\u001b[39m\u001b[38;5;124m\"\u001b[39m\u001b[38;5;130;01m\\n\u001b[39;00m\u001b[38;5;124mI have a \u001b[39m\u001b[38;5;132;01m{\u001b[39;00manimal_type\u001b[38;5;132;01m}\u001b[39;00m\u001b[38;5;124m.\u001b[39m\u001b[38;5;124m\"\u001b[39m)\n\u001b[0;32m      5\u001b[0m     \u001b[38;5;28mprint\u001b[39m(\u001b[38;5;124mf\u001b[39m\u001b[38;5;124m\"\u001b[39m\u001b[38;5;124mMy \u001b[39m\u001b[38;5;132;01m{\u001b[39;00manimal_type\u001b[38;5;132;01m}\u001b[39;00m\u001b[38;5;124m'\u001b[39m\u001b[38;5;124ms name is \u001b[39m\u001b[38;5;132;01m{\u001b[39;00mpet_name\u001b[38;5;241m.\u001b[39mtitle()\u001b[38;5;132;01m}\u001b[39;00m\u001b[38;5;124m.\u001b[39m\u001b[38;5;124m\"\u001b[39m)\n\u001b[1;32m----> 6\u001b[0m describe_pet()\n",
      "\u001b[1;31mTypeError\u001b[0m: describe_pet() missing 2 required positional arguments: 'animal_type' and 'pet_name'"
     ]
    }
   ],
   "source": [
    "#错误示例\n",
    "def describe_pet(animal_type, pet_name):\n",
    "    \"\"\"显示宠物的信息\"\"\"\n",
    "    print(f\"\\nI have a {animal_type}.\")\n",
    "    print(f\"My {animal_type}'s name is {pet_name.title()}.\")\n",
    "describe_pet()"
   ]
  },
  {
   "cell_type": "markdown",
   "id": "383e93da",
   "metadata": {},
   "source": [
    "### 练习"
   ]
  },
  {
   "cell_type": "code",
   "execution_count": 13,
   "id": "b81bcd58",
   "metadata": {},
   "outputs": [
    {
     "name": "stdout",
     "output_type": "stream",
     "text": [
      "The scale of this shirt is L.\n",
      "The font on shirt is Love.\n",
      "The scale of this shirt is M.\n",
      "The font on shirt is Sunny.\n"
     ]
    }
   ],
   "source": [
    "#8.3 T恤\n",
    "def make_shirt(scale,font):\n",
    "    print(f\"The scale of this shirt is {scale}.\")\n",
    "    print(f\"The font on shirt is {font}.\")\n",
    "make_shirt('L','Love')\n",
    "make_shirt(scale='M',font='Sunny')"
   ]
  },
  {
   "cell_type": "code",
   "execution_count": 14,
   "id": "05adb920",
   "metadata": {},
   "outputs": [
    {
     "name": "stdout",
     "output_type": "stream",
     "text": [
      "The scale of this shirt is L,and font on it is I love Python.\n",
      "The scale of this shirt is M,and font on it is I love Python.\n",
      "The scale of this shirt is L,and font on it is Happy days.\n"
     ]
    }
   ],
   "source": [
    "#8.4 大号 T 恤　\n",
    "def make_shirt(scale='L',font='I love Python'):\n",
    "    print(f\"The scale of this shirt is {scale},and font on it is {font}.\")\n",
    "make_shirt()\n",
    "make_shirt('M')\n",
    "make_shirt(font='Happy days')"
   ]
  },
  {
   "cell_type": "code",
   "execution_count": 15,
   "id": "19e0907f",
   "metadata": {},
   "outputs": [
    {
     "name": "stdout",
     "output_type": "stream",
     "text": [
      "Beijing is in China.\n",
      "Nanjing is in China.\n",
      "New York is in America.\n"
     ]
    }
   ],
   "source": [
    "#8.5 城市\n",
    "def describe_city(city='Beijing',nation='China'):\n",
    "    print(f\"{city.title()} is in {nation.title()}.\")\n",
    "describe_city()\n",
    "describe_city('Nanjing')\n",
    "describe_city('New York','America')"
   ]
  },
  {
   "cell_type": "markdown",
   "id": "68d8aad5",
   "metadata": {},
   "source": [
    "## 8.3　返回值"
   ]
  },
  {
   "cell_type": "markdown",
   "id": "8ecc4fb6",
   "metadata": {},
   "source": [
    "### 8.3.1　返回简单的值"
   ]
  },
  {
   "cell_type": "code",
   "execution_count": 16,
   "id": "4c508ef0",
   "metadata": {},
   "outputs": [
    {
     "name": "stdout",
     "output_type": "stream",
     "text": [
      "Jimi Hendrix\n"
     ]
    }
   ],
   "source": [
    "#formatted_name.py\n",
    "def get_formatted_name(first_name, last_name):\n",
    "    \"\"\"返回标准格式的姓名\"\"\"\n",
    "    full_name = f\"{first_name} {last_name}\"\n",
    "    return full_name.title()\n",
    "\n",
    "musician = get_formatted_name('jimi', 'hendrix')\n",
    "print(musician)"
   ]
  },
  {
   "cell_type": "markdown",
   "id": "8ad8fda7",
   "metadata": {},
   "source": [
    "### 8.3.2　让实参变成可选的"
   ]
  },
  {
   "cell_type": "code",
   "execution_count": 17,
   "id": "265cb7e4",
   "metadata": {},
   "outputs": [
    {
     "name": "stdout",
     "output_type": "stream",
     "text": [
      "John Lee Hooker\n"
     ]
    }
   ],
   "source": [
    "def get_formatted_name(first_name, middle_name, last_name):\n",
    "    \"\"\"返回标准格式的姓名\"\"\"\n",
    "    full_name = f\"{first_name} {middle_name} {last_name}\"\n",
    "    return full_name.title()\n",
    "musician = get_formatted_name('john', 'lee', 'hooker')\n",
    "print(musician)"
   ]
  },
  {
   "cell_type": "code",
   "execution_count": 18,
   "id": "8563a1cb",
   "metadata": {},
   "outputs": [
    {
     "name": "stdout",
     "output_type": "stream",
     "text": [
      "Jimi Hendrix\n",
      "John Lee Hooker\n"
     ]
    }
   ],
   "source": [
    "def get_formatted_name(first_name, last_name, middle_name=''):\n",
    "    \"\"\"返回标准格式的姓名\"\"\"\n",
    "    #中间名可选\n",
    "    if middle_name:\n",
    "        full_name = f\"{first_name} {middle_name} {last_name}\"\n",
    "    else:\n",
    "        full_name = f\"{first_name} {last_name}\"\n",
    "    return full_name.title()\n",
    "\n",
    "musician = get_formatted_name('jimi', 'hendrix')\n",
    "print(musician)\n",
    "musician = get_formatted_name('john', 'hooker', 'lee')\n",
    "print(musician)"
   ]
  },
  {
   "cell_type": "markdown",
   "id": "43024c12",
   "metadata": {},
   "source": [
    "### 8.3.3　返回字典"
   ]
  },
  {
   "cell_type": "code",
   "execution_count": 19,
   "id": "b507083e",
   "metadata": {},
   "outputs": [
    {
     "name": "stdout",
     "output_type": "stream",
     "text": [
      "{'first': 'jimi', 'last': 'hendrix'}\n"
     ]
    }
   ],
   "source": [
    "#person.py\n",
    "def build_person(first_name, last_name):\n",
    "    \"\"\"返回一个字典，其中包含有关一个人的信息\"\"\"\n",
    "    person = {'first': first_name, 'last': last_name}\n",
    "    return person\n",
    "musician = build_person('jimi', 'hendrix')\n",
    "print(musician)"
   ]
  },
  {
   "cell_type": "code",
   "execution_count": 20,
   "id": "af497679",
   "metadata": {},
   "outputs": [
    {
     "name": "stdout",
     "output_type": "stream",
     "text": [
      "{'first': 'jimi', 'last': 'hendrix', 'age': 27}\n"
     ]
    }
   ],
   "source": [
    "def build_person(first_name, last_name, age=None):\n",
    "    \"\"\"返回一个字典，其中包含有关一个人的信息\"\"\"\n",
    "    person = {'first': first_name, 'last': last_name}\n",
    "    if age:\n",
    "        person['age'] = age\n",
    "    return person\n",
    "\n",
    "musician = build_person('jimi', 'hendrix', age=27)\n",
    "print(musician)"
   ]
  },
  {
   "cell_type": "markdown",
   "id": "18d9e800",
   "metadata": {},
   "source": [
    "### 8.3.4　结合使用函数和 while 循环"
   ]
  },
  {
   "cell_type": "code",
   "execution_count": null,
   "id": "f93aace5",
   "metadata": {},
   "outputs": [
    {
     "name": "stdout",
     "output_type": "stream",
     "text": [
      "\n",
      "Please tell me your name:\n",
      "First name: Qiu\n",
      "Last name: Yun\n",
      "\n",
      "Hello, Qiu Yun!\n",
      "\n",
      "Please tell me your name:\n"
     ]
    }
   ],
   "source": [
    "def get_formatted_name(first_name, last_name):\n",
    "    \"\"\"返回规范格式的姓名\"\"\"\n",
    "    full_name = f\"{first_name} {last_name}\"\n",
    "    return full_name.title()\n",
    "\n",
    "# 这是一个无限循环！\n",
    "while True:\n",
    "    print(\"\\nPlease tell me your name:\")\n",
    "    f_name = input(\"First name: \")\n",
    "    l_name = input(\"Last name: \")\n",
    "    \n",
    "    formatted_name = get_formatted_name(f_name, l_name)\n",
    "    print(f\"\\nHello, {formatted_name}!\")"
   ]
  },
  {
   "cell_type": "code",
   "execution_count": 1,
   "id": "418dbf4b",
   "metadata": {},
   "outputs": [
    {
     "name": "stdout",
     "output_type": "stream",
     "text": [
      "\n",
      "Please tell me your name:\n",
      "(enter 'q' at any time to quit)\n",
      "First name: Qiu\n",
      "Last name: Yun\n",
      "\n",
      "Hello, Qiu Yun!\n",
      "\n",
      "Please tell me your name:\n",
      "(enter 'q' at any time to quit)\n",
      "First name: q\n"
     ]
    }
   ],
   "source": [
    "def get_formatted_name(first_name, last_name):\n",
    "    \"\"\"返回规范格式的姓名\"\"\"\n",
    "    full_name = f\"{first_name} {last_name}\"\n",
    "    return full_name.title()\n",
    "\n",
    "while True:\n",
    "    print(\"\\nPlease tell me your name:\")\n",
    "    print(\"(enter 'q' at any time to quit)\")\n",
    "    \n",
    "    f_name = input(\"First name: \")\n",
    "    if f_name == 'q':\n",
    "        break\n",
    "    l_name = input(\"Last name: \")\n",
    "    if l_name == 'q':\n",
    "        break\n",
    "        \n",
    "    formatted_name = get_formatted_name(f_name, l_name)\n",
    "    print(f\"\\nHello, {formatted_name}!\")"
   ]
  },
  {
   "cell_type": "markdown",
   "id": "5e8ca2c6",
   "metadata": {},
   "source": [
    "### 练习"
   ]
  },
  {
   "cell_type": "code",
   "execution_count": 14,
   "id": "cc22f83f",
   "metadata": {},
   "outputs": [
    {
     "name": "stdout",
     "output_type": "stream",
     "text": [
      "Santiago,Chile\n",
      "Santiago,Chile\n",
      "Shanghai,China\n",
      "Washington,America\n"
     ]
    }
   ],
   "source": [
    "#8.6：城市名\n",
    "#定义函数\n",
    "def city_country(city,country):\n",
    "    \"\"\"返回城市的名称及所属的国家\"\"\"\n",
    "    full = f\"{city},{country}\"\n",
    "    return full.title()\n",
    "#使用城市、国家\n",
    "place_1 = city_country('santiago', 'chile')\n",
    "place_2 = city_country('shanghai', 'china')\n",
    "place_3 = city_country('washington', 'america')\n",
    "#不同方式输出\n",
    "print(place_1)\n",
    "print(f\"{place_1}\")\n",
    "print(place_2)\n",
    "print(place_3)"
   ]
  },
  {
   "cell_type": "code",
   "execution_count": 36,
   "id": "94741cd5",
   "metadata": {},
   "outputs": [
    {
     "name": "stdout",
     "output_type": "stream",
     "text": [
      "{'singer': '许嵩', 'album': '自定义', 'num': '8'}\n",
      "{'singer': '许嵩', 'album': '寻雾启示', 'num': '9'}\n",
      "{'singer': '许嵩', 'album': '待出'}\n"
     ]
    }
   ],
   "source": [
    "#8.7：专辑\n",
    "#定义函数并增加专辑数量可选项\n",
    "def make_album(singer_name,album_name,num=None):\n",
    "    \"\"\"返回一个字典，其中包含有关歌手名和专辑名\"\"\"\n",
    "    music = {'singer':singer_name,'album':album_name} \n",
    "    if num:\n",
    "        music['num'] = num\n",
    "    return music\n",
    "#输入三个字典并打印\n",
    "music_1 = make_album('许嵩', '自定义','8')\n",
    "music_2 = make_album('许嵩', '寻雾启示','9')\n",
    "music_3 = make_album('许嵩', '待出')\n",
    "print(music_1)\n",
    "print(music_2)\n",
    "print(music_3)"
   ]
  },
  {
   "cell_type": "code",
   "execution_count": 2,
   "id": "79b2a334",
   "metadata": {},
   "outputs": [
    {
     "name": "stdout",
     "output_type": "stream",
     "text": [
      "\n",
      "请输入歌手名和专辑名:\n",
      "(enter 'q' at any time to quit)\n",
      "歌手名: 许嵩\n",
      "专辑名: 呼吸之野\n",
      "{'singer': '许嵩', 'album': '呼吸之野'}\n",
      "\n",
      "请输入歌手名和专辑名:\n",
      "(enter 'q' at any time to quit)\n",
      "歌手名: q\n"
     ]
    }
   ],
   "source": [
    "#8.8：用户的专辑\n",
    "#定义函数\n",
    "def make_album(singer_name,album_name):\n",
    "    \"\"\"返回一个字典，其中包含有关歌手名和专辑名\"\"\"\n",
    "    user_music = {'singer':singer_name,'album':album_name}\n",
    "    return user_music\n",
    "#加入循环和用户输入\n",
    "while True:\n",
    "    print(\"\\n请输入歌手名和专辑名:\")\n",
    "    print(\"(enter 'q' at any time to quit)\")\n",
    "    s_name = input(\"歌手名: \")\n",
    "    if s_name == 'q':\n",
    "        break\n",
    "    a_name = input(\"专辑名: \")\n",
    "    if a_name == 'q':\n",
    "        break\n",
    "    singer_album = make_album(s_name, a_name)\n",
    "    print(singer_album)"
   ]
  },
  {
   "cell_type": "markdown",
   "id": "64c1c6a2",
   "metadata": {},
   "source": [
    "## 8.4　传递列表"
   ]
  },
  {
   "cell_type": "code",
   "execution_count": 2,
   "id": "47ac9f38",
   "metadata": {},
   "outputs": [
    {
     "name": "stdout",
     "output_type": "stream",
     "text": [
      "Hello, Hannah!\n",
      "Hello, Ty!\n",
      "Hello, Margot!\n"
     ]
    }
   ],
   "source": [
    "#greet_users.py\n",
    "def greet_users(names):\n",
    "    \"\"\"向列表中的每个用户发出简单的问候\"\"\"\n",
    "    for name in names:\n",
    "        msg = f\"Hello, {name.title()}!\"\n",
    "        print(msg)\n",
    "    \n",
    "usernames = ['hannah', 'ty', 'margot']\n",
    "greet_users(usernames)"
   ]
  },
  {
   "cell_type": "markdown",
   "id": "0b226ff7",
   "metadata": {},
   "source": [
    "### 8.4.1　在函数中修改列表"
   ]
  },
  {
   "cell_type": "code",
   "execution_count": 3,
   "id": "1df5e3aa",
   "metadata": {},
   "outputs": [
    {
     "name": "stdout",
     "output_type": "stream",
     "text": [
      "Printing model: dodecahedron\n",
      "Printing model: robot pendant\n",
      "Printing model: phone case\n",
      "\n",
      "The following models have been printed:\n",
      "dodecahedron\n",
      "robot pendant\n",
      "phone case\n"
     ]
    }
   ],
   "source": [
    "#printing_models.py\n",
    "# 首先创建一个列表，其中包含一些要打印的设计\n",
    "unprinted_designs = ['phone case', 'robot pendant', 'dodecahedron']\n",
    "completed_models = []\n",
    "\n",
    "# 模拟打印每个设计，直到没有未打印的设计为止\n",
    "# 打印每个设计后，都将其移到列表 completed_models 中\n",
    "while unprinted_designs:\n",
    "    current_design = unprinted_designs.pop()\n",
    "    print(f\"Printing model: {current_design}\")\n",
    "    completed_models.append(current_design)\n",
    "    \n",
    "# 显示打印好的所有模型\n",
    "print(\"\\nThe following models have been printed:\")\n",
    "for completed_model in completed_models:\n",
    "    print(completed_model)"
   ]
  },
  {
   "cell_type": "code",
   "execution_count": 59,
   "id": "3dc84c1a",
   "metadata": {},
   "outputs": [
    {
     "name": "stdout",
     "output_type": "stream",
     "text": [
      "Printing model: dodecahedron\n",
      "Printing model: robot pendant\n",
      "Printing model: phone case\n",
      "\n",
      "The following models have been printed:\n",
      "dodecahedron\n",
      "robot pendant\n",
      "phone case\n"
     ]
    }
   ],
   "source": [
    "#重组优化结构\n",
    "#第一个函数处理打印设计工作\n",
    "def print_models(unprinted_designs, completed_models):\n",
    "    \"\"\"\n",
    "    模拟打印每个设计，直到没有未打印的设计为止\n",
    "    打印每个设计后，都将其移到列表 completed_models 中\n",
    "    \"\"\"\n",
    "    while unprinted_designs:\n",
    "        current_design = unprinted_designs.pop()\n",
    "        print(f\"Printing model: {current_design}\")\n",
    "        completed_models.append(current_design)\n",
    "    \n",
    "#第二个函数概述打印了大写设计  \n",
    "def show_completed_models(completed_models):\n",
    "    \"\"\"显示打印好的所有模型\"\"\"\n",
    "    print(\"\\nThe following models have been printed:\")\n",
    "    for completed_model in completed_models:\n",
    "        print(completed_model)\n",
    "        \n",
    "unprinted_designs = ['phone case', 'robot pendant', 'dodecahedron']\n",
    "completed_models = []\n",
    "\n",
    "print_models(unprinted_designs, completed_models)\n",
    "show_completed_models(completed_models)"
   ]
  },
  {
   "cell_type": "markdown",
   "id": "39e1632b",
   "metadata": {},
   "source": [
    "### 8.4.2　禁止函数修改列表"
   ]
  },
  {
   "cell_type": "code",
   "execution_count": 11,
   "id": "da24480e",
   "metadata": {},
   "outputs": [
    {
     "ename": "SyntaxError",
     "evalue": "invalid syntax (4120386760.py, line 2)",
     "output_type": "error",
     "traceback": [
      "\u001b[1;36m  Cell \u001b[1;32mIn[11], line 2\u001b[1;36m\u001b[0m\n\u001b[1;33m    def print_models(unprinted_designs[:], completed_models):\u001b[0m\n\u001b[1;37m                                      ^\u001b[0m\n\u001b[1;31mSyntaxError\u001b[0m\u001b[1;31m:\u001b[0m invalid syntax\n"
     ]
    }
   ],
   "source": [
    "# 用function_name(list_name[:])将列表副本传递给函数???\n",
    "def print_models(unprinted_designs[:], completed_models):\n",
    "    \"\"\"将列表副本传递给函数\"\"\"\n",
    "    unprinted_designs = ['phone case', 'robot pendant', 'dodecahedron']\n",
    "    completed_models = []\n",
    "    while unprinted_designs:\n",
    "        current_design = unprinted_designs.pop()\n",
    "        print(f\"Printing model: {current_design}\")\n",
    "        completed_models.append(current_design)\n",
    "    print(\"\\nThe following models have been printed:\")\n",
    "    for completed_model in completed_models:\n",
    "        print(completed_model)\n",
    "print_models(unprinted_designs, completed_models)"
   ]
  },
  {
   "cell_type": "markdown",
   "id": "6a69a8ad",
   "metadata": {},
   "source": [
    "### 练习"
   ]
  },
  {
   "cell_type": "code",
   "execution_count": 4,
   "id": "7e270cc8",
   "metadata": {},
   "outputs": [
    {
     "name": "stdout",
     "output_type": "stream",
     "text": [
      "Hello!\n",
      "How are you?\n",
      "Long time no see.\n"
     ]
    }
   ],
   "source": [
    "#8.9：消息\n",
    "txt = ['Hello!','How are you?','Long time no see.']\n",
    "def show_message(messages):\n",
    "    \"\"\"将列表中的消息传递给函数\"\"\"\n",
    "    for message in messages:\n",
    "        print(message)\n",
    "show_message(txt)"
   ]
  },
  {
   "cell_type": "code",
   "execution_count": 20,
   "id": "71c03060",
   "metadata": {},
   "outputs": [
    {
     "name": "stdout",
     "output_type": "stream",
     "text": [
      "Long time no see.\n",
      "How are you?\n",
      "Hello!\n",
      "[]\n",
      "['Long time no see.', 'How are you?', 'Hello!']\n"
     ]
    }
   ],
   "source": [
    "#8.10：发送消息\n",
    "txt= ['Hello!','How are you?','Long time no see.']\n",
    "send = []\n",
    "def send_messages(show,send):\n",
    "    while show:\n",
    "        shown_message = show.pop()\n",
    "        print(shown_message)\n",
    "        send.append(shown_message)\n",
    "        \n",
    "send_messages(txt,send)\n",
    "print(txt)\n",
    "print(send)"
   ]
  },
  {
   "cell_type": "code",
   "execution_count": 21,
   "id": "9e3f870b",
   "metadata": {},
   "outputs": [
    {
     "name": "stdout",
     "output_type": "stream",
     "text": [
      "[]\n",
      "['Long time no see.', 'How are you?', 'Hello!']\n"
     ]
    }
   ],
   "source": [
    "#8.11：消息归档\n",
    "send_messages(txt[:],send)\n",
    "print(txt)\n",
    "print(send)"
   ]
  },
  {
   "cell_type": "markdown",
   "id": "7dec77c6",
   "metadata": {},
   "source": [
    "## 8.5　传递任意数量的实参"
   ]
  },
  {
   "cell_type": "code",
   "execution_count": 23,
   "id": "bba9bfbb",
   "metadata": {},
   "outputs": [
    {
     "name": "stdout",
     "output_type": "stream",
     "text": [
      "('pepperoni',)\n",
      "('mushrooms', 'green peppers', 'extra cheese')\n"
     ]
    }
   ],
   "source": [
    "#pizza.py\n",
    "#形参*toppings创建名为toppings的元组\n",
    "def make_pizza(*toppings):\n",
    "    \"\"\"打印顾客点的所有配料\"\"\"\n",
    "    print(toppings)\n",
    "        \n",
    "make_pizza('pepperoni')\n",
    "make_pizza('mushrooms', 'green peppers', 'extra cheese')"
   ]
  },
  {
   "cell_type": "code",
   "execution_count": 24,
   "id": "0f21a87f",
   "metadata": {},
   "outputs": [
    {
     "name": "stdout",
     "output_type": "stream",
     "text": [
      "\n",
      "Making a pizza with the following toppings:\n",
      "- pepperoni\n",
      "\n",
      "Making a pizza with the following toppings:\n",
      "- mushrooms\n",
      "- green peppers\n",
      "- extra cheese\n"
     ]
    }
   ],
   "source": [
    "def make_pizza(*toppings):\n",
    "    \"\"\"概述要制作的比萨\"\"\"\n",
    "    print(\"\\nMaking a pizza with the following toppings:\")\n",
    "    for topping in toppings:\n",
    "        print(f\"- {topping}\")\n",
    "        \n",
    "make_pizza('pepperoni')\n",
    "make_pizza('mushrooms', 'green peppers', 'extra cheese')"
   ]
  },
  {
   "cell_type": "markdown",
   "id": "689cd2ef",
   "metadata": {},
   "source": [
    "### 8.5.1　结合使用位置实参和任意数量的实参"
   ]
  },
  {
   "cell_type": "code",
   "execution_count": 25,
   "id": "84f29dfd",
   "metadata": {},
   "outputs": [
    {
     "name": "stdout",
     "output_type": "stream",
     "text": [
      "\n",
      "Making a 16-inch pizza with the following toppings:\n",
      "- pepperoni\n",
      "\n",
      "Making a 12-inch pizza with the following toppings:\n",
      "- mushrooms\n",
      "- green peppers\n",
      "- extra cheese\n"
     ]
    }
   ],
   "source": [
    "#注意形参的位置\n",
    "def make_pizza(size, *toppings):\n",
    "    \"\"\"概述要制作的比萨\"\"\"\n",
    "    print(f\"\\nMaking a {size}-inch pizza with the following toppings:\")\n",
    "    for topping in toppings:\n",
    "        print(f\"- {topping}\")\n",
    "\n",
    "make_pizza(16, 'pepperoni')\n",
    "make_pizza(12, 'mushrooms', 'green peppers', 'extra cheese')\n",
    "#常用形参*args收集任意数量的位置实参"
   ]
  },
  {
   "cell_type": "markdown",
   "id": "3bbbecdc",
   "metadata": {},
   "source": [
    "### 8.5.2　使用任意数量的关键字实参"
   ]
  },
  {
   "cell_type": "code",
   "execution_count": 26,
   "id": "dea09e4d",
   "metadata": {},
   "outputs": [
    {
     "name": "stdout",
     "output_type": "stream",
     "text": [
      "{'location': 'princeton', 'field': 'physics', 'first_name': 'albert', 'last_name': 'einstein'}\n"
     ]
    }
   ],
   "source": [
    "#user_profile.py\n",
    "def build_profile(first, last, **user_info):\n",
    "    \"\"\"创建一个字典，其中包含我们知道的有关用户的一切\"\"\"\n",
    "    user_info['first_name'] = first\n",
    "    user_info['last_name'] = last\n",
    "    return user_info\n",
    "user_profile = build_profile('albert', 'einstein',\n",
    "                             location='princeton',field='physics')\n",
    "print(user_profile)\n",
    "#常用形参**kwargs收集任意数量的关键字实参"
   ]
  },
  {
   "cell_type": "markdown",
   "id": "0df8c468",
   "metadata": {},
   "source": [
    "### 练习"
   ]
  },
  {
   "cell_type": "code",
   "execution_count": 30,
   "id": "83d08874",
   "metadata": {},
   "outputs": [
    {
     "name": "stdout",
     "output_type": "stream",
     "text": [
      "\n",
      "Here are your sandwich adding:\n",
      "-mango\n",
      "\n",
      "Here are your sandwich adding:\n",
      "-egg\n",
      "-beef\n",
      "-butter\n",
      "\n",
      "Here are your sandwich adding:\n",
      "-mushrooms\n",
      "-extra cheese\n"
     ]
    }
   ],
   "source": [
    "#8.12 三明治\n",
    "def sandwich(*addings):\n",
    "    \"\"\"打印顾客在三明治添加的食材\"\"\"\n",
    "    print(f\"\\nHere are your sandwich adding:\")\n",
    "    for adding in addings:\n",
    "        print(f\"-{adding}\")\n",
    "sandwich('mango')\n",
    "sandwich('egg','beef','butter')\n",
    "sandwich('mushrooms', 'extra cheese')"
   ]
  },
  {
   "cell_type": "code",
   "execution_count": 31,
   "id": "ec98bdac",
   "metadata": {},
   "outputs": [
    {
     "name": "stdout",
     "output_type": "stream",
     "text": [
      "{'location': '南京大学', 'gender': '女', 'grade': '大二', 'first_name': '邱', 'last_name': '云'}\n"
     ]
    }
   ],
   "source": [
    "#8.13用户简介\n",
    "def build_profile(first, last, **user_info):\n",
    "    \"\"\"创建一个字典，其中包含我们知道的有关用户的一切\"\"\"\n",
    "    user_info['first_name'] = first\n",
    "    user_info['last_name'] = last\n",
    "    return user_info\n",
    "user_profile = build_profile('邱', '云',\n",
    "                             location='南京大学',gender='女',grade='大二')\n",
    "print(user_profile)"
   ]
  },
  {
   "cell_type": "code",
   "execution_count": 35,
   "id": "5dff9028",
   "metadata": {},
   "outputs": [
    {
     "name": "stdout",
     "output_type": "stream",
     "text": [
      "{'color': 'blue', 'tow_package': True, 'manufacturer': 'subaru', 'model': 'outback'}\n"
     ]
    }
   ],
   "source": [
    "#8.14汽车\n",
    "def make_car(maker,type,**car_infor):\n",
    "    \"\"\"创建一个字典，其中包含我们知道的有关汽车的一切\"\"\"\n",
    "    car_infor['manufacturer'] = maker\n",
    "    car_infor['model'] = type\n",
    "    return car_infor\n",
    "car = make_car('subaru', 'outback', color='blue', tow_package=True)\n",
    "print(car)"
   ]
  },
  {
   "cell_type": "markdown",
   "id": "dc81d7b4",
   "metadata": {},
   "source": [
    "## 8.6　将函数存储在模块中"
   ]
  },
  {
   "cell_type": "markdown",
   "id": "f202aa5f",
   "metadata": {},
   "source": [
    "#### 将函数代码块储存在独立文件中，可共享，隐藏代码细节，与主程序分离，专注高层逻辑"
   ]
  },
  {
   "cell_type": "markdown",
   "id": "cb9bf6d4",
   "metadata": {},
   "source": [
    "### 8.6.1　导入整个模块"
   ]
  },
  {
   "cell_type": "code",
   "execution_count": 43,
   "id": "3b4a73f6",
   "metadata": {},
   "outputs": [
    {
     "name": "stdout",
     "output_type": "stream",
     "text": [
      "\n",
      "Making a 16-inch pizza with the following toppings:\n",
      "- pepperoni\n",
      "\n",
      "Making a 12-inch pizza with the following toppings:\n",
      "- mushrooms\n",
      "- green peppers\n",
      "- extra cheese\n"
     ]
    }
   ],
   "source": [
    "#要让函数可导入需创建同一目录下的模块\n",
    "import pizza\n",
    "#需使用点号调用特定函数\n",
    "pizza.make_pizza(16, 'pepperoni')\n",
    "pizza.make_pizza(12, 'mushrooms', 'green peppers', 'extra cheese')"
   ]
  },
  {
   "cell_type": "markdown",
   "id": "5788d98c",
   "metadata": {},
   "source": [
    "### 8.6.2　导入特定的函数"
   ]
  },
  {
   "cell_type": "code",
   "execution_count": 44,
   "id": "475fa381",
   "metadata": {},
   "outputs": [
    {
     "name": "stdout",
     "output_type": "stream",
     "text": [
      "\n",
      "Making a 16-inch pizza with the following toppings:\n",
      "- pepperoni\n",
      "\n",
      "Making a 12-inch pizza with the following toppings:\n",
      "- mushrooms\n",
      "- green peppers\n",
      "- extra cheese\n"
     ]
    }
   ],
   "source": [
    "#导入模块中的特定函数\n",
    "#可用逗号分隔从模块中导入任意数量的函数\n",
    "from pizza import make_pizza\n",
    "make_pizza(16, 'pepperoni')\n",
    "make_pizza(12, 'mushrooms', 'green peppers', 'extra cheese')"
   ]
  },
  {
   "cell_type": "markdown",
   "id": "82005318",
   "metadata": {},
   "source": [
    "### 8.6.3　使用 as 给函数指定别名"
   ]
  },
  {
   "cell_type": "code",
   "execution_count": 45,
   "id": "5934b112",
   "metadata": {},
   "outputs": [
    {
     "name": "stdout",
     "output_type": "stream",
     "text": [
      "\n",
      "Making a 16-inch pizza with the following toppings:\n",
      "- pepperoni\n",
      "\n",
      "Making a 12-inch pizza with the following toppings:\n",
      "- mushrooms\n",
      "- green peppers\n",
      "- extra cheese\n"
     ]
    }
   ],
   "source": [
    "#给函数指定简单独特的别名\n",
    "#from module_name import function_name as fn\n",
    "from pizza import make_pizza as mp\n",
    "mp(16, 'pepperoni')\n",
    "mp(12, 'mushrooms', 'green peppers', 'extra cheese')"
   ]
  },
  {
   "cell_type": "markdown",
   "id": "48e9ac55",
   "metadata": {},
   "source": [
    "### 8.6.4　使用 as 给模块指定别名"
   ]
  },
  {
   "cell_type": "code",
   "execution_count": 46,
   "id": "3f4e371c",
   "metadata": {},
   "outputs": [
    {
     "name": "stdout",
     "output_type": "stream",
     "text": [
      "\n",
      "Making a 16-inch pizza with the following toppings:\n",
      "- pepperoni\n",
      "\n",
      "Making a 12-inch pizza with the following toppings:\n",
      "- mushrooms\n",
      "- green peppers\n",
      "- extra cheese\n"
     ]
    }
   ],
   "source": [
    "#import module_name as mn\n",
    "import pizza as p\n",
    "p.make_pizza(16, 'pepperoni')\n",
    "p.make_pizza(12, 'mushrooms', 'green peppers', 'extra cheese')"
   ]
  },
  {
   "cell_type": "markdown",
   "id": "b8b1f33b",
   "metadata": {},
   "source": [
    "### 8.6.5　导入模块中的所有函数"
   ]
  },
  {
   "cell_type": "code",
   "execution_count": 47,
   "id": "1f10c409",
   "metadata": {},
   "outputs": [
    {
     "name": "stdout",
     "output_type": "stream",
     "text": [
      "\n",
      "Making a 16-inch pizza with the following toppings:\n",
      "- pepperoni\n",
      "\n",
      "Making a 12-inch pizza with the following toppings:\n",
      "- mushrooms\n",
      "- green peppers\n",
      "- extra cheese\n"
     ]
    }
   ],
   "source": [
    "#使用星号（*）运算符导入模块中的所有函数from module_name import *\n",
    "from pizza import *\n",
    "make_pizza(16, 'pepperoni')\n",
    "make_pizza(12, 'mushrooms', 'green peppers', 'extra cheese')\n",
    "#由于导入了每个函数，可通过名称来调用每个函数，无须使用点号\n",
    "#在使用他人编写的大型模块最好不要用此导入方式，模块中函数名可能与项目已有名称重合\n",
    "#最佳的做法是，只导入需要使用的函数，或导入整个模块并使用点号"
   ]
  },
  {
   "cell_type": "markdown",
   "id": "d2e6a0d7",
   "metadata": {},
   "source": [
    "## 8.7　函数编写指南"
   ]
  },
  {
   "cell_type": "markdown",
   "id": "ba61a66e",
   "metadata": {},
   "source": [
    "#### 每个函数都应包含简要阐述其功能的注释。该注释应紧跟在函数定义后面，并采用文档字符串的格式。"
   ]
  },
  {
   "cell_type": "code",
   "execution_count": 49,
   "id": "51e95d73",
   "metadata": {},
   "outputs": [
    {
     "ename": "SyntaxError",
     "evalue": "incomplete input (2789504700.py, line 3)",
     "output_type": "error",
     "traceback": [
      "\u001b[1;36m  Cell \u001b[1;32mIn[49], line 3\u001b[1;36m\u001b[0m\n\u001b[1;33m    def function_name(parameter_0, parameter_1='default value'):\u001b[0m\n\u001b[1;37m                                                                ^\u001b[0m\n\u001b[1;31mSyntaxError\u001b[0m\u001b[1;31m:\u001b[0m incomplete input\n"
     ]
    }
   ],
   "source": [
    "#在给形参指定默认值时，等号两边不要有空格：\n",
    "def function_name(parameter_0, parameter_1='default value'):\n",
    "#函数调用中的关键字实参也不要有空格\n",
    "function_name(value_0, parameter_1='value')"
   ]
  },
  {
   "cell_type": "code",
   "execution_count": 52,
   "id": "c9e664bc",
   "metadata": {},
   "outputs": [
    {
     "ename": "SyntaxError",
     "evalue": "invalid syntax (1181831038.py, line 5)",
     "output_type": "error",
     "traceback": [
      "\u001b[1;36m  Cell \u001b[1;32mIn[52], line 5\u001b[1;36m\u001b[0m\n\u001b[1;33m    function body...\u001b[0m\n\u001b[1;37m             ^\u001b[0m\n\u001b[1;31mSyntaxError\u001b[0m\u001b[1;31m:\u001b[0m invalid syntax\n"
     ]
    }
   ],
   "source": [
    "#按两次制表符键将形参列表和只缩进一层的函数体区分开\n",
    "def function_name(\n",
    "        parameter_0, parameter_1, parameter_2,\n",
    "        parameter_3, parameter_4, parameter_5):\n",
    "    function body..."
   ]
  },
  {
   "cell_type": "code",
   "execution_count": null,
   "id": "f97b56ad",
   "metadata": {},
   "outputs": [],
   "source": [
    "#使用多个函数，用两个空行将相邻函数隔开"
   ]
  },
  {
   "cell_type": "markdown",
   "id": "dd843f2d",
   "metadata": {},
   "source": [
    "### 练习"
   ]
  },
  {
   "cell_type": "code",
   "execution_count": 58,
   "id": "cef5e386",
   "metadata": {},
   "outputs": [
    {
     "name": "stdout",
     "output_type": "stream",
     "text": [
      "Printing model: dodecahedron\n",
      "Printing model: robot pendant\n",
      "Printing model: phone case\n",
      "\n",
      "The following models have been printed:\n",
      "dodecahedron\n",
      "robot pendant\n",
      "phone case\n"
     ]
    }
   ],
   "source": [
    "#8.15 打印模型\n",
    "unprinted_designs = ['phone case', 'robot pendant', 'dodecahedron']\n",
    "completed_models = []\n",
    "import printing_functions as pf\n",
    "pf.print_models(unprinted_designs,completed_models)\n",
    "pf.show_completed_models(completed_models)"
   ]
  },
  {
   "cell_type": "code",
   "execution_count": 68,
   "id": "f328a31d",
   "metadata": {},
   "outputs": [
    {
     "name": "stdout",
     "output_type": "stream",
     "text": [
      "Hello, Hannah!\n",
      "Hello, Ty!\n",
      "Hello, Margot!\n",
      "Hello, Weiran!\n",
      "Hello, Weiran!\n",
      "Hello, Weiran!\n",
      "Hello, Weiran!\n"
     ]
    }
   ],
   "source": [
    "#8.16 导入\n",
    "import greet_users\n",
    "usernames = ['hannah', 'ty', 'margot']\n",
    "greet_users.greet_users(usernames)\n",
    "\n",
    "from greet_users import greet_users\n",
    "username = ['weiran']\n",
    "greet_users(username)\n",
    "\n",
    "from greet_users import greet_users as g\n",
    "g(username)\n",
    "\n",
    "from greet_users import greet_users as gr\n",
    "gr(username)\n",
    "\n",
    "from pizza import *\n",
    "g(username)"
   ]
  }
 ],
 "metadata": {
  "kernelspec": {
   "display_name": "Python 3 (ipykernel)",
   "language": "python",
   "name": "python3"
  },
  "language_info": {
   "codemirror_mode": {
    "name": "ipython",
    "version": 3
   },
   "file_extension": ".py",
   "mimetype": "text/x-python",
   "name": "python",
   "nbconvert_exporter": "python",
   "pygments_lexer": "ipython3",
   "version": "3.11.5"
  }
 },
 "nbformat": 4,
 "nbformat_minor": 5
}
