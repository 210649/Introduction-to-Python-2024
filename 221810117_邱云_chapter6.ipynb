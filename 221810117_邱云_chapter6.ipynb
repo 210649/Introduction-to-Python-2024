{
 "cells": [
  {
   "cell_type": "markdown",
   "id": "748f87c2",
   "metadata": {},
   "source": [
    "# 第六章 字典"
   ]
  },
  {
   "cell_type": "markdown",
   "id": "2f4b3879",
   "metadata": {},
   "source": [
    "## 6.1 一个简单的字典"
   ]
  },
  {
   "cell_type": "code",
   "execution_count": 3,
   "id": "060ccb7a",
   "metadata": {},
   "outputs": [
    {
     "name": "stdout",
     "output_type": "stream",
     "text": [
      "green\n",
      "5\n"
     ]
    }
   ],
   "source": [
    "alien_0 = {'color':'green','point':5}\n",
    "print(alien_0['color'])\n",
    "print(alien_0['point'])"
   ]
  },
  {
   "cell_type": "markdown",
   "id": "b8a53fcc",
   "metadata": {},
   "source": [
    "## 6.2 使用字典 "
   ]
  },
  {
   "cell_type": "markdown",
   "id": "40e0b1ef",
   "metadata": {},
   "source": [
    "### 6.2.1 访问字典中的值"
   ]
  },
  {
   "cell_type": "code",
   "execution_count": 4,
   "id": "63f5adab",
   "metadata": {},
   "outputs": [
    {
     "name": "stdout",
     "output_type": "stream",
     "text": [
      "green\n"
     ]
    }
   ],
   "source": [
    "alien_0 = {'color':'green'}\n",
    "print(alien_0['color'])"
   ]
  },
  {
   "cell_type": "code",
   "execution_count": 8,
   "id": "57829833",
   "metadata": {},
   "outputs": [
    {
     "name": "stdout",
     "output_type": "stream",
     "text": [
      "You just earned 5 points!\n"
     ]
    }
   ],
   "source": [
    "alien_0 = {'color':'green','points':5}\n",
    "new_points = alien_0['points']\n",
    "print(f\"You just earned {new_points} points!\")"
   ]
  },
  {
   "cell_type": "markdown",
   "id": "976b0a3a",
   "metadata": {},
   "source": [
    "### 6.2.2 添加键值对"
   ]
  },
  {
   "cell_type": "code",
   "execution_count": 9,
   "id": "ac0afad8",
   "metadata": {},
   "outputs": [
    {
     "name": "stdout",
     "output_type": "stream",
     "text": [
      "{'color': 'green', 'point': 5}\n",
      "{'color': 'green', 'point': 5, 'x_position': 0, 'y_position': 25}\n"
     ]
    }
   ],
   "source": [
    "alien_0 = {'color':'green','point':5}\n",
    "print(alien_0)\n",
    "\n",
    "alien_0['x_position'] = 0\n",
    "alien_0['y_position'] = 25\n",
    "print(alien_0)"
   ]
  },
  {
   "cell_type": "markdown",
   "id": "7d265e65",
   "metadata": {},
   "source": [
    "### 6.2.3 创建空字典"
   ]
  },
  {
   "cell_type": "code",
   "execution_count": 10,
   "id": "4da1c27a",
   "metadata": {},
   "outputs": [
    {
     "name": "stdout",
     "output_type": "stream",
     "text": [
      "{'color': 'green', 'points': 5}\n"
     ]
    }
   ],
   "source": [
    "alien_0 = {}\n",
    "alien_0['color'] = 'green'\n",
    "alien_0['points'] = 5\n",
    "print(alien_0)"
   ]
  },
  {
   "cell_type": "markdown",
   "id": "1015f9a7",
   "metadata": {},
   "source": [
    "### 6.2.4 修改字典中的值"
   ]
  },
  {
   "cell_type": "code",
   "execution_count": 12,
   "id": "4d7ba956",
   "metadata": {},
   "outputs": [
    {
     "name": "stdout",
     "output_type": "stream",
     "text": [
      "The alien is green.\n",
      "The alien is now yellow.\n"
     ]
    }
   ],
   "source": [
    "alien_0 = {'color':'green'}\n",
    "print(f\"The alien is {alien_0['color']}.\")\n",
    "\n",
    "alien_0['color'] = 'yellow'\n",
    "print(f\"The alien is now {alien_0['color']}.\")"
   ]
  },
  {
   "cell_type": "code",
   "execution_count": 3,
   "id": "89917c83",
   "metadata": {},
   "outputs": [
    {
     "name": "stdout",
     "output_type": "stream",
     "text": [
      "Original position:0 \n",
      "New position:2\n"
     ]
    }
   ],
   "source": [
    "alien_0 = {'x_position':0,'y_position':25,'speed':'medium'}\n",
    "print(f\"Original position:{alien_0['x_position']} \")\n",
    "\n",
    "#向右移动外星人\n",
    "#根据当前速度将外星人向右移动多远\n",
    "if alien_0['speed'] == 'slow':\n",
    "    x_increment = 1\n",
    "#incrment:增长\n",
    "elif alien_0['speed'] == 'medium':\n",
    "    x_increment = 2\n",
    "else:\n",
    "    x_increment = 3\n",
    "    \n",
    "#新位置为旧位置加上移动距离\n",
    "alien_0['x_position'] = alien_0['x_position'] + x_increment \n",
    "\n",
    "print(f\"New position:{alien_0['x_position']}\")"
   ]
  },
  {
   "cell_type": "code",
   "execution_count": 6,
   "id": "0395f655",
   "metadata": {},
   "outputs": [
    {
     "name": "stdout",
     "output_type": "stream",
     "text": [
      "Now new position:11\n"
     ]
    }
   ],
   "source": [
    "#试验\n",
    "alien_0['speed'] = 'fast'\n",
    "if alien_0['speed'] == 'slow':\n",
    "    x_increment = 1\n",
    "#increment:增长\n",
    "elif alien_0['speed'] == 'medium':\n",
    "    x_increment = 2\n",
    "else:\n",
    "    x_increment = 3\n",
    "alien_0['x_position'] = alien_0['x_position'] + x_increment \n",
    "#多次(3次)运行右移\n",
    "print(f\"Now new position:{alien_0['x_position']}\")"
   ]
  },
  {
   "cell_type": "markdown",
   "id": "45be3998",
   "metadata": {},
   "source": [
    "### 6.2.5 删除键值对"
   ]
  },
  {
   "cell_type": "code",
   "execution_count": 26,
   "id": "9f52daa0",
   "metadata": {},
   "outputs": [
    {
     "name": "stdout",
     "output_type": "stream",
     "text": [
      "{'color': 'green', 'points': 5}\n",
      "{'color': 'green'}\n"
     ]
    }
   ],
   "source": [
    "alien_0 = {'color':'green','points':5}\n",
    "print(alien_0)\n",
    "\n",
    "del alien_0['points']\n",
    "print(alien_0)"
   ]
  },
  {
   "cell_type": "markdown",
   "id": "2dabffc5",
   "metadata": {},
   "source": [
    "### 6.2.6 类似对象组成字典"
   ]
  },
  {
   "cell_type": "code",
   "execution_count": 8,
   "id": "8de2a9b0",
   "metadata": {},
   "outputs": [
    {
     "name": "stdout",
     "output_type": "stream",
     "text": [
      "Sarah's favorite language is C.\n"
     ]
    }
   ],
   "source": [
    "favorite_languages = {\n",
    "'jen': 'python',\n",
    "'sarah': 'c',\n",
    "'edward': 'rust',\n",
    "'phil': 'python',\n",
    "}\n",
    "\n",
    "language = favorite_languages['sarah'].title()\n",
    "print(f\"Sarah's favorite language is {language}.\")"
   ]
  },
  {
   "cell_type": "markdown",
   "id": "f3f10a57",
   "metadata": {},
   "source": [
    "### 6.2.7 实用get()访问值"
   ]
  },
  {
   "cell_type": "code",
   "execution_count": 9,
   "id": "b524bb26",
   "metadata": {},
   "outputs": [
    {
     "ename": "KeyError",
     "evalue": "'points'",
     "output_type": "error",
     "traceback": [
      "\u001b[1;31m---------------------------------------------------------------------------\u001b[0m",
      "\u001b[1;31mKeyError\u001b[0m                                  Traceback (most recent call last)",
      "Cell \u001b[1;32mIn[9], line 3\u001b[0m\n\u001b[0;32m      1\u001b[0m \u001b[38;5;66;03m#错误示例\u001b[39;00m\n\u001b[0;32m      2\u001b[0m alien_0 \u001b[38;5;241m=\u001b[39m {\u001b[38;5;124m'\u001b[39m\u001b[38;5;124mcolor\u001b[39m\u001b[38;5;124m'\u001b[39m: \u001b[38;5;124m'\u001b[39m\u001b[38;5;124mgreen\u001b[39m\u001b[38;5;124m'\u001b[39m, \u001b[38;5;124m'\u001b[39m\u001b[38;5;124mspeed\u001b[39m\u001b[38;5;124m'\u001b[39m: \u001b[38;5;124m'\u001b[39m\u001b[38;5;124mslow\u001b[39m\u001b[38;5;124m'\u001b[39m}\n\u001b[1;32m----> 3\u001b[0m \u001b[38;5;28mprint\u001b[39m(alien_0[\u001b[38;5;124m'\u001b[39m\u001b[38;5;124mpoints\u001b[39m\u001b[38;5;124m'\u001b[39m])\n",
      "\u001b[1;31mKeyError\u001b[0m: 'points'"
     ]
    }
   ],
   "source": [
    "#错误示例\n",
    "alien_0 = {'color': 'green', 'speed': 'slow'}\n",
    "print(alien_0['points'])"
   ]
  },
  {
   "cell_type": "code",
   "execution_count": 11,
   "id": "66da4c8d",
   "metadata": {},
   "outputs": [
    {
     "name": "stdout",
     "output_type": "stream",
     "text": [
      "No point value assigned.\n"
     ]
    }
   ],
   "source": [
    "alien_0 = {'color': 'green', 'speed': 'slow'}\n",
    "point_value = alien_0.get('points', 'No point value assigned.')\n",
    "print(point_value)"
   ]
  },
  {
   "cell_type": "code",
   "execution_count": 12,
   "id": "f88ea186",
   "metadata": {},
   "outputs": [
    {
     "name": "stdout",
     "output_type": "stream",
     "text": [
      "None\n"
     ]
    }
   ],
   "source": [
    "alien_0 = {'color': 'green', 'speed': 'slow'}\n",
    "point_value = alien_0.get('points')\n",
    "print(point_value)"
   ]
  },
  {
   "cell_type": "markdown",
   "id": "713f3517",
   "metadata": {},
   "source": [
    "### 练习"
   ]
  },
  {
   "cell_type": "code",
   "execution_count": 1,
   "id": "45a5dd3d",
   "metadata": {},
   "outputs": [
    {
     "name": "stdout",
     "output_type": "stream",
     "text": [
      "weiran\n",
      "Lan\n",
      "19\n",
      "Nanjing\n"
     ]
    }
   ],
   "source": [
    "#6.1人\n",
    "person = {'first_name':'weiran','last_name':'Lan','age':19,'city':'Nanjing'}\n",
    "print(person['first_name'])\n",
    "print(person['last_name'])\n",
    "print(person['age'])\n",
    "print(person['city'])"
   ]
  },
  {
   "cell_type": "code",
   "execution_count": 2,
   "id": "39db3f46",
   "metadata": {},
   "outputs": [
    {
     "name": "stdout",
     "output_type": "stream",
     "text": [
      "\n",
      "Admin's favorite number is 6.\n",
      "\n",
      "Huahua's favorite number is 7.\n",
      "\n",
      "Xixi's favorite number is 3.\n",
      "\n",
      "Cachy's favorite number is 9.\n",
      "\n",
      "Weiran's favorite number is 2.\n"
     ]
    }
   ],
   "source": [
    "#6.2喜欢的数1\n",
    "favorite_number = {'admin':6,'huahua':7,'xixi':3,'cachy':9,'weiran':2}\n",
    "for name,number in favorite_number.items():\n",
    "    print(f\"\\n{name.title()}'s favorite number is {number}.\")"
   ]
  },
  {
   "cell_type": "code",
   "execution_count": 3,
   "id": "459775c9",
   "metadata": {},
   "outputs": [
    {
     "name": "stdout",
     "output_type": "stream",
     "text": [
      "注释是指行首有一特殊标志符号运行时告知编程忽略此行，使代码更易于阅读。\n",
      "关键字是指编程语言中 具有特殊意义的词。\n",
      "对象是指唯一标识，数据类型和值是Python中3个属性的数据值。\n",
      "Str是指字符串的数据类型。\n",
      "Int是指整数的数据类型。\n"
     ]
    }
   ],
   "source": [
    "#6.3词汇表1\n",
    "vocabularies = {\n",
    "'注释':'行首有一特殊标志符号运行时告知编程忽略此行，使代码更易于阅读',\n",
    "'关键字':'编程语言中 具有特殊意义的词',\n",
    "'对象':'唯一标识，数据类型和值是Python中3个属性的数据值',\n",
    "'Str':'字符串的数据类型',\n",
    "'Int':'整数的数据类型'\n",
    "}\n",
    "for term,mean in vocabularies.items():\n",
    "    print(f\"{term}是指{mean}。\")"
   ]
  },
  {
   "cell_type": "markdown",
   "id": "2ee090ee",
   "metadata": {},
   "source": [
    "## 6.3 遍历字典"
   ]
  },
  {
   "cell_type": "markdown",
   "id": "44d8b60c",
   "metadata": {},
   "source": [
    "### 6.3.1 遍历所有的键值对"
   ]
  },
  {
   "cell_type": "code",
   "execution_count": 13,
   "id": "74c52ff5",
   "metadata": {},
   "outputs": [
    {
     "name": "stdout",
     "output_type": "stream",
     "text": [
      "\n",
      "Key: username\n",
      "Value:efermi\n",
      "\n",
      "Key: first\n",
      "Value:enrico\n",
      "\n",
      "Key: last\n",
      "Value:fermi\n"
     ]
    }
   ],
   "source": [
    "user_0 = {\n",
    "'username': 'efermi',\n",
    "'first': 'enrico',\n",
    "'last': 'fermi',\n",
    "}\n",
    "#将每个键值对赋给指定的两个变量key、value\n",
    "for key, value in user_0.items():\n",
    "    print(f\"\\nKey: {key}\")\n",
    "    print(f\"Value:{value}\")"
   ]
  },
  {
   "cell_type": "code",
   "execution_count": 15,
   "id": "e0f87b4f",
   "metadata": {},
   "outputs": [
    {
     "name": "stdout",
     "output_type": "stream",
     "text": [
      "Jen's favorite language is Python.\n",
      "Sarah's favorite language is C.\n",
      "Edward's favorite language is Rust.\n",
      "Phil's favorite language is Python.\n"
     ]
    }
   ],
   "source": [
    "favorite_languages = {\n",
    "'jen': 'python',\n",
    "'sarah': 'c',\n",
    "'edward': 'rust',\n",
    "'phil': 'python',\n",
    "}\n",
    "#键：人名，值：语言\n",
    "for name, language in favorite_languages.items():\n",
    "    print(f\"{name.title()}'s favorite language is {language.title()}.\")"
   ]
  },
  {
   "cell_type": "markdown",
   "id": "a6acce35",
   "metadata": {},
   "source": [
    "### 6.3.2 遍历字典中的所有键"
   ]
  },
  {
   "cell_type": "code",
   "execution_count": 16,
   "id": "cbf2ed1a",
   "metadata": {},
   "outputs": [
    {
     "name": "stdout",
     "output_type": "stream",
     "text": [
      "Jen\n",
      "Sarah\n",
      "Edward\n",
      "Phil\n"
     ]
    }
   ],
   "source": [
    "favorite_languages = {\n",
    " 'jen': 'python',\n",
    "'sarah': 'c',\n",
    "'edward': 'rust',\n",
    "'phil': 'python',\n",
    "}\n",
    "for name in favorite_languages.keys():\n",
    "    print(name.title())"
   ]
  },
  {
   "cell_type": "code",
   "execution_count": 21,
   "id": "7bb43de6",
   "metadata": {},
   "outputs": [
    {
     "name": "stdout",
     "output_type": "stream",
     "text": [
      "Hi Jen.\n",
      "Hi Sarah.\n",
      "\tSarah, I see you love C!\n",
      "Hi Edward.\n",
      "Hi Phil.\n",
      "\tPhil, I see you love Python!\n"
     ]
    }
   ],
   "source": [
    "favorite_languages = {\n",
    " 'jen': 'python',\n",
    "'sarah': 'c',\n",
    "'edward': 'rust',\n",
    "'phil': 'python',\n",
    "}\n",
    "friends = ['phil', 'sarah']\n",
    "for name in favorite_languages.keys():\n",
    "    print(f\"Hi {name.title()}.\")\n",
    "    if name in friends:\n",
    "        language = favorite_languages[name].title()\n",
    "        print(f\"\\t{name.title()}, I see you love {language}!\")"
   ]
  },
  {
   "cell_type": "code",
   "execution_count": 22,
   "id": "b59f256b",
   "metadata": {},
   "outputs": [
    {
     "name": "stdout",
     "output_type": "stream",
     "text": [
      "Erin, please take our poll!\n"
     ]
    }
   ],
   "source": [
    "favorite_languages = {\n",
    " 'jen': 'python',\n",
    "'sarah': 'c',\n",
    "'edward': 'rust',\n",
    "'phil': 'python',\n",
    "}\n",
    "if 'erin' not in favorite_languages.keys():\n",
    "    print(\"Erin, please take our poll!\")"
   ]
  },
  {
   "cell_type": "markdown",
   "id": "c9f211e0",
   "metadata": {},
   "source": [
    "### 6.3.3 按特定顺序遍历字典中的所有键"
   ]
  },
  {
   "cell_type": "code",
   "execution_count": 26,
   "id": "c93bc608",
   "metadata": {},
   "outputs": [
    {
     "name": "stdout",
     "output_type": "stream",
     "text": [
      "Edward, thank you for taking the poll.\n",
      "Jen, thank you for taking the poll.\n",
      "Phil, thank you for taking the poll.\n",
      "Sarah, thank you for taking the poll.\n"
     ]
    }
   ],
   "source": [
    "favorite_languages = {\n",
    "'jen': 'python',\n",
    "'sarah': 'c',\n",
    "'edward': 'rust',\n",
    "'phil': 'python',\n",
    "}\n",
    "#获取字典中所有键后用sorted()函数将被调查者姓名按字母顺序排序\n",
    "for name in sorted(favorite_languages.keys()):\n",
    "    print(f\"{name.title()}, thank you for taking the poll.\")"
   ]
  },
  {
   "cell_type": "markdown",
   "id": "091f41c0",
   "metadata": {},
   "source": [
    "### 6.3.4 遍历字典中的所有值"
   ]
  },
  {
   "cell_type": "code",
   "execution_count": 27,
   "id": "17b8a5b2",
   "metadata": {},
   "outputs": [
    {
     "name": "stdout",
     "output_type": "stream",
     "text": [
      "The following languages have been mentioned:\n",
      "Python\n",
      "C\n",
      "Rust\n",
      "Python\n"
     ]
    }
   ],
   "source": [
    "favorite_languages = {\n",
    "'jen': 'python',\n",
    "'sarah': 'c',\n",
    "'edward': 'rust',\n",
    "'phil': 'python',\n",
    "}\n",
    "print(\"The following languages have been mentioned:\")\n",
    "for language in favorite_languages.values():\n",
    "    print(language.title())"
   ]
  },
  {
   "cell_type": "code",
   "execution_count": 31,
   "id": "e2df1641",
   "metadata": {},
   "outputs": [
    {
     "name": "stdout",
     "output_type": "stream",
     "text": [
      "The following languages have been mentioned:\n",
      "C\n",
      "Python\n",
      "Rust\n"
     ]
    }
   ],
   "source": [
    "favorite_languages = {\n",
    "'jen': 'python',\n",
    "'sarah': 'c',\n",
    "'edward': 'rust',\n",
    "'phil': 'python',\n",
    "}\n",
    "print(\"The following languages have been mentioned:\")\n",
    "#set用于剔除重复项\n",
    "for language in set(favorite_languages.values()):\n",
    "    print(language.title())"
   ]
  },
  {
   "cell_type": "markdown",
   "id": "f7e64de1",
   "metadata": {},
   "source": [
    "### 练习"
   ]
  },
  {
   "cell_type": "code",
   "execution_count": 4,
   "id": "108eea99",
   "metadata": {},
   "outputs": [
    {
     "name": "stdout",
     "output_type": "stream",
     "text": [
      "注释是指行首有一特殊标志符号运行时告知编程忽略此行，使代码更易于阅读。\n",
      "关键字是指编程语言中 具有特殊意义的词。\n",
      "对象是指唯一标识，数据类型和值是Python中3个属性的数据值。\n",
      "Str是指字符串的数据类型。\n",
      "Int是指整数的数据类型。\n",
      "字典是指一系列键值对。\n",
      "变量是指可用于存储值的盒子。\n",
      "浮点数是指带小数点的数。\n",
      "常量是指在程序的整个生命周期内都保持不变的变量。\n",
      "元组是指不可变的列表。\n"
     ]
    }
   ],
   "source": [
    "#6.4词汇表2\n",
    "vocabularies = {\n",
    "'注释':'行首有一特殊标志符号运行时告知编程忽略此行，使代码更易于阅读',\n",
    "'关键字':'编程语言中 具有特殊意义的词',\n",
    "'对象':'唯一标识，数据类型和值是Python中3个属性的数据值',\n",
    "'Str':'字符串的数据类型',\n",
    "'Int':'整数的数据类型'\n",
    "}\n",
    "vocabularies['字典'] = '一系列键值对'\n",
    "vocabularies['变量'] = '可用于存储值的盒子'\n",
    "vocabularies['浮点数'] = '带小数点的数'\n",
    "vocabularies['常量'] = '在程序的整个生命周期内都保持不变的变量'\n",
    "vocabularies['元组'] = '不可变的列表'\n",
    "for term,mean in vocabularies.items():\n",
    "    print(f\"{term}是指{mean}。\")"
   ]
  },
  {
   "cell_type": "code",
   "execution_count": 5,
   "id": "1ce7245f",
   "metadata": {},
   "outputs": [
    {
     "name": "stdout",
     "output_type": "stream",
     "text": [
      "The Nile rnus through Egypt.\n",
      "The Yangtze rnus through China.\n",
      "The Rhine rnus through Germany.\n",
      "Nile\n",
      "Yangtze\n",
      "Rhine\n",
      "Egypt\n",
      "China\n",
      "Germany\n"
     ]
    }
   ],
   "source": [
    "#6.5河流\n",
    "river_nation = {\n",
    "    'nile':'egypt',\n",
    "    'yangtze':'china',\n",
    "    'rhine':'germany',\n",
    "    }\n",
    "for river,nation in river_nation.items():\n",
    "    print(f\"The {river.title()} rnus through {nation.title()}.\")\n",
    "for river in river_nation.keys():\n",
    "    print(river.title())\n",
    "for nation in river_nation.values():\n",
    "    print(nation.title())"
   ]
  },
  {
   "cell_type": "code",
   "execution_count": 6,
   "id": "15406623",
   "metadata": {},
   "outputs": [
    {
     "name": "stdout",
     "output_type": "stream",
     "text": [
      "Thank you for taking part in survey,Jen.\n",
      "Thank you for taking part in survey,Sarah.\n",
      "Thank you for taking part in survey,Edward.\n",
      "Dear Phil,we invite you to the investigation.\n",
      "Dear Cachy,we invite you to the investigation.\n"
     ]
    }
   ],
   "source": [
    "#6.6调查\n",
    "names = ['jen','sarah','edward','phil','cachy']\n",
    "favorite_languages = {\n",
    "    'jen': 'python',\n",
    "    'sarah': 'c',\n",
    "    }\n",
    "favorite_languages['edward'] = 'rust'\n",
    "for name in names:\n",
    "    if name in favorite_languages.keys():\n",
    "        print(f\"Thank you for taking part in survey,{name.title()}.\")\n",
    "    else:\n",
    "        print(f\"Dear {name.title()},we invite you to the investigation.\")"
   ]
  },
  {
   "cell_type": "markdown",
   "id": "7b943701",
   "metadata": {},
   "source": [
    "## 6.4 嵌套"
   ]
  },
  {
   "cell_type": "markdown",
   "id": "fb65349d",
   "metadata": {},
   "source": [
    "### 6.4.1 字典列表"
   ]
  },
  {
   "cell_type": "code",
   "execution_count": 32,
   "id": "3b303f4e",
   "metadata": {},
   "outputs": [
    {
     "name": "stdout",
     "output_type": "stream",
     "text": [
      "{'color': 'green', 'points': 5}\n",
      "{'color': 'yellow', 'points': 10}\n",
      "{'color': 'red', 'points': 15}\n"
     ]
    }
   ],
   "source": [
    "alien_0 = {'color': 'green', 'points': 5}\n",
    "alien_1 = {'color': 'yellow', 'points': 10}\n",
    "alien_2 = {'color': 'red', 'points': 15}\n",
    "#创建包含三个外星人字典的列表\n",
    "aliens = [alien_0, alien_1, alien_2]\n",
    "for alien in aliens:\n",
    "    print(alien)"
   ]
  },
  {
   "cell_type": "code",
   "execution_count": 37,
   "id": "147e185c",
   "metadata": {},
   "outputs": [
    {
     "name": "stdout",
     "output_type": "stream",
     "text": [
      "{'color': 'green', 'points': 5, 'speed': 'slow'}\n",
      "{'color': 'green', 'points': 5, 'speed': 'slow'}\n",
      "{'color': 'green', 'points': 5, 'speed': 'slow'}\n",
      "{'color': 'green', 'points': 5, 'speed': 'slow'}\n",
      "{'color': 'green', 'points': 5, 'speed': 'slow'}\n",
      "...\n",
      "Total number of aliens:30\n"
     ]
    }
   ],
   "source": [
    "# 创建一个用于存储外星人的空列表\n",
    "aliens = []\n",
    "\n",
    "# 创建 30 个绿色的外星人\n",
    "for alien_number in range(30):\n",
    "    new_alien = {'color':'green','points':5,'speed':'slow'}\n",
    "    aliens.append(new_alien)\n",
    "#显示前5个外星人\n",
    "for alien in aliens[:5]:\n",
    "    print(alien)\n",
    "print(\"...\")\n",
    "#显示创建了多少个外星人\n",
    "print(f\"Total number of aliens:{len(aliens)}\")"
   ]
  },
  {
   "cell_type": "code",
   "execution_count": 38,
   "id": "3bea8081",
   "metadata": {},
   "outputs": [
    {
     "name": "stdout",
     "output_type": "stream",
     "text": [
      "{'color': 'yellow', 'points': 10, 'speed': 'medium'}\n",
      "{'color': 'yellow', 'points': 10, 'speed': 'medium'}\n",
      "{'color': 'yellow', 'points': 10, 'speed': 'medium'}\n",
      "{'color': 'green', 'points': 5, 'speed': 'slow'}\n",
      "{'color': 'green', 'points': 5, 'speed': 'slow'}\n",
      "...\n"
     ]
    }
   ],
   "source": [
    "# 创建一个用于存储外星人的空列表\n",
    "aliens = []\n",
    "# 创建 30 个绿色的外星人\n",
    "for alien_number in range (30):\n",
    "    new_alien = {'color': 'green', 'points': 5, 'speed': 'slow'}\n",
    "    aliens.append(new_alien)\n",
    "#修改前三个外星人指数\n",
    "for alien in aliens[:3]:\n",
    "    if alien['color'] == 'green':\n",
    "        alien['color'] = 'yellow'\n",
    "        alien['speed'] = 'medium'\n",
    "        alien['points'] = 10\n",
    "# 显示前 5 个外星人\n",
    "for alien in aliens[:5]:\n",
    "    print(alien)\n",
    "print(\"...\")"
   ]
  },
  {
   "cell_type": "code",
   "execution_count": 40,
   "id": "db2714dc",
   "metadata": {},
   "outputs": [
    {
     "name": "stdout",
     "output_type": "stream",
     "text": [
      "{'color': 'red', 'points': 15, 'speed': 'fast'}\n",
      "{'color': 'red', 'points': 15, 'speed': 'fast'}\n",
      "{'color': 'red', 'points': 15, 'speed': 'fast'}\n",
      "{'color': 'green', 'points': 5, 'speed': 'slow'}\n",
      "{'color': 'green', 'points': 5, 'speed': 'slow'}\n",
      "...\n"
     ]
    }
   ],
   "source": [
    "for alien in aliens[0:3]:\n",
    "    if alien['color'] == 'green':\n",
    "        alien['color'] = 'yellow'\n",
    "        alien['speed'] = 'medium'\n",
    "        alien['points'] = 10\n",
    "    elif alien['color'] == 'yellow':\n",
    "        alien['color'] = 'red'\n",
    "        alien['speed'] = 'fast'\n",
    "        alien['points'] = 15\n",
    "for alien in aliens[:5]:\n",
    "    print(alien)\n",
    "print(\"...\")"
   ]
  },
  {
   "cell_type": "markdown",
   "id": "d8aee62b",
   "metadata": {},
   "source": [
    "### 6.4.2 在字典中储存列表"
   ]
  },
  {
   "cell_type": "code",
   "execution_count": 33,
   "id": "2dd4bbf6",
   "metadata": {},
   "outputs": [
    {
     "name": "stdout",
     "output_type": "stream",
     "text": [
      "You ordered a thick-crust pizza with the following toppings:\n",
      "\tmushrooms\n",
      "\textra cheese\n"
     ]
    }
   ],
   "source": [
    "# 存储顾客所点比萨的信息\n",
    "pizza = {\n",
    "'crust': 'thick',\n",
    "'toppings': ['mushrooms', 'extra cheese'],\n",
    "}\n",
    "# 概述顾客点的比萨\n",
    "print(f\"You ordered a {pizza['crust']}-crust pizza \"\n",
    "\"with the following toppings:\")\n",
    "for topping in pizza['toppings']:\n",
    "    print(f\"\\t{topping}\")"
   ]
  },
  {
   "cell_type": "code",
   "execution_count": 34,
   "id": "ed77ef87",
   "metadata": {},
   "outputs": [
    {
     "name": "stdout",
     "output_type": "stream",
     "text": [
      "\n",
      "Jen's favorite languages are:\n",
      "\tPython\n",
      "\tRust\n",
      "\n",
      "Sarah's favorite languages are:\n",
      "\tC\n",
      "\n",
      "Edward's favorite languages are:\n",
      "\tRust\n",
      "\tGo\n",
      "\n",
      "Phil's favorite languages are:\n",
      "\tPython\n",
      "\tHaskell\n"
     ]
    }
   ],
   "source": [
    "favorite_languages = {\n",
    "'jen': ['python', 'rust'],\n",
    "'sarah': ['c'],\n",
    "'edward': ['rust', 'go'],\n",
    "'phil': ['python', 'haskell'],\n",
    "}\n",
    "for name, languages in favorite_languages.items():\n",
    "    print(f\"\\n{name.title()}'s favorite languages are:\")\n",
    "    for language in languages:\n",
    "        print(f\"\\t{language.title()}\")"
   ]
  },
  {
   "cell_type": "markdown",
   "id": "e1e50575",
   "metadata": {},
   "source": [
    "### 6.4.3 在字典中储存字典"
   ]
  },
  {
   "cell_type": "code",
   "execution_count": 35,
   "id": "55fb2b56",
   "metadata": {},
   "outputs": [
    {
     "name": "stdout",
     "output_type": "stream",
     "text": [
      "\n",
      "Username: aeinstein\n",
      "\tFull name: Albert Einstein\n",
      "\tLocation: Princeton\n",
      "\n",
      "Username: mcurie\n",
      "\tFull name: Marie Curie\n",
      "\tLocation: Paris\n"
     ]
    }
   ],
   "source": [
    "users = {\n",
    "    'aeinstein': {\n",
    "        'first': 'albert',\n",
    "        'last': 'einstein',\n",
    "        'location': 'princeton',\n",
    "        },\n",
    "    'mcurie': {\n",
    "        'first': 'marie',\n",
    "        'last': 'curie',\n",
    "        'location': 'paris',\n",
    "        },\n",
    "}\n",
    "for username, user_info in users.items():\n",
    "    print(f\"\\nUsername: {username}\")\n",
    "    full_name = f\"{user_info['first']} {user_info['last']}\"\n",
    "    location = user_info['location']\n",
    "    \n",
    "    print(f\"\\tFull name: {full_name.title()}\")\n",
    "    print(f\"\\tLocation: {location.title()}\")"
   ]
  },
  {
   "cell_type": "markdown",
   "id": "6d988ce1",
   "metadata": {},
   "source": [
    "### 练习"
   ]
  },
  {
   "cell_type": "code",
   "execution_count": 7,
   "id": "31e38809",
   "metadata": {},
   "outputs": [
    {
     "name": "stdout",
     "output_type": "stream",
     "text": [
      "({'first_name': 'weiran', 'last_name': 'Lan', 'age': 19, 'city': 'Nanjing'},)\n",
      "{'first_name': 'qianqian', 'last_name': 'Xu', 'age': 17, 'city': 'Beijing'}\n",
      "{'first_name': 'Xixi', 'last_name': 'Su', 'age': 22, 'city': 'Shanghai'}\n",
      "{'first_name': 'huahua', 'last_name': 'Liu', 'age': 15, 'city': 'Suzhou'}\n"
     ]
    }
   ],
   "source": [
    "#6.7人们\n",
    "person_1 = {'first_name':'weiran',\n",
    "             'last_name':'Lan',\n",
    "             'age':19,\n",
    "            'city':'Nanjing'},\n",
    "person_2 = {'first_name':'qianqian',\n",
    "            'last_name':'Xu',\n",
    "            'age':17,\n",
    "             'city':'Beijing'}\n",
    "person_3 = {'first_name':'Xixi',\n",
    "            'last_name':'Su',\n",
    "            'age':22,\n",
    "            'city':'Shanghai'}\n",
    "person_4 = {'first_name':'huahua',\n",
    "            'last_name':'Liu',\n",
    "            'age':15,\n",
    "            'city':'Suzhou'}\n",
    "persons = [person_1,person_2,person_3,person_4]\n",
    "for person in persons:\n",
    "    print(person)"
   ]
  },
  {
   "cell_type": "code",
   "execution_count": 8,
   "id": "da5baf91",
   "metadata": {},
   "outputs": [
    {
     "name": "stdout",
     "output_type": "stream",
     "text": [
      "{'owner': 'weiran', 'pet': 'dog'}\n",
      "{'owner': 'xixi', 'pet': 'cat'}\n",
      "{'owner': 'qianqian', 'pet': 'parrot'}\n"
     ]
    }
   ],
   "source": [
    "#6.8宠物\n",
    "pet_1 = {'owner':'weiran','pet':'dog'}\n",
    "pet_2 = {'owner':'xixi','pet':'cat'}\n",
    "pet_3 = {'owner':'qianqian','pet':'parrot'}\n",
    "pets = [pet_1,pet_2,pet_3]\n",
    "for pet in pets:\n",
    "    print(pet)"
   ]
  },
  {
   "cell_type": "code",
   "execution_count": 9,
   "id": "8eb9c228",
   "metadata": {},
   "outputs": [
    {
     "name": "stdout",
     "output_type": "stream",
     "text": [
      "\n",
      "Aeinstein's favorite places are:\n",
      "\tNanjing\n",
      "\tBeijing\n",
      "\n",
      "Huahua's favorite places are:\n",
      "\tMaanshan\n",
      "\tSuzhou\n",
      "\tHangzhou\n",
      "\n",
      "Xixi's favorite places are:\n",
      "\tDongguan\n"
     ]
    }
   ],
   "source": [
    "#6.9喜欢的地方\n",
    "favorite_places = {\n",
    "'aeinstein':['nanjing','beijing'],\n",
    "'huahua':['maanshan','suzhou','hangzhou'],\n",
    "'xixi':['dongguan']\n",
    "}\n",
    "for name,places in favorite_places.items():\n",
    "    print(f\"\\n{name.title()}'s favorite places are:\")\n",
    "    for place in places:\n",
    "        print(f\"\\t{place.title()}\")"
   ]
  },
  {
   "cell_type": "code",
   "execution_count": 8,
   "id": "7ac97e15",
   "metadata": {},
   "outputs": [
    {
     "name": "stdout",
     "output_type": "stream",
     "text": [
      "\n",
      "Admin's favorite number are:\n",
      "6\n",
      "9\n",
      "\n",
      "Huahua's favorite number are:\n",
      "7\n",
      "2\n",
      "3\n",
      "\n",
      "Xixi's favorite number are:\n",
      "3\n",
      "\n",
      "Cachy's favorite number are:\n",
      "9\n",
      "5\n",
      "\n",
      "Weiran's favorite number are:\n",
      "2\n",
      "7\n"
     ]
    }
   ],
   "source": [
    "#6.10喜欢的数2\n",
    "favorite_numbers = {\n",
    "'admin':[6,9],\n",
    "'huahua':[7,2,3],\n",
    "'xixi':[3],\n",
    "'cachy':[9,5],\n",
    "'weiran':[2,7]\n",
    "}\n",
    "for name,numbers in favorite_numbers.items():\n",
    "    print(f\"\\n{name.title()}'s favorite number are:\")\n",
    "    for number in numbers:\n",
    "        print(number)"
   ]
  },
  {
   "cell_type": "code",
   "execution_count": 11,
   "id": "176e95f5",
   "metadata": {},
   "outputs": [
    {
     "name": "stdout",
     "output_type": "stream",
     "text": [
      "\n",
      "City:Shanghai\n",
      "\n",
      "Nation:China\n",
      "\n",
      "Population:2487million\n",
      "\n",
      "Shanghai is in the east of China.\n",
      "\n",
      "City:Pari\n",
      "\n",
      "Nation:French\n",
      "\n",
      "Population:210million\n",
      "\n",
      "Pari is th capitial of French.\n"
     ]
    }
   ],
   "source": [
    "#6.11城市\n",
    "cities = {\n",
    "    'Shanghai':{\n",
    "        'nation':'China',\n",
    "        'population':'2487million',\n",
    "        'fact':'Shanghai is in the east of China.'\n",
    "            },\n",
    "    'Pari':{\n",
    "        'nation':'French',\n",
    "        'population':'210million',\n",
    "        'fact':'Pari is th capitial of French.'\n",
    "            }\n",
    "    }\n",
    "for city,infor in cities.items():\n",
    "    print(f\"\\nCity:{city}\")\n",
    "    nation = infor['nation']\n",
    "    population = infor['population']\n",
    "    fact = infor['fact']\n",
    "    print(f\"\\nNation:{nation}\")\n",
    "    print(f\"\\nPopulation:{population}\")\n",
    "    print(f\"\\n{fact}\")"
   ]
  }
 ],
 "metadata": {
  "kernelspec": {
   "display_name": "Python 3 (ipykernel)",
   "language": "python",
   "name": "python3"
  },
  "language_info": {
   "codemirror_mode": {
    "name": "ipython",
    "version": 3
   },
   "file_extension": ".py",
   "mimetype": "text/x-python",
   "name": "python",
   "nbconvert_exporter": "python",
   "pygments_lexer": "ipython3",
   "version": "3.11.5"
  }
 },
 "nbformat": 4,
 "nbformat_minor": 5
}
