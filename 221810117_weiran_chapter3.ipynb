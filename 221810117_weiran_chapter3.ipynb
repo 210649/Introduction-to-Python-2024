{
 "cells": [
  {
   "cell_type": "markdown",
   "id": "a4749ce3",
   "metadata": {},
   "source": [
    "# 第3章 列表简介"
   ]
  },
  {
   "cell_type": "markdown",
   "id": "330516d5",
   "metadata": {},
   "source": [
    "# 3.1 列表是什么"
   ]
  },
  {
   "cell_type": "markdown",
   "id": "cec38705",
   "metadata": {},
   "source": [
    "#3.1.1"
   ]
  },
  {
   "cell_type": "code",
   "execution_count": 2,
   "id": "f90319f6",
   "metadata": {},
   "outputs": [
    {
     "name": "stdout",
     "output_type": "stream",
     "text": [
      "['trek', 'cannodale', 'redline', 'specialized']\n",
      "trek\n",
      "Trek\n"
     ]
    }
   ],
   "source": [
    "bicycles = ['trek','cannodale','redline','specialized']\n",
    "print(bicycles)\n",
    "print(bicycles[0])\n",
    "print(bicycles[0].title())"
   ]
  },
  {
   "cell_type": "markdown",
   "id": "1264a9dd",
   "metadata": {},
   "source": [
    "#3.1.2"
   ]
  },
  {
   "cell_type": "code",
   "execution_count": 3,
   "id": "24c9f80c",
   "metadata": {},
   "outputs": [
    {
     "name": "stdout",
     "output_type": "stream",
     "text": [
      "cannodale\n",
      "specialized\n",
      "specialized\n"
     ]
    }
   ],
   "source": [
    "bicycles = ['trek','cannodale','redline','specialized']\n",
    "print(bicycles[1])\n",
    "print(bicycles[3])\n",
    "print(bicycles[-1])"
   ]
  },
  {
   "cell_type": "markdown",
   "id": "9827a385",
   "metadata": {},
   "source": [
    "#3.1.3"
   ]
  },
  {
   "cell_type": "code",
   "execution_count": 4,
   "id": "24b148b6",
   "metadata": {},
   "outputs": [
    {
     "name": "stdout",
     "output_type": "stream",
     "text": [
      "My first bicrcle was a Trek\n"
     ]
    }
   ],
   "source": [
    "bicycles = ['trek','cannodale','redline','specialized']\n",
    "messsage = f\"My first bicrcle was a {bicycles[0].title()}\"\n",
    "print(messsage)"
   ]
  },
  {
   "cell_type": "markdown",
   "id": "3d8ba0b3",
   "metadata": {},
   "source": [
    "### 练习"
   ]
  },
  {
   "cell_type": "code",
   "execution_count": 1,
   "id": "45c8ff46",
   "metadata": {},
   "outputs": [
    {
     "name": "stdout",
     "output_type": "stream",
     "text": [
      "['Alice', 'Laren', 'Tom', 'Cacy']\n"
     ]
    }
   ],
   "source": [
    "#3.1姓名\n",
    "names = ['Alice','Laren','Tom','Cacy']\n",
    "print(names[:])"
   ]
  },
  {
   "cell_type": "code",
   "execution_count": 2,
   "id": "0a12b23e",
   "metadata": {},
   "outputs": [
    {
     "name": "stdout",
     "output_type": "stream",
     "text": [
      "Alice,long time no see.\n",
      "Laren,long time no see.\n",
      "Tom,long time no see.\n",
      "Cacy,long time no see.\n"
     ]
    }
   ],
   "source": [
    "#3.2问候语\n",
    "names = ['Alice','Laren','Tom','Cacy']\n",
    "for name in names:\n",
    "    print(f\"{name.title()},long time no see.\")"
   ]
  },
  {
   "cell_type": "code",
   "execution_count": 3,
   "id": "bdbae69e",
   "metadata": {},
   "outputs": [
    {
     "name": "stdout",
     "output_type": "stream",
     "text": [
      "I often ride a shared bike to classroom in school.\n",
      "I like go walking with my families or friends.\n",
      "There is a subway station near my college.\n"
     ]
    }
   ],
   "source": [
    "#3.3自己的列表\n",
    "ways = ['shared bike','walking','subway']\n",
    "print(f\"I often ride a {ways[0]} to classroom in school.\")\n",
    "print(f\"I like go {ways[1]} with my families or friends.\")\n",
    "print(f\"There is a {ways[2]} station near my college.\")"
   ]
  },
  {
   "cell_type": "markdown",
   "id": "2547f691",
   "metadata": {},
   "source": [
    "# 3.2 修改、添加和删除元素"
   ]
  },
  {
   "cell_type": "markdown",
   "id": "27769784",
   "metadata": {},
   "source": [
    "#3.2.1"
   ]
  },
  {
   "cell_type": "code",
   "execution_count": 5,
   "id": "6ddf160d",
   "metadata": {},
   "outputs": [
    {
     "name": "stdout",
     "output_type": "stream",
     "text": [
      "['honda', 'yamaha', 'suzuki']\n"
     ]
    }
   ],
   "source": [
    "motorbicycles = ['honda','yamaha','suzuki']\n",
    "print(motorbicycles)"
   ]
  },
  {
   "cell_type": "code",
   "execution_count": 6,
   "id": "b044f330",
   "metadata": {},
   "outputs": [
    {
     "name": "stdout",
     "output_type": "stream",
     "text": [
      "['ducati', 'yamaha', 'suzuki']\n"
     ]
    }
   ],
   "source": [
    "motorbicycles[0] = 'ducati'\n",
    "print(motorbicycles)"
   ]
  },
  {
   "cell_type": "markdown",
   "id": "0836123a",
   "metadata": {},
   "source": [
    "#3.2.2"
   ]
  },
  {
   "cell_type": "code",
   "execution_count": 7,
   "id": "fcd54957",
   "metadata": {},
   "outputs": [
    {
     "name": "stdout",
     "output_type": "stream",
     "text": [
      "['honda', 'yamaha', 'suzuki']\n",
      "['honda', 'yamaha', 'suzuki', 'ducati']\n"
     ]
    }
   ],
   "source": [
    "motorcycles = ['honda','yamaha','suzuki']\n",
    "print(motorcycles)\n",
    "motorcycles.append('ducati')\n",
    "print(motorcycles)"
   ]
  },
  {
   "cell_type": "code",
   "execution_count": 8,
   "id": "e1b9da99",
   "metadata": {},
   "outputs": [
    {
     "name": "stdout",
     "output_type": "stream",
     "text": [
      "['honda', 'yamaha', 'suzuki']\n"
     ]
    }
   ],
   "source": [
    "motorbicycles = []\n",
    "motorbicycles.append('honda')\n",
    "motorbicycles.append('yamaha')\n",
    "motorbicycles.append('suzuki')\n",
    "print(motorbicycles)"
   ]
  },
  {
   "cell_type": "code",
   "execution_count": 9,
   "id": "0e56858b",
   "metadata": {},
   "outputs": [
    {
     "name": "stdout",
     "output_type": "stream",
     "text": [
      "['ducati', 'honda', 'yamaha', 'suzuki']\n"
     ]
    }
   ],
   "source": [
    "motorcycles = ['honda','yamaha','suzuki']\n",
    "motorbicycles.insert(0,'ducati')\n",
    "print(motorbicycles)"
   ]
  },
  {
   "cell_type": "markdown",
   "id": "55cd2a35",
   "metadata": {},
   "source": [
    "#3.2.3"
   ]
  },
  {
   "cell_type": "code",
   "execution_count": 10,
   "id": "991fb7b5",
   "metadata": {},
   "outputs": [
    {
     "name": "stdout",
     "output_type": "stream",
     "text": [
      "['honda', 'yamaha', 'suzuki']\n",
      "['yamaha', 'suzuki']\n"
     ]
    }
   ],
   "source": [
    "motorcycles = ['honda','yamaha','suzuki']\n",
    "print(motorcycles)\n",
    "del motorcycles[0]\n",
    "print(motorcycles)"
   ]
  },
  {
   "cell_type": "code",
   "execution_count": 11,
   "id": "ec985c68",
   "metadata": {},
   "outputs": [
    {
     "name": "stdout",
     "output_type": "stream",
     "text": [
      "['honda', 'yamaha', 'suzuki']\n",
      "['honda', 'suzuki']\n"
     ]
    }
   ],
   "source": [
    "motorcycles = ['honda','yamaha','suzuki']\n",
    "print(motorcycles)\n",
    "del motorcycles[1]\n",
    "print(motorcycles)"
   ]
  },
  {
   "cell_type": "code",
   "execution_count": 12,
   "id": "a1d82f11",
   "metadata": {},
   "outputs": [
    {
     "name": "stdout",
     "output_type": "stream",
     "text": [
      "['honda', 'yamaha', 'suzuki']\n",
      "['honda', 'yamaha']\n",
      "suzuki\n"
     ]
    }
   ],
   "source": [
    "motorcycles = ['honda','yamaha','suzuki']\n",
    "print(motorcycles)\n",
    "popped_motorcycle = motorcycles.pop()\n",
    "print(motorcycles)\n",
    "print(popped_motorcycle)"
   ]
  },
  {
   "cell_type": "code",
   "execution_count": 13,
   "id": "6e832cea",
   "metadata": {},
   "outputs": [
    {
     "name": "stdout",
     "output_type": "stream",
     "text": [
      "The last motorcycle I owned was a suzuki.title()\n"
     ]
    }
   ],
   "source": [
    "motorcycles = ['honda','yamaha','suzuki']\n",
    "last_owned = motorcycles.pop()\n",
    "print(f\"The last motorcycle I owned was a {last_owned}.title()\")"
   ]
  },
  {
   "cell_type": "code",
   "execution_count": 23,
   "id": "fb459fa5",
   "metadata": {},
   "outputs": [
    {
     "name": "stdout",
     "output_type": "stream",
     "text": [
      "The first motorcycle I owned was a Honda.\n"
     ]
    }
   ],
   "source": [
    "motorcycles = ['honda','yamaha','suzuki']\n",
    "first_owned = motorcycles.pop(0)\n",
    "print(f\"The first motorcycle I owned was a {first_owned.title()}.\")"
   ]
  },
  {
   "cell_type": "code",
   "execution_count": 15,
   "id": "e144d624",
   "metadata": {},
   "outputs": [
    {
     "name": "stdout",
     "output_type": "stream",
     "text": [
      "['honda', 'yamaha', 'suzuki', 'ducati']\n",
      "['honda', 'yamaha', 'suzuki']\n"
     ]
    }
   ],
   "source": [
    "motorcycles = ['honda','yamaha','suzuki','ducati']\n",
    "print(motorcycles)\n",
    "motorcycles.remove('ducati')\n",
    "print(motorcycles)"
   ]
  },
  {
   "cell_type": "code",
   "execution_count": 16,
   "id": "ea2fcd94",
   "metadata": {},
   "outputs": [
    {
     "name": "stdout",
     "output_type": "stream",
     "text": [
      "['honda', 'yamaha', 'suzuki', 'ducati']\n",
      "['honda', 'yamaha', 'suzuki']\n",
      "\n",
      "A Ducati is too expensive for me.\n"
     ]
    }
   ],
   "source": [
    "motorcycles = ['honda','yamaha','suzuki','ducati']\n",
    "print(motorcycles)\n",
    "too_expensive = 'ducati'\n",
    "motorcycles.remove(too_expensive)\n",
    "print(motorcycles)\n",
    "print(f\"\\nA {too_expensive.title()} is too expensive for me.\")"
   ]
  },
  {
   "cell_type": "markdown",
   "id": "ec59bdc5",
   "metadata": {},
   "source": [
    "### 练习"
   ]
  },
  {
   "cell_type": "code",
   "execution_count": 4,
   "id": "f20396e3",
   "metadata": {},
   "outputs": [
    {
     "name": "stdout",
     "output_type": "stream",
     "text": [
      "Dear Alice,it's my honor to invite you for dinner.\n",
      "Dear Laren,it's my honor to invite you for dinner.\n",
      "Dear Tom,it's my honor to invite you for dinner.\n"
     ]
    }
   ],
   "source": [
    "#3.4嘉宾名单\n",
    "guests = ['Alice','Laren','Tom']\n",
    "for guest in guests[:]:\n",
    "    print(f\"Dear {guest},it's my honor to invite you for dinner.\")"
   ]
  },
  {
   "cell_type": "code",
   "execution_count": 5,
   "id": "e3ca9d1f",
   "metadata": {},
   "outputs": [
    {
     "name": "stdout",
     "output_type": "stream",
     "text": [
      "Sorry,Tom can not come for he has left nanjing last week.\n",
      "Dear Alice,it's my honor to invite you for dinner.\n",
      "Dear Laren,it's my honor to invite you for dinner.\n",
      "Dear Rebacca,it's my honor to invite you for dinner.\n"
     ]
    }
   ],
   "source": [
    "#3.5 修改嘉宾名单\n",
    "guests = ['Alice','Laren','Tom']\n",
    "print(f\"Sorry,{guests[2]} can not come for he has left nanjing last week.\")\n",
    "\n",
    "guests[2] = 'Rebacca'\n",
    "for guest in guests[:]:\n",
    "    print(f\"Dear {guest},it's my honor to invite you for dinner.\")"
   ]
  },
  {
   "cell_type": "code",
   "execution_count": 6,
   "id": "36ec1389",
   "metadata": {},
   "outputs": [
    {
     "name": "stdout",
     "output_type": "stream",
     "text": [
      "Dear Xixi,it's my honor to invite you for dinner.\n",
      "Dear Alice,it's my honor to invite you for dinner.\n",
      "Dear Huahua,it's my honor to invite you for dinner.\n",
      "Dear Laren,it's my honor to invite you for dinner.\n",
      "Dear Rebacca,it's my honor to invite you for dinner.\n",
      "Dear Lulu,it's my honor to invite you for dinner.\n"
     ]
    }
   ],
   "source": [
    "#3.6添加嘉宾\n",
    "guests.insert(0,'Xixi')\n",
    "guests.insert(2,'Huahua')\n",
    "guests.append('Lulu')\n",
    "for guest in guests[:]:\n",
    "    print(f\"Dear {guest},it's my honor to invite you for dinner.\")"
   ]
  },
  {
   "cell_type": "code",
   "execution_count": 7,
   "id": "7415933e",
   "metadata": {},
   "outputs": [
    {
     "name": "stdout",
     "output_type": "stream",
     "text": [
      "Sorry,I can only invite two guests for dinner.\n",
      "Sorry,dear Huahua,I can't have dinner with you this time.\n",
      "Sorry,dear Laren,I can't have dinner with you this time.\n",
      "Sorry,dear Rebacca,I can't have dinner with you this time.\n",
      "Sorry,dear Lulu,I can't have dinner with you this time.\n",
      "Dear Xixi,you are still invited.\n",
      "Dear Alice,you are still invited.\n"
     ]
    }
   ],
   "source": [
    "#3.7缩短名单\n",
    "guests = ['Xixi','Alice','Huahua','Laren','Rebacca','Lulu']\n",
    "print(\"Sorry,I can only invite two guests for dinner.\")\n",
    "for guest in guests[2:]:\n",
    "    print(f\"Sorry,dear {guest},I can't have dinner with you this time.\")\n",
    "    guests.pop()\n",
    "for guest in guests[:]:\n",
    "    print(f\"Dear {guest},you are still invited.\")"
   ]
  },
  {
   "cell_type": "markdown",
   "id": "eae000c3",
   "metadata": {},
   "source": [
    "# 3.3 管理列表"
   ]
  },
  {
   "cell_type": "markdown",
   "id": "8e638361",
   "metadata": {},
   "source": [
    "#3.3.1"
   ]
  },
  {
   "cell_type": "code",
   "execution_count": 17,
   "id": "a97b03d9",
   "metadata": {},
   "outputs": [
    {
     "name": "stdout",
     "output_type": "stream",
     "text": [
      "['audi', 'bmw', 'subaru', 'toyota']\n"
     ]
    }
   ],
   "source": [
    "cars = ['bmw','audi','toyota','subaru']\n",
    "cars.sort()\n",
    "print(cars)"
   ]
  },
  {
   "cell_type": "code",
   "execution_count": 18,
   "id": "1067bffe",
   "metadata": {},
   "outputs": [
    {
     "name": "stdout",
     "output_type": "stream",
     "text": [
      "['toyota', 'subaru', 'bmw', 'audi']\n"
     ]
    }
   ],
   "source": [
    "cars = ['bmw','audi','toyota','subaru']\n",
    "cars.sort(reverse=True)\n",
    "print(cars)"
   ]
  },
  {
   "cell_type": "markdown",
   "id": "c1018f49",
   "metadata": {},
   "source": [
    "#3.3.2"
   ]
  },
  {
   "cell_type": "code",
   "execution_count": 19,
   "id": "bdc1d6f7",
   "metadata": {},
   "outputs": [
    {
     "name": "stdout",
     "output_type": "stream",
     "text": [
      "\n",
      "Here is the original list:\n",
      "['bmw', 'audi', 'toyota', 'subaru']\n",
      "\n",
      "Here is the sorted list:\n",
      "['audi', 'bmw', 'subaru', 'toyota']\n",
      "\n",
      "Here is the original list:\n",
      "['bmw', 'audi', 'toyota', 'subaru']\n"
     ]
    }
   ],
   "source": [
    "cars = ['bmw','audi','toyota','subaru']\n",
    "print(\"\\nHere is the original list:\")\n",
    "print(cars)\n",
    "print(\"\\nHere is the sorted list:\")\n",
    "print(sorted(cars))\n",
    "print(\"\\nHere is the original list:\")\n",
    "print(cars)"
   ]
  },
  {
   "cell_type": "markdown",
   "id": "b585888b",
   "metadata": {},
   "source": [
    "#3.3.3"
   ]
  },
  {
   "cell_type": "code",
   "execution_count": 20,
   "id": "12dfe81c",
   "metadata": {},
   "outputs": [
    {
     "name": "stdout",
     "output_type": "stream",
     "text": [
      "['bmw', 'audi', 'toyota', 'subaru']\n",
      "['subaru', 'toyota', 'audi', 'bmw']\n"
     ]
    }
   ],
   "source": [
    "cars = ['bmw','audi','toyota','subaru']\n",
    "print(cars)\n",
    "cars.reverse()\n",
    "print(cars)"
   ]
  },
  {
   "cell_type": "markdown",
   "id": "76b212b1",
   "metadata": {},
   "source": [
    "#3.3.4"
   ]
  },
  {
   "cell_type": "code",
   "execution_count": 21,
   "id": "4ccbde13",
   "metadata": {},
   "outputs": [
    {
     "data": {
      "text/plain": [
       "4"
      ]
     },
     "execution_count": 21,
     "metadata": {},
     "output_type": "execute_result"
    }
   ],
   "source": [
    "cars = ['bmw','audi','toyota','subaru']\n",
    "len(cars)"
   ]
  },
  {
   "cell_type": "markdown",
   "id": "fcc8ea11",
   "metadata": {},
   "source": [
    "### 练习"
   ]
  },
  {
   "cell_type": "code",
   "execution_count": 8,
   "id": "26a4771e",
   "metadata": {},
   "outputs": [
    {
     "name": "stdout",
     "output_type": "stream",
     "text": [
      "['Nanjing', 'Maanshan', 'Beijing', 'Suzhou', 'Hangzhou']\n",
      "['Beijing', 'Hangzhou', 'Maanshan', 'Nanjing', 'Suzhou']\n",
      "['Nanjing', 'Maanshan', 'Beijing', 'Suzhou', 'Hangzhou']\n",
      "['Suzhou', 'Nanjing', 'Maanshan', 'Hangzhou', 'Beijing']\n",
      "['Nanjing', 'Maanshan', 'Beijing', 'Suzhou', 'Hangzhou']\n",
      "['Hangzhou', 'Suzhou', 'Beijing', 'Maanshan', 'Nanjing']\n",
      "['Beijing', 'Hangzhou', 'Maanshan', 'Nanjing', 'Suzhou']\n",
      "['Suzhou', 'Nanjing', 'Maanshan', 'Hangzhou', 'Beijing']\n"
     ]
    }
   ],
   "source": [
    "#3.8放眼世界\n",
    "places = ['Nanjing','Maanshan','Beijing','Suzhou','Hangzhou']\n",
    "print(places)\n",
    "print(sorted(places))\n",
    "print(places)\n",
    "print(sorted(places,reverse=True))\n",
    "print(places)\n",
    "places.reverse()\n",
    "print(places)\n",
    "places.sort()\n",
    "print(places)\n",
    "places.sort(reverse=True)\n",
    "print(places)"
   ]
  },
  {
   "cell_type": "code",
   "execution_count": 9,
   "id": "04f5f264",
   "metadata": {},
   "outputs": [
    {
     "name": "stdout",
     "output_type": "stream",
     "text": [
      "I have invited 2 guests.\n"
     ]
    }
   ],
   "source": [
    "#3.9晚餐嘉宾\n",
    "len(guests)\n",
    "print(f\"I have invited {len(guests)} guests.\")"
   ]
  },
  {
   "cell_type": "code",
   "execution_count": 10,
   "id": "1fa3d8bb",
   "metadata": {},
   "outputs": [
    {
     "name": "stdout",
     "output_type": "stream",
     "text": [
      "['Nanjing', 'Jingdezhen', 'Beijing', 'Suzhou', 'Hangzhou']\n",
      "['Nanjing', 'Jingdezhen', 'Shanghai', 'Beijing', 'Suzhou', 'Hangzhou']\n",
      "['Nanjing', 'Shanghai', 'Beijing', 'Suzhou', 'Hangzhou']\n",
      "['Beijing', 'Hangzhou', 'Nanjing', 'Shanghai', 'Suzhou']\n",
      "I want to visit Hangzhou once a day.\n",
      "I want to visit Nanjing once a day.\n"
     ]
    }
   ],
   "source": [
    "#3.10尝试使用各个函数\n",
    "places = ['Nanjing','Maanshan','Beijing','Suzhou','Hangzhou']\n",
    "#添加\n",
    "places[1] = 'Jingdezhen'\n",
    "print(places)\n",
    "#指定位置添加\n",
    "places.insert(2,'Shanghai')\n",
    "print(places)\n",
    "#删除\n",
    "places.pop(1)\n",
    "print(places)\n",
    "#排序\n",
    "places.sort()\n",
    "print(places)\n",
    "#切片\n",
    "for place in places[1:3]:\n",
    "    print(f\"I want to visit {place} once a day.\")"
   ]
  },
  {
   "cell_type": "markdown",
   "id": "5b6b840f",
   "metadata": {},
   "source": [
    "# 3.4 使用列表时避免索引错误"
   ]
  },
  {
   "cell_type": "code",
   "execution_count": 1,
   "id": "bc01d6ae",
   "metadata": {},
   "outputs": [
    {
     "name": "stdout",
     "output_type": "stream",
     "text": [
      "suzuki\n"
     ]
    }
   ],
   "source": [
    "motorcycles = ['honda','yamaha','suzuki']\n",
    "print(motorcycles[-1])"
   ]
  }
 ],
 "metadata": {
  "kernelspec": {
   "display_name": "Python 3 (ipykernel)",
   "language": "python",
   "name": "python3"
  },
  "language_info": {
   "codemirror_mode": {
    "name": "ipython",
    "version": 3
   },
   "file_extension": ".py",
   "mimetype": "text/x-python",
   "name": "python",
   "nbconvert_exporter": "python",
   "pygments_lexer": "ipython3",
   "version": "3.11.5"
  }
 },
 "nbformat": 4,
 "nbformat_minor": 5
}
