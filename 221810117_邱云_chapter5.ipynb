{
 "cells": [
  {
   "cell_type": "markdown",
   "id": "6dafa57e",
   "metadata": {},
   "source": [
    "# 第五章 if语句"
   ]
  },
  {
   "cell_type": "markdown",
   "id": "7e80b7bd",
   "metadata": {},
   "source": [
    "# 5.1 示例"
   ]
  },
  {
   "cell_type": "code",
   "execution_count": 2,
   "id": "479e1f0b",
   "metadata": {},
   "outputs": [
    {
     "name": "stdout",
     "output_type": "stream",
     "text": [
      "Audi\n",
      "BMW\n",
      "Subaru\n",
      "Toyota\n"
     ]
    }
   ],
   "source": [
    "cars = ['audi','bmw','subaru','toyota']\n",
    "\n",
    "for car in cars:\n",
    "    if car == 'bmw':\n",
    "        print(car.upper())\n",
    "    else:\n",
    "        print(car.title())"
   ]
  },
  {
   "cell_type": "markdown",
   "id": "d3688be3",
   "metadata": {},
   "source": [
    "# 5.2 条件测试"
   ]
  },
  {
   "cell_type": "markdown",
   "id": "e36d27b3",
   "metadata": {},
   "source": [
    "## 5.2.1 检查是否相等"
   ]
  },
  {
   "cell_type": "code",
   "execution_count": 3,
   "id": "857ef06b",
   "metadata": {
    "scrolled": true
   },
   "outputs": [
    {
     "data": {
      "text/plain": [
       "True"
      ]
     },
     "execution_count": 3,
     "metadata": {},
     "output_type": "execute_result"
    }
   ],
   "source": [
    "car = 'bmw'\n",
    "car == 'bmw'"
   ]
  },
  {
   "cell_type": "code",
   "execution_count": 4,
   "id": "12446c84",
   "metadata": {},
   "outputs": [
    {
     "data": {
      "text/plain": [
       "False"
      ]
     },
     "execution_count": 4,
     "metadata": {},
     "output_type": "execute_result"
    }
   ],
   "source": [
    "car = 'audi'\n",
    "car == 'bmw'"
   ]
  },
  {
   "cell_type": "markdown",
   "id": "c565e5a2",
   "metadata": {},
   "source": [
    "## 5.2.2 检查时忽略大小写"
   ]
  },
  {
   "cell_type": "code",
   "execution_count": 5,
   "id": "dd16a01a",
   "metadata": {},
   "outputs": [
    {
     "data": {
      "text/plain": [
       "False"
      ]
     },
     "execution_count": 5,
     "metadata": {},
     "output_type": "execute_result"
    }
   ],
   "source": [
    "car = 'Audi'\n",
    "car == 'audi'"
   ]
  },
  {
   "cell_type": "code",
   "execution_count": 6,
   "id": "788e9774",
   "metadata": {},
   "outputs": [
    {
     "data": {
      "text/plain": [
       "True"
      ]
     },
     "execution_count": 6,
     "metadata": {},
     "output_type": "execute_result"
    }
   ],
   "source": [
    "car = 'Audi'\n",
    "car.lower() == 'audi'"
   ]
  },
  {
   "cell_type": "code",
   "execution_count": 7,
   "id": "f2cd1832",
   "metadata": {},
   "outputs": [
    {
     "data": {
      "text/plain": [
       "'Audi'"
      ]
     },
     "execution_count": 7,
     "metadata": {},
     "output_type": "execute_result"
    }
   ],
   "source": [
    "car"
   ]
  },
  {
   "cell_type": "markdown",
   "id": "258bc640",
   "metadata": {},
   "source": [
    "## 5.2.3 检查是否不等"
   ]
  },
  {
   "cell_type": "code",
   "execution_count": 8,
   "id": "8ff096e5",
   "metadata": {},
   "outputs": [
    {
     "name": "stdout",
     "output_type": "stream",
     "text": [
      "Hold the anchovies!\n"
     ]
    }
   ],
   "source": [
    "requested_topping = 'mushrooms'\n",
    "\n",
    "if requested_topping != 'anchovies':\n",
    "    print(\"Hold the anchovies!\")"
   ]
  },
  {
   "cell_type": "markdown",
   "id": "9af3fde7",
   "metadata": {},
   "source": [
    "## 5.2.4 数值比较"
   ]
  },
  {
   "cell_type": "code",
   "execution_count": 9,
   "id": "d9a3f14e",
   "metadata": {},
   "outputs": [
    {
     "data": {
      "text/plain": [
       "True"
      ]
     },
     "execution_count": 9,
     "metadata": {},
     "output_type": "execute_result"
    }
   ],
   "source": [
    "age = 18\n",
    "age == 18"
   ]
  },
  {
   "cell_type": "code",
   "execution_count": 10,
   "id": "4cf7506d",
   "metadata": {},
   "outputs": [
    {
     "name": "stdout",
     "output_type": "stream",
     "text": [
      "That is not the correct answer.Please try again!\n"
     ]
    }
   ],
   "source": [
    "answer = 17\n",
    "if answer != 42:\n",
    "    print(\"That is not the correct answer.Please try again!\")"
   ]
  },
  {
   "cell_type": "code",
   "execution_count": 11,
   "id": "11e964b8",
   "metadata": {},
   "outputs": [
    {
     "data": {
      "text/plain": [
       "True"
      ]
     },
     "execution_count": 11,
     "metadata": {},
     "output_type": "execute_result"
    }
   ],
   "source": [
    "age = 19\n",
    "age < 21"
   ]
  },
  {
   "cell_type": "code",
   "execution_count": 12,
   "id": "222c3339",
   "metadata": {},
   "outputs": [
    {
     "data": {
      "text/plain": [
       "True"
      ]
     },
     "execution_count": 12,
     "metadata": {},
     "output_type": "execute_result"
    }
   ],
   "source": [
    "age <= 21"
   ]
  },
  {
   "cell_type": "code",
   "execution_count": 13,
   "id": "a09e738c",
   "metadata": {},
   "outputs": [
    {
     "data": {
      "text/plain": [
       "False"
      ]
     },
     "execution_count": 13,
     "metadata": {},
     "output_type": "execute_result"
    }
   ],
   "source": [
    "age > 21"
   ]
  },
  {
   "cell_type": "code",
   "execution_count": 14,
   "id": "de125f38",
   "metadata": {},
   "outputs": [
    {
     "data": {
      "text/plain": [
       "False"
      ]
     },
     "execution_count": 14,
     "metadata": {},
     "output_type": "execute_result"
    }
   ],
   "source": [
    "age >= 21"
   ]
  },
  {
   "cell_type": "markdown",
   "id": "3a7bf663",
   "metadata": {},
   "source": [
    "## 5.2.5 检查多个条件"
   ]
  },
  {
   "cell_type": "code",
   "execution_count": 15,
   "id": "ac094acb",
   "metadata": {},
   "outputs": [
    {
     "data": {
      "text/plain": [
       "False"
      ]
     },
     "execution_count": 15,
     "metadata": {},
     "output_type": "execute_result"
    }
   ],
   "source": [
    "age_0 = 22\n",
    "age_1 = 18\n",
    "age_0 >=21 and age_1 >= 21"
   ]
  },
  {
   "cell_type": "code",
   "execution_count": 16,
   "id": "aa7ee42c",
   "metadata": {},
   "outputs": [
    {
     "data": {
      "text/plain": [
       "True"
      ]
     },
     "execution_count": 16,
     "metadata": {},
     "output_type": "execute_result"
    }
   ],
   "source": [
    "age_1 = 22\n",
    "age_0 >=21 and age_1 >= 21"
   ]
  },
  {
   "cell_type": "code",
   "execution_count": 17,
   "id": "f68aaf57",
   "metadata": {},
   "outputs": [
    {
     "data": {
      "text/plain": [
       "True"
      ]
     },
     "execution_count": 17,
     "metadata": {},
     "output_type": "execute_result"
    }
   ],
   "source": [
    "(age_0 >= 21) and (age_1 >= 21)"
   ]
  },
  {
   "cell_type": "code",
   "execution_count": 18,
   "id": "56611acb",
   "metadata": {},
   "outputs": [
    {
     "data": {
      "text/plain": [
       "True"
      ]
     },
     "execution_count": 18,
     "metadata": {},
     "output_type": "execute_result"
    }
   ],
   "source": [
    "age_0 = 22\n",
    "age_1 = 18\n",
    "age_0 >=21 or age_1 >= 21"
   ]
  },
  {
   "cell_type": "code",
   "execution_count": 19,
   "id": "a7c9896d",
   "metadata": {},
   "outputs": [
    {
     "data": {
      "text/plain": [
       "False"
      ]
     },
     "execution_count": 19,
     "metadata": {},
     "output_type": "execute_result"
    }
   ],
   "source": [
    "age_0 = 18\n",
    "age_0 >=21 or age_1 >= 21"
   ]
  },
  {
   "cell_type": "markdown",
   "id": "0844d553",
   "metadata": {},
   "source": [
    "## 5.2.6 检查特定的值是否在列表中"
   ]
  },
  {
   "cell_type": "code",
   "execution_count": 20,
   "id": "e2e2a1cb",
   "metadata": {},
   "outputs": [
    {
     "data": {
      "text/plain": [
       "True"
      ]
     },
     "execution_count": 20,
     "metadata": {},
     "output_type": "execute_result"
    }
   ],
   "source": [
    "requested_toppings = ['mushrooms','onions','pineapple']\n",
    "'mushrooms' in requested_toppings"
   ]
  },
  {
   "cell_type": "code",
   "execution_count": 21,
   "id": "9d0845e1",
   "metadata": {},
   "outputs": [
    {
     "data": {
      "text/plain": [
       "False"
      ]
     },
     "execution_count": 21,
     "metadata": {},
     "output_type": "execute_result"
    }
   ],
   "source": [
    "'pepperoni' in requested_toppings"
   ]
  },
  {
   "cell_type": "markdown",
   "id": "9ae2d721",
   "metadata": {},
   "source": [
    "## 5.2.7 检查特定的值是否不在列表中"
   ]
  },
  {
   "cell_type": "code",
   "execution_count": 22,
   "id": "ab7a2bbb",
   "metadata": {},
   "outputs": [
    {
     "name": "stdout",
     "output_type": "stream",
     "text": [
      "Marie,you can post a response if you wish.\n"
     ]
    }
   ],
   "source": [
    "banned_users = ['andrew','carolina','david']\n",
    "user = 'marie'\n",
    "if user not in banned_users:\n",
    "    print(f\"{user.title()},you can post a response if you wish.\")"
   ]
  },
  {
   "cell_type": "markdown",
   "id": "7e30d449",
   "metadata": {},
   "source": [
    "## 5.2.8 布尔表达式"
   ]
  },
  {
   "cell_type": "code",
   "execution_count": 23,
   "id": "8e904472",
   "metadata": {},
   "outputs": [],
   "source": [
    "game_active = True\n",
    "can_edit = False"
   ]
  },
  {
   "cell_type": "markdown",
   "id": "6cc64d03",
   "metadata": {},
   "source": [
    "### 练习"
   ]
  },
  {
   "cell_type": "code",
   "execution_count": 1,
   "id": "5726c14a",
   "metadata": {},
   "outputs": [
    {
     "name": "stdout",
     "output_type": "stream",
     "text": [
      "Is car == 'subaru'? I predict True.\n",
      "True\n",
      "\n",
      "Is car == 'audi'? I predict False.\n",
      "False\n",
      "\n",
      "Is number == '10'?I predict false.\n",
      "False\n"
     ]
    }
   ],
   "source": [
    "#5.1条件测试\n",
    "car = 'subaru'\n",
    "print(\"Is car == 'subaru'? I predict True.\")\n",
    "print(car == 'subaru')\n",
    "print(\"\\nIs car == 'audi'? I predict False.\")\n",
    "print(car == 'audi')\n",
    "\n",
    "number = 15\n",
    "print(\"\\nIs number == '10'?I predict false.\")\n",
    "print(number == 10)"
   ]
  },
  {
   "cell_type": "code",
   "execution_count": 2,
   "id": "43cc6e0a",
   "metadata": {},
   "outputs": [
    {
     "name": "stdout",
     "output_type": "stream",
     "text": [
      "True\n",
      "False\n",
      "True\n",
      "True\n",
      "Qianqian isn't my friend.\n"
     ]
    }
   ],
   "source": [
    "#5.2更多条件测试\n",
    "name = 'Cachy'\n",
    "print(name.lower() == 'cachy')\n",
    "\n",
    "number = 9\n",
    "print(number > 5 and number < 8)\n",
    "\n",
    "number = 9\n",
    "print(number > 5 or number < 8)\n",
    "\n",
    "friends = ['huahua','xixi','honghong']\n",
    "print('huahua' in  friends)\n",
    "\n",
    "friend = 'qianqian'\n",
    "if friend not in friends:\n",
    "    print(f\"{friend.title()} isn't my friend.\")"
   ]
  },
  {
   "cell_type": "markdown",
   "id": "9b23ff6d",
   "metadata": {},
   "source": [
    "# 5.3 if语句"
   ]
  },
  {
   "cell_type": "markdown",
   "id": "1cc00fec",
   "metadata": {},
   "source": [
    "## 5.3.1 简单的if语句"
   ]
  },
  {
   "cell_type": "code",
   "execution_count": 24,
   "id": "c1760c42",
   "metadata": {},
   "outputs": [
    {
     "name": "stdout",
     "output_type": "stream",
     "text": [
      "You are old enough to vote!\n"
     ]
    }
   ],
   "source": [
    "age = 19\n",
    "if age >= 18:\n",
    "    print(\"You are old enough to vote!\")"
   ]
  },
  {
   "cell_type": "code",
   "execution_count": 25,
   "id": "b52ce0dd",
   "metadata": {},
   "outputs": [
    {
     "name": "stdout",
     "output_type": "stream",
     "text": [
      "You are old enough to vote!\n",
      "Have you registered to vote yet?\n"
     ]
    }
   ],
   "source": [
    "age = 19\n",
    "if age >= 18:\n",
    "    print(\"You are old enough to vote!\")\n",
    "    print(\"Have you registered to vote yet?\")"
   ]
  },
  {
   "cell_type": "markdown",
   "id": "6a597ac7",
   "metadata": {},
   "source": [
    "## 5.3.2 if-else 语句"
   ]
  },
  {
   "cell_type": "code",
   "execution_count": 26,
   "id": "c8c98783",
   "metadata": {},
   "outputs": [
    {
     "name": "stdout",
     "output_type": "stream",
     "text": [
      "Sorry,you are too young to vote.\n",
      "Please register to vote as soon as you turn 18!\n"
     ]
    }
   ],
   "source": [
    "age = 17\n",
    "if age >= 18:\n",
    "    print(\"You are enough to vote!\")\n",
    "    print(\"Have you registered to vote yet?\")\n",
    "else:\n",
    "    print(\"Sorry,you are too young to vote.\")\n",
    "    print(\"Please register to vote as soon as you turn 18!\")"
   ]
  },
  {
   "cell_type": "markdown",
   "id": "b5f6196f",
   "metadata": {},
   "source": [
    "## 5.3.3 if-elif-else 语句"
   ]
  },
  {
   "cell_type": "code",
   "execution_count": 27,
   "id": "cf4f1459",
   "metadata": {},
   "outputs": [
    {
     "name": "stdout",
     "output_type": "stream",
     "text": [
      "Your admission cost is $25.\n"
     ]
    }
   ],
   "source": [
    "age = 12\n",
    "if age < 4:\n",
    "    print(\"Your admission cost is $0.\")\n",
    "elif age < 18:\n",
    "    print(\"Your admission cost is $25.\")\n",
    "else:\n",
    "    print(\"Your admission cost is $40.\")"
   ]
  },
  {
   "cell_type": "code",
   "execution_count": 28,
   "id": "59eb1c88",
   "metadata": {},
   "outputs": [
    {
     "name": "stdout",
     "output_type": "stream",
     "text": [
      "Your admission cost is $25.\n"
     ]
    }
   ],
   "source": [
    "age = 12\n",
    "if age < 4:\n",
    "    price = 0\n",
    "elif age < 18:\n",
    "    price = 25\n",
    "else:\n",
    "    price = 40\n",
    "print(f\"Your admission cost is ${price}.\")"
   ]
  },
  {
   "cell_type": "markdown",
   "id": "3e347bfe",
   "metadata": {},
   "source": [
    "## 5.3.4使用多个elif模块"
   ]
  },
  {
   "cell_type": "code",
   "execution_count": 29,
   "id": "0d60a4bc",
   "metadata": {},
   "outputs": [
    {
     "name": "stdout",
     "output_type": "stream",
     "text": [
      "Your admission cost is $25.\n"
     ]
    }
   ],
   "source": [
    "age = 12\n",
    "if age < 4:\n",
    "    price = 0\n",
    "elif age < 18:\n",
    "    price = 25\n",
    "elif age < 65:\n",
    "    price = 40\n",
    "else:\n",
    "    price = 40\n",
    "print(f\"Your admission cost is ${price}.\")"
   ]
  },
  {
   "cell_type": "markdown",
   "id": "38e3584d",
   "metadata": {},
   "source": [
    "## 5.3.5 省略else模块"
   ]
  },
  {
   "cell_type": "code",
   "execution_count": 31,
   "id": "7afaab66",
   "metadata": {},
   "outputs": [
    {
     "name": "stdout",
     "output_type": "stream",
     "text": [
      "Your admission cost is $25.\n"
     ]
    }
   ],
   "source": [
    "age = 12\n",
    "if age < 4:\n",
    "    price = 0\n",
    "elif age < 18:\n",
    "    price = 25\n",
    "elif age < 65:\n",
    "    price = 40\n",
    "elif age >= 65:\n",
    "    price = 20\n",
    "print(f\"Your admission cost is ${price}.\")"
   ]
  },
  {
   "cell_type": "markdown",
   "id": "caf1d137",
   "metadata": {},
   "source": [
    "## 5.3.6 测试多个条件"
   ]
  },
  {
   "cell_type": "code",
   "execution_count": 41,
   "id": "d83adb30",
   "metadata": {},
   "outputs": [
    {
     "name": "stdout",
     "output_type": "stream",
     "text": [
      "Adding mushrooms.\n",
      "Adding extra cheese.\n",
      "\n",
      "Finished making your pizza!\n"
     ]
    }
   ],
   "source": [
    "requested_toppings = ['mushrooms','extra cheese']\n",
    "if 'mushrooms' in requested_toppings:\n",
    "    print(\"Adding mushrooms.\")\n",
    "if 'pepperoni' in requested_toppings:\n",
    "    print(\"Adding pepperoni.\")\n",
    "if 'extra cheese' in requested_toppings:\n",
    "    print(\"Adding extra cheese.\")\n",
    "    \n",
    "print(\"\\nFinished making your pizza!\")"
   ]
  },
  {
   "cell_type": "code",
   "execution_count": 45,
   "id": "6a4791ef",
   "metadata": {},
   "outputs": [
    {
     "name": "stdout",
     "output_type": "stream",
     "text": [
      "Adding mushrooms.\n",
      "\n",
      "Finished making your pizza!\n"
     ]
    }
   ],
   "source": [
    "#错误示范\n",
    "requested_toppings = ['mushrooms','extra cheese']\n",
    "if 'mushrooms' in requested_toppings:\n",
    "    print(\"Adding mushrooms.\")\n",
    "elif'pepperoni' in requested_toppings:\n",
    "    print(\"Adding pepperoni.\")\n",
    "elif 'extra cheese' in requested_toppings:\n",
    "    print(\"Adding extra cheese.\")\n",
    "    \n",
    "print(\"\\nFinished making your pizza!\")"
   ]
  },
  {
   "cell_type": "markdown",
   "id": "23ca865a",
   "metadata": {},
   "source": [
    "### 练习"
   ]
  },
  {
   "cell_type": "code",
   "execution_count": 3,
   "id": "75f1cb7f",
   "metadata": {},
   "outputs": [
    {
     "name": "stdout",
     "output_type": "stream",
     "text": [
      "You achieve 5 points.\n"
     ]
    }
   ],
   "source": [
    "#5.3外星人颜色1\n",
    "alien_color = ['green','yellow','red']\n",
    "if 'green' in alien_color:\n",
    "    print(\"You achieve 5 points.\")\n",
    "alien_color = ['yellow','red']\n",
    "if 'green' in alien_color:\n",
    "    print(\"You achieve 5 points.\")"
   ]
  },
  {
   "cell_type": "code",
   "execution_count": 4,
   "id": "147dc649",
   "metadata": {},
   "outputs": [
    {
     "name": "stdout",
     "output_type": "stream",
     "text": [
      "You achieve 5 points.\n",
      "You achieve 10 points.\n"
     ]
    }
   ],
   "source": [
    "#5.4外星人颜色2\n",
    "alien_color = ['green']\n",
    "if 'green' in alien_color:\n",
    "    print(\"You achieve 5 points.\")\n",
    "else:\n",
    "    print(\"You achieve 10 points.\")\n",
    "alien_color = ['red']\n",
    "if 'green' in alien_color:\n",
    "    print(\"You achieve 5 points.\")\n",
    "else:\n",
    "    print(\"You achieve 10 points.\")"
   ]
  },
  {
   "cell_type": "code",
   "execution_count": 5,
   "id": "d2dbf963",
   "metadata": {},
   "outputs": [
    {
     "name": "stdout",
     "output_type": "stream",
     "text": [
      "You achieve 5 points.\n",
      "You achieve 10 points.\n",
      "You achieve 15 points.\n"
     ]
    }
   ],
   "source": [
    "#5.5外星人颜色3\n",
    "alien_color = ['green']\n",
    "if 'green' in alien_color:\n",
    "    print(\"You achieve 5 points.\")\n",
    "elif 'yellow' in alien_color:\n",
    "    print(\"You achieve 10 points.\")\n",
    "else:\n",
    "    print(\"You achieve 15 points.\")\n",
    "alien_color = ['yellow']\n",
    "if 'green' in alien_color:\n",
    "    print(\"You achieve 5 points.\")\n",
    "elif 'yellow' in alien_color:\n",
    "    print(\"You achieve 10 points.\")\n",
    "else:\n",
    "    print(\"You achieve 15 points.\")\n",
    "alien_color = ['red']\n",
    "if 'green' in alien_color:\n",
    "    print(\"You achieve 5 points.\")\n",
    "elif 'yellow' in alien_color:\n",
    "    print(\"You achieve 10 points.\")\n",
    "else:\n",
    "    print(\"You achieve 15 points.\")"
   ]
  },
  {
   "cell_type": "code",
   "execution_count": 6,
   "id": "86a02346",
   "metadata": {},
   "outputs": [
    {
     "name": "stdout",
     "output_type": "stream",
     "text": [
      "这个人是少年。\n"
     ]
    }
   ],
   "source": [
    "#5.6人生的不同阶段\n",
    "age = 14\n",
    "if age < 2:\n",
    "    print(\"这个人是婴儿。\")\n",
    "elif 2 <= age < 4:\n",
    "    print(\"这个人是幼儿。\")\n",
    "elif 4<=age<13:\n",
    "    print(\"这个人是儿童。\")\n",
    "elif 13<=age<18:\n",
    "    print(\"这个人是少年。\")\n",
    "elif 18<=age<65:\n",
    "    print(\"这个人是中青年人。\")\n",
    "else:\n",
    "    print(\"这个人是老年人。\")"
   ]
  },
  {
   "cell_type": "code",
   "execution_count": 7,
   "id": "eddd0c19",
   "metadata": {},
   "outputs": [
    {
     "name": "stdout",
     "output_type": "stream",
     "text": [
      "You really like bananas.\n",
      "You really like peaches.\n",
      "You really like strawberries.\n"
     ]
    }
   ],
   "source": [
    "#5.7喜欢的水果\n",
    "favorite_fruits = ['peaches','bananas','strawberries']\n",
    "if 'bananas' in favorite_fruits:\n",
    "    print(\"You really like bananas.\")\n",
    "if 'peaches' in favorite_fruits:\n",
    "    print(\"You really like peaches.\")\n",
    "if 'strawberries' in favorite_fruits:\n",
    "    print(\"You really like strawberries.\")"
   ]
  },
  {
   "cell_type": "markdown",
   "id": "003fbd21",
   "metadata": {},
   "source": [
    "# 5.4 if语句处理列表"
   ]
  },
  {
   "cell_type": "markdown",
   "id": "6a2c5591",
   "metadata": {},
   "source": [
    "## 5.4.1 处理特殊元素"
   ]
  },
  {
   "cell_type": "code",
   "execution_count": 52,
   "id": "d03b5ce4",
   "metadata": {},
   "outputs": [
    {
     "name": "stdout",
     "output_type": "stream",
     "text": [
      "Adding mushrooms.\n",
      "Adding green peppers.\n",
      "Adding extra cheese.\n",
      "\n",
      "Finished making your pizza!\n"
     ]
    }
   ],
   "source": [
    "requested_toppings = ['mushrooms','green peppers','extra cheese']\n",
    "\n",
    "for requested_topping in requested_toppings:\n",
    "    print(f\"Adding {requested_topping}.\")\n",
    "    \n",
    "print(\"\\nFinished making your pizza!\")"
   ]
  },
  {
   "cell_type": "code",
   "execution_count": 55,
   "id": "ad38dbb3",
   "metadata": {},
   "outputs": [
    {
     "name": "stdout",
     "output_type": "stream",
     "text": [
      "Adding mushrooms.\n",
      "Sorry,we are out of green peppers right now.\n",
      "Adding extra cheese.\n",
      "\n",
      "Finished making your pizza!\n"
     ]
    }
   ],
   "source": [
    "requested_toppings = ['mushrooms','green peppers','extra cheese']\n",
    "\n",
    "for requested_topping in requested_toppings:\n",
    "    if requested_topping == 'green peppers':\n",
    "        print(\"Sorry,we are out of green peppers right now.\")\n",
    "    else:\n",
    "        print(f\"Adding {requested_topping}.\")\n",
    "    \n",
    "print(\"\\nFinished making your pizza!\")"
   ]
  },
  {
   "cell_type": "markdown",
   "id": "b472ad05",
   "metadata": {},
   "source": [
    "## 5.4.2 确定列表非空"
   ]
  },
  {
   "cell_type": "code",
   "execution_count": 59,
   "id": "e9921baa",
   "metadata": {},
   "outputs": [
    {
     "name": "stdout",
     "output_type": "stream",
     "text": [
      "Are you sure you want a plain pizza?\n"
     ]
    }
   ],
   "source": [
    "requested_toppings = []\n",
    "if requested_toppings:\n",
    "    for requested_topping in requested_toppings:\n",
    "        print(f\"Adding {requested_topping}.\")\n",
    "    print(\"\\nFinished making your pizza!\")\n",
    "else:\n",
    "    print(\"Are you sure you want a plain pizza?\")"
   ]
  },
  {
   "cell_type": "markdown",
   "id": "844a8217",
   "metadata": {},
   "source": [
    "## 5.4.3 使用多个列表"
   ]
  },
  {
   "cell_type": "code",
   "execution_count": 62,
   "id": "8becb1b5",
   "metadata": {},
   "outputs": [
    {
     "name": "stdout",
     "output_type": "stream",
     "text": [
      "Adding mushrooms.\n",
      "Sorry,we don't have {requested_topping}.\n",
      "Adding extra cheese.\n",
      "\n",
      "Finished your pizza!\n"
     ]
    }
   ],
   "source": [
    "available_toppings = ['mushrooms','olives','green peppers',\n",
    "                      'pepperoni','pineapple','extra cheese']\n",
    "requested_toppings = ['mushrooms','french fries','extra cheese']\n",
    "\n",
    "for requested_topping in requested_toppings:\n",
    "    if requested_topping in available_toppings:\n",
    "        print(f\"Adding {requested_topping}.\")\n",
    "    else:\n",
    "        print(\"Sorry,we don't have {requested_topping}.\")\n",
    "        \n",
    "print(\"\\nFinished your pizza!\")"
   ]
  },
  {
   "cell_type": "markdown",
   "id": "68725444",
   "metadata": {},
   "source": [
    "### 练习"
   ]
  },
  {
   "cell_type": "code",
   "execution_count": 8,
   "id": "f8a03ff6",
   "metadata": {},
   "outputs": [
    {
     "name": "stdout",
     "output_type": "stream",
     "text": [
      "Hello admin, would you like to see a status report?\n",
      "Hello huahua, thank you for logging in again.\n",
      "Hello xixi, thank you for logging in again.\n",
      "Hello cachy, thank you for logging in again.\n",
      "Hello weiran, thank you for logging in again.\n"
     ]
    }
   ],
   "source": [
    "#5.8以特殊方式跟管理员打招呼\n",
    "users = ['admin','huahua','xixi','cachy','weiran']\n",
    "for user in users:\n",
    "    if user == 'admin':\n",
    "        print(f\"Hello {user}, would you like to see a status report?\")\n",
    "    else:\n",
    "        print(f\"Hello {user}, thank you for logging in again.\")"
   ]
  },
  {
   "cell_type": "code",
   "execution_count": 9,
   "id": "1429f787",
   "metadata": {},
   "outputs": [
    {
     "name": "stdout",
     "output_type": "stream",
     "text": [
      "Hello admin, would you like to see a status report?\n",
      "Hello huahua, thank you for logging in again.\n",
      "Hello xixi, thank you for logging in again.\n",
      "Hello cachy, thank you for logging in again.\n",
      "Hello weiran, thank you for logging in again.\n"
     ]
    }
   ],
   "source": [
    "#5.9处理没有用户的情形\n",
    "users = ['admin','huahua','xixi','cachy','weiran']\n",
    "if users:\n",
    "    for user in users:\n",
    "        if user == 'admin':\n",
    "            print(f\"Hello {user}, would you like to see a status report?\")\n",
    "        else:\n",
    "            print(f\"Hello {user}, thank you for logging in again.\")\n",
    "else:\n",
    "    print(\"We need to find some users!\")"
   ]
  },
  {
   "cell_type": "code",
   "execution_count": 10,
   "id": "8911c8b5",
   "metadata": {},
   "outputs": [
    {
     "name": "stdout",
     "output_type": "stream",
     "text": [
      "The name Admin has been used,you need to change a name.\n",
      "The name WEIRAN has been used,you need to change a name.\n",
      "The name qianqian is not used.\n",
      "The name kuku is not used.\n"
     ]
    }
   ],
   "source": [
    "#5.10检查用户名\n",
    "current_users = ['admin','huahua','xixi','cachy','weiran']\n",
    "new_users = ['Admin','WEIRAN','qianqian','kuku']\n",
    "for user in new_users:\n",
    "    if user.lower() in current_users:\n",
    "        print(f\"The name {user} has been used,you need to change a name.\")\n",
    "    else:\n",
    "        print(f\"The name {user} is not used.\")"
   ]
  },
  {
   "cell_type": "code",
   "execution_count": 11,
   "id": "ce720e12",
   "metadata": {},
   "outputs": [
    {
     "name": "stdout",
     "output_type": "stream",
     "text": [
      "\n",
      "1st\n",
      "\n",
      "2nd\n",
      "\n",
      "3rd\n",
      "\n",
      "4th\n",
      "\n",
      "5th\n",
      "\n",
      "6th\n",
      "\n",
      "7th\n",
      "\n",
      "8th\n",
      "\n",
      "9th\n"
     ]
    }
   ],
   "source": [
    "#5.11序数\n",
    "numbers = [1,2,3,4,5,6,7,8,9]\n",
    "for number in numbers:\n",
    "    if number == 1:\n",
    "        print(\"\\n1st\")\n",
    "    elif number == 2:\n",
    "        print(\"\\n2nd\")\n",
    "    elif number ==3:\n",
    "         print(\"\\n3rd\")\n",
    "    else:\n",
    "        print(f\"\\n{number}th\")"
   ]
  }
 ],
 "metadata": {
  "kernelspec": {
   "display_name": "Python 3 (ipykernel)",
   "language": "python",
   "name": "python3"
  },
  "language_info": {
   "codemirror_mode": {
    "name": "ipython",
    "version": 3
   },
   "file_extension": ".py",
   "mimetype": "text/x-python",
   "name": "python",
   "nbconvert_exporter": "python",
   "pygments_lexer": "ipython3",
   "version": "3.11.5"
  }
 },
 "nbformat": 4,
 "nbformat_minor": 5
}
