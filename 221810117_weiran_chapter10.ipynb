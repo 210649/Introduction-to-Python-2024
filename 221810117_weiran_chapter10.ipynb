{
 "cells": [
  {
   "cell_type": "markdown",
   "id": "581bc248",
   "metadata": {},
   "source": [
    "# 第 10 章　文件和异常"
   ]
  },
  {
   "cell_type": "markdown",
   "id": "9f6a8d18",
   "metadata": {},
   "source": [
    "##### 处理文件、错误、异常，保存数据"
   ]
  },
  {
   "cell_type": "markdown",
   "id": "3e78a7ae",
   "metadata": {},
   "source": [
    "## 10.1　读取文件"
   ]
  },
  {
   "cell_type": "markdown",
   "id": "43cdd07c",
   "metadata": {},
   "source": [
    "### 10.1.1　读取文件的全部内容"
   ]
  },
  {
   "cell_type": "code",
   "execution_count": 7,
   "id": "743066ac",
   "metadata": {},
   "outputs": [
    {
     "name": "stdout",
     "output_type": "stream",
     "text": [
      "3.1415926535\n",
      "  8979323846\n",
      "  2643383279\n"
     ]
    }
   ],
   "source": [
    "#file_reader.py\n",
    "from pathlib import Path #导入pathlib模块Path类\n",
    "\n",
    "path = Path('pi_digits.txt')\n",
    "contents = path.read_text()\n",
    "print(contents)"
   ]
  },
  {
   "cell_type": "code",
   "execution_count": 8,
   "id": "f9de7ead",
   "metadata": {},
   "outputs": [
    {
     "name": "stdout",
     "output_type": "stream",
     "text": [
      "3.1415926535\n",
      "  8979323846\n",
      "  2643383279\n"
     ]
    }
   ],
   "source": [
    "from pathlib import Path\n",
    "\n",
    "path = Path('pi_digits.txt')\n",
    "contents = path.read_text() #方法链式调用：contents = path.read_text().rstrip()\n",
    "contents = contents.rstrip() #删除末尾多余空行\n",
    "print(contents)"
   ]
  },
  {
   "cell_type": "markdown",
   "id": "fca14ce1",
   "metadata": {},
   "source": [
    "### 10.1.2　相对文件路径和绝对文件路径"
   ]
  },
  {
   "cell_type": "markdown",
   "id": "f9bee64d",
   "metadata": {},
   "source": [
    "#### 相对文件路径"
   ]
  },
  {
   "cell_type": "code",
   "execution_count": null,
   "id": "c271acc9",
   "metadata": {},
   "outputs": [],
   "source": [
    "#文件夹 text_files 位于程序储存文件夹 python_work 中\n",
    "path = Path('text_files/filename.txt')"
   ]
  },
  {
   "cell_type": "markdown",
   "id": "f695588d",
   "metadata": {},
   "source": [
    "#### 绝对文件路径"
   ]
  },
  {
   "cell_type": "code",
   "execution_count": null,
   "id": "f83bb9f9",
   "metadata": {},
   "outputs": [],
   "source": [
    "path = Path('/home/eric/data_files/text_files/filename.txt') \n",
    "#windows系统:\\  ,代码中: /  显示文件路径"
   ]
  },
  {
   "cell_type": "markdown",
   "id": "ba439624",
   "metadata": {},
   "source": [
    "### 10.1.3　访问文件中的各行"
   ]
  },
  {
   "cell_type": "code",
   "execution_count": 9,
   "id": "31efd879",
   "metadata": {},
   "outputs": [
    {
     "name": "stdout",
     "output_type": "stream",
     "text": [
      "3.1415926535\n",
      "  8979323846\n",
      "  2643383279\n"
     ]
    }
   ],
   "source": [
    "#file_reader.py\n",
    "from pathlib import Path\n",
    "\n",
    "path = Path('pi_digits.txt')\n",
    "contents = path.read_text()\n",
    "\n",
    "lines = contents.splitlines() #splitlines() 将字符串转换为行\n",
    "for line in lines: #逐行检查\n",
    "    print(line)"
   ]
  },
  {
   "cell_type": "markdown",
   "id": "f972a8f7",
   "metadata": {},
   "source": [
    "### 10.1.4　使用文件的内容"
   ]
  },
  {
   "cell_type": "code",
   "execution_count": 13,
   "id": "da73a1ad",
   "metadata": {},
   "outputs": [
    {
     "name": "stdout",
     "output_type": "stream",
     "text": [
      "3.1415926535  8979323846  2643383279\n",
      "36\n"
     ]
    }
   ],
   "source": [
    "#pi_string.py\n",
    "from pathlib import Path\n",
    "\n",
    "path = Path('pi_digits.txt')\n",
    "contents = path.read_text()\n",
    "\n",
    "lines = contents.splitlines()\n",
    "pi_string = '' #将读取的所有行存在列表pi_string里\n",
    "for line in lines:\n",
    "    pi_string += line\n",
    "    \n",
    "print(pi_string)\n",
    "print(len(pi_string))\n"
   ]
  },
  {
   "cell_type": "code",
   "execution_count": 12,
   "id": "779b1c44",
   "metadata": {},
   "outputs": [
    {
     "name": "stdout",
     "output_type": "stream",
     "text": [
      "3.141592653589793238462643383279\n",
      "32\n"
     ]
    }
   ],
   "source": [
    "from pathlib import Path\n",
    "\n",
    "path = Path('pi_digits.txt')\n",
    "contents = path.read_text()\n",
    "\n",
    "lines = contents.splitlines() #若读取数可用int()、float()将其作为数值使用\n",
    "pi_string = ''\n",
    "\n",
    "#删除每行左端空格\n",
    "for line in lines:\n",
    "    pi_string += line.lstrip()\n",
    "print(pi_string)\n",
    "print(len(pi_string))"
   ]
  },
  {
   "cell_type": "markdown",
   "id": "7cc13269",
   "metadata": {},
   "source": [
    "### 10.1.5　包含 100 万位的大型文件"
   ]
  },
  {
   "cell_type": "code",
   "execution_count": 2,
   "id": "2892ff47",
   "metadata": {},
   "outputs": [
    {
     "name": "stdout",
     "output_type": "stream",
     "text": [
      "3.14159 26535 8...\n",
      "1200001\n"
     ]
    }
   ],
   "source": [
    "#pi_string.py\n",
    "#缺少资源有所修改\n",
    "from pathlib import Path\n",
    "\n",
    "path = Path('pi_million_digits.txt')\n",
    "contents = path.read_text()\n",
    "\n",
    "lines = contents.splitlines()\n",
    "pi_string = ''\n",
    "for line in lines:\n",
    "    pi_string += line.lstrip()\n",
    "    \n",
    "print(f\"{pi_string[:15]}...\")\n",
    "print(len(pi_string))"
   ]
  },
  {
   "cell_type": "markdown",
   "id": "4d14a8aa",
   "metadata": {},
   "source": [
    "### 10.1.6　圆周率值中包含你的生日吗"
   ]
  },
  {
   "cell_type": "code",
   "execution_count": 4,
   "id": "058d3e5f",
   "metadata": {},
   "outputs": [
    {
     "name": "stdout",
     "output_type": "stream",
     "text": [
      "Enter your birthday, in the form mmddyy: 0218\n",
      "Your birthday appears in the first million digits of pi!\n"
     ]
    }
   ],
   "source": [
    "#pi_birthday.py\n",
    "for line in lines:\n",
    "    pi_string += line.strip()\n",
    "    \n",
    "birthday = input(\"Enter your birthday, in the form mmddyy: \")\n",
    "if birthday in pi_string:\n",
    "    print(\"Your birthday appears in the first million digits of pi!\")\n",
    "else:\n",
    "    print(\"Your birthday does not appear in the first million digits of pi.\")"
   ]
  },
  {
   "cell_type": "markdown",
   "id": "855e380b",
   "metadata": {},
   "source": [
    "### 练习"
   ]
  },
  {
   "cell_type": "markdown",
   "id": "eab36633",
   "metadata": {},
   "source": [
    "#### 练习10.1：Python学习笔记"
   ]
  },
  {
   "cell_type": "code",
   "execution_count": 14,
   "id": "0f2232a6",
   "metadata": {},
   "outputs": [
    {
     "name": "stdout",
     "output_type": "stream",
     "text": [
      "In Python you can use less code than Java and C.\n",
      "In Python you can find out if your birthday is included in the PI.\n",
      "In Python you can use less code than Java and C.\n",
      "In Python you can find out if your birthday is included in the PI.\n"
     ]
    }
   ],
   "source": [
    "from pathlib import Path\n",
    "\n",
    "#读取整个文件\n",
    "path = Path('learn_py.txt')\n",
    "contents = path.read_text()\n",
    "contents = contents.rstrip()\n",
    "print(contents)\n",
    "\n",
    "#逐行遍历\n",
    "lines = contents.splitlines()\n",
    "for line in lines:\n",
    "    print(line)"
   ]
  },
  {
   "cell_type": "markdown",
   "id": "db10f620",
   "metadata": {},
   "source": [
    "#### 练习10.2：C学习笔记"
   ]
  },
  {
   "cell_type": "code",
   "execution_count": 17,
   "id": "06d4dfb7",
   "metadata": {},
   "outputs": [
    {
     "name": "stdout",
     "output_type": "stream",
     "text": [
      "In Glax you can use less code than Java and C.\n",
      "In Glax you can find out if your birthday is included in the PI.\n"
     ]
    }
   ],
   "source": [
    "from pathlib import Path\n",
    "\n",
    "path = Path('learn_py.txt')\n",
    "contents = path.read_text()\n",
    "\n",
    "for line in contents.splitlines():\n",
    "    line=line.replace('Python','Glax')\n",
    "    print(line)"
   ]
  },
  {
   "cell_type": "markdown",
   "id": "7e8a510c",
   "metadata": {},
   "source": [
    "#### 练习10.3：简化代码"
   ]
  },
  {
   "cell_type": "code",
   "execution_count": null,
   "id": "9ace7085",
   "metadata": {},
   "outputs": [],
   "source": [
    "#省略临时变量\n",
    "for line in contents.splitlines():"
   ]
  },
  {
   "cell_type": "markdown",
   "id": "1733ccb1",
   "metadata": {},
   "source": [
    "## 10.2　写入文件"
   ]
  },
  {
   "cell_type": "markdown",
   "id": "42196eea",
   "metadata": {},
   "source": [
    "### 10.2.1　写入一行"
   ]
  },
  {
   "cell_type": "code",
   "execution_count": null,
   "id": "502f571a",
   "metadata": {},
   "outputs": [],
   "source": [
    "#write_message.py\n",
    "from pathlib import Path\n",
    "\n",
    "path = Path('programming.txt') #指定路径\n",
    "path.write_text(\"I love programming.\") #写入数据"
   ]
  },
  {
   "cell_type": "markdown",
   "id": "bf83e731",
   "metadata": {},
   "source": [
    "Python只能写入字符串，用str()将数值转为字符串"
   ]
  },
  {
   "cell_type": "markdown",
   "id": "9a7cd2d4",
   "metadata": {},
   "source": [
    "### 10.2.2　写入多行"
   ]
  },
  {
   "cell_type": "code",
   "execution_count": null,
   "id": "8968e83e",
   "metadata": {},
   "outputs": [],
   "source": [
    "from pathlib import Path\n",
    "\n",
    "contents = \"I love programming.\\n\"\n",
    "contents += \"I love creating new games.\\n\"\n",
    "contents += \"I also love working with data.\\n\"\n",
    "\n",
    "path = Path('programming.txt')\n",
    "path.write_text(contents)"
   ]
  },
  {
   "cell_type": "markdown",
   "id": "b2643b08",
   "metadata": {},
   "source": [
    "### 练习"
   ]
  },
  {
   "cell_type": "markdown",
   "id": "880d169e",
   "metadata": {},
   "source": [
    "#### 练习10.4：访客"
   ]
  },
  {
   "cell_type": "code",
   "execution_count": 20,
   "id": "7f9cfe7d",
   "metadata": {},
   "outputs": [
    {
     "name": "stdout",
     "output_type": "stream",
     "text": [
      "Please enter your name:Lan weiran\n"
     ]
    },
    {
     "data": {
      "text/plain": [
       "10"
      ]
     },
     "execution_count": 20,
     "metadata": {},
     "output_type": "execute_result"
    }
   ],
   "source": [
    "from pathlib import Path\n",
    "# Prompt and get input\n",
    "name = input(\"Please enter your name:\")\n",
    "\n",
    "path = Path('guest.txt')\n",
    "path.write_text(name)"
   ]
  },
  {
   "cell_type": "markdown",
   "id": "7442d9cd",
   "metadata": {},
   "source": [
    "#### 练习10.5：访客簿"
   ]
  },
  {
   "cell_type": "code",
   "execution_count": 21,
   "id": "3533ae61",
   "metadata": {},
   "outputs": [
    {
     "name": "stdout",
     "output_type": "stream",
     "text": [
      "请输入您的名字（输入 'exit' 退出）: Xiao ming\n",
      "请输入您的名字（输入 'exit' 退出）: Qian qian\n",
      "请输入您的名字（输入 'exit' 退出）: Qing mpyy\n",
      "请输入您的名字（输入 'exit' 退出）: exit\n",
      "所有名字已成功写入到 guest_book.txt 文件中。\n"
     ]
    }
   ],
   "source": [
    "# 初始化一个空列表来存储名字  \n",
    "names = []  \n",
    "  \n",
    "# 循环提示用户输入名字，直到用户输入 \"exit\"  \n",
    "while True:  \n",
    "    name = input(\"请输入您的名字（输入 'exit' 退出）: \")  \n",
    "    if name.lower() == 'exit':  \n",
    "        break  \n",
    "    names.append(name)  \n",
    "  \n",
    "# 打开文件准备写入  \n",
    "with open('guest_book.txt', 'w', encoding='utf-8') as file:  \n",
    "    # 遍历名字列表，将每个名字写入文件，并在每个名字后添加一个换行符  \n",
    "    for name in names:  \n",
    "        file.write(name + '\\n')  \n",
    "  \n",
    "print(\"所有名字已成功写入到 guest_book.txt 文件中。\")"
   ]
  },
  {
   "cell_type": "markdown",
   "id": "d2a0f32a",
   "metadata": {},
   "source": [
    "### 10.3　异常"
   ]
  },
  {
   "cell_type": "markdown",
   "id": "64e06d98",
   "metadata": {},
   "source": [
    "### 10.3.1　处理 ZeroDivisionError 异常"
   ]
  },
  {
   "cell_type": "code",
   "execution_count": 8,
   "id": "4be71e39",
   "metadata": {},
   "outputs": [
    {
     "ename": "ZeroDivisionError",
     "evalue": "division by zero",
     "output_type": "error",
     "traceback": [
      "\u001b[1;31m---------------------------------------------------------------------------\u001b[0m",
      "\u001b[1;31mZeroDivisionError\u001b[0m                         Traceback (most recent call last)",
      "Cell \u001b[1;32mIn[8], line 2\u001b[0m\n\u001b[0;32m      1\u001b[0m \u001b[38;5;66;03m#division_calculator.py\u001b[39;00m\n\u001b[1;32m----> 2\u001b[0m \u001b[38;5;28mprint\u001b[39m(\u001b[38;5;241m5\u001b[39m\u001b[38;5;241m/\u001b[39m\u001b[38;5;241m0\u001b[39m)\n",
      "\u001b[1;31mZeroDivisionError\u001b[0m: division by zero"
     ]
    }
   ],
   "source": [
    "#division_calculator.py\n",
    "print(5/0) #错误尝试"
   ]
  },
  {
   "cell_type": "markdown",
   "id": "b68e9f54",
   "metadata": {},
   "source": [
    "### 10.3.2　使用 try-except 代码块"
   ]
  },
  {
   "cell_type": "code",
   "execution_count": 9,
   "id": "4f9c796d",
   "metadata": {},
   "outputs": [
    {
     "name": "stdout",
     "output_type": "stream",
     "text": [
      "You can't divide by zero!\n"
     ]
    }
   ],
   "source": [
    "try:\n",
    "    print(5/0)\n",
    "except ZeroDivisionError:\n",
    "    print(\"You can't divide by zero!\")"
   ]
  },
  {
   "cell_type": "markdown",
   "id": "37ac7323",
   "metadata": {},
   "source": [
    "### 10.3.3　使用异常避免崩溃"
   ]
  },
  {
   "cell_type": "code",
   "execution_count": 11,
   "id": "f4c93454",
   "metadata": {},
   "outputs": [
    {
     "name": "stdout",
     "output_type": "stream",
     "text": [
      "Give me two numbers, and I'll divide them.\n",
      "Enter 'q' to quit.\n",
      "\n",
      "First number: 465\n",
      "Second number: 0\n"
     ]
    },
    {
     "ename": "ZeroDivisionError",
     "evalue": "division by zero",
     "output_type": "error",
     "traceback": [
      "\u001b[1;31m---------------------------------------------------------------------------\u001b[0m",
      "\u001b[1;31mZeroDivisionError\u001b[0m                         Traceback (most recent call last)",
      "Cell \u001b[1;32mIn[11], line 12\u001b[0m\n\u001b[0;32m     10\u001b[0m \u001b[38;5;28;01mif\u001b[39;00m second_number \u001b[38;5;241m==\u001b[39m \u001b[38;5;124m'\u001b[39m\u001b[38;5;124mq\u001b[39m\u001b[38;5;124m'\u001b[39m:\n\u001b[0;32m     11\u001b[0m     \u001b[38;5;28;01mbreak\u001b[39;00m\n\u001b[1;32m---> 12\u001b[0m answer \u001b[38;5;241m=\u001b[39m \u001b[38;5;28mint\u001b[39m(first_number) \u001b[38;5;241m/\u001b[39m \u001b[38;5;28mint\u001b[39m(second_number)\n\u001b[0;32m     13\u001b[0m \u001b[38;5;28mprint\u001b[39m(answer)\n",
      "\u001b[1;31mZeroDivisionError\u001b[0m: division by zero"
     ]
    }
   ],
   "source": [
    "#division_calculator.py\n",
    "#未采取处理错误的措施\n",
    "print(\"Give me two numbers, and I'll divide them.\")\n",
    "print(\"Enter 'q' to quit.\")\n",
    "\n",
    "while True:\n",
    "    first_number = input(\"\\nFirst number: \")\n",
    "    if first_number == 'q':\n",
    "        break\n",
    "    second_number = input(\"Second number: \")\n",
    "    if second_number == 'q':\n",
    "        break\n",
    "    answer = int(first_number) / int(second_number)\n",
    "    print(answer)"
   ]
  },
  {
   "cell_type": "markdown",
   "id": "4ab3a006",
   "metadata": {},
   "source": [
    "### 10.3.4　else 代码块"
   ]
  },
  {
   "cell_type": "code",
   "execution_count": null,
   "id": "5377d6d7",
   "metadata": {},
   "outputs": [],
   "source": [
    "print(\"Give me two numbers, and I'll divide them.\")\n",
    "print(\"Enter 'q' to quit.\")\n",
    "\n",
    "while True:\n",
    "    first_number = input(\"\\nFirst number: \")\n",
    "    if first_number == 'q':\n",
    "        break\n",
    "    second_number = input(\"Second number: \")\n",
    "    if second_number == 'q':\n",
    "        break \n",
    "    try:\n",
    "        answer = int(first_number) / int(second_number)\n",
    "    except ZeroDivisionError:\n",
    "        print(\"You can't divide by 0!\")\n",
    "    else:\n",
    "        print(answer)    "
   ]
  },
  {
   "cell_type": "markdown",
   "id": "41d3de14",
   "metadata": {},
   "source": [
    "### 10.3.5　处理 FileNotFoundError 异常"
   ]
  },
  {
   "cell_type": "code",
   "execution_count": 12,
   "id": "911319a1",
   "metadata": {},
   "outputs": [
    {
     "ename": "FileNotFoundError",
     "evalue": "[Errno 2] No such file or directory: 'alice.txt'",
     "output_type": "error",
     "traceback": [
      "\u001b[1;31m---------------------------------------------------------------------------\u001b[0m",
      "\u001b[1;31mFileNotFoundError\u001b[0m                         Traceback (most recent call last)",
      "Cell \u001b[1;32mIn[12], line 5\u001b[0m\n\u001b[0;32m      2\u001b[0m \u001b[38;5;28;01mfrom\u001b[39;00m \u001b[38;5;21;01mpathlib\u001b[39;00m \u001b[38;5;28;01mimport\u001b[39;00m Path\n\u001b[0;32m      3\u001b[0m path \u001b[38;5;241m=\u001b[39m Path(\u001b[38;5;124m'\u001b[39m\u001b[38;5;124malice.txt\u001b[39m\u001b[38;5;124m'\u001b[39m)\n\u001b[1;32m----> 5\u001b[0m contents \u001b[38;5;241m=\u001b[39m path\u001b[38;5;241m.\u001b[39mread_text(encoding\u001b[38;5;241m=\u001b[39m\u001b[38;5;124m'\u001b[39m\u001b[38;5;124mutf-8\u001b[39m\u001b[38;5;124m'\u001b[39m)\n",
      "File \u001b[1;32mD:\\ANACONDA\\Lib\\pathlib.py:1058\u001b[0m, in \u001b[0;36mPath.read_text\u001b[1;34m(self, encoding, errors)\u001b[0m\n\u001b[0;32m   1054\u001b[0m \u001b[38;5;250m\u001b[39m\u001b[38;5;124;03m\"\"\"\u001b[39;00m\n\u001b[0;32m   1055\u001b[0m \u001b[38;5;124;03mOpen the file in text mode, read it, and close the file.\u001b[39;00m\n\u001b[0;32m   1056\u001b[0m \u001b[38;5;124;03m\"\"\"\u001b[39;00m\n\u001b[0;32m   1057\u001b[0m encoding \u001b[38;5;241m=\u001b[39m io\u001b[38;5;241m.\u001b[39mtext_encoding(encoding)\n\u001b[1;32m-> 1058\u001b[0m \u001b[38;5;28;01mwith\u001b[39;00m \u001b[38;5;28mself\u001b[39m\u001b[38;5;241m.\u001b[39mopen(mode\u001b[38;5;241m=\u001b[39m\u001b[38;5;124m'\u001b[39m\u001b[38;5;124mr\u001b[39m\u001b[38;5;124m'\u001b[39m, encoding\u001b[38;5;241m=\u001b[39mencoding, errors\u001b[38;5;241m=\u001b[39merrors) \u001b[38;5;28;01mas\u001b[39;00m f:\n\u001b[0;32m   1059\u001b[0m     \u001b[38;5;28;01mreturn\u001b[39;00m f\u001b[38;5;241m.\u001b[39mread()\n",
      "File \u001b[1;32mD:\\ANACONDA\\Lib\\pathlib.py:1044\u001b[0m, in \u001b[0;36mPath.open\u001b[1;34m(self, mode, buffering, encoding, errors, newline)\u001b[0m\n\u001b[0;32m   1042\u001b[0m \u001b[38;5;28;01mif\u001b[39;00m \u001b[38;5;124m\"\u001b[39m\u001b[38;5;124mb\u001b[39m\u001b[38;5;124m\"\u001b[39m \u001b[38;5;129;01mnot\u001b[39;00m \u001b[38;5;129;01min\u001b[39;00m mode:\n\u001b[0;32m   1043\u001b[0m     encoding \u001b[38;5;241m=\u001b[39m io\u001b[38;5;241m.\u001b[39mtext_encoding(encoding)\n\u001b[1;32m-> 1044\u001b[0m \u001b[38;5;28;01mreturn\u001b[39;00m io\u001b[38;5;241m.\u001b[39mopen(\u001b[38;5;28mself\u001b[39m, mode, buffering, encoding, errors, newline)\n",
      "\u001b[1;31mFileNotFoundError\u001b[0m: [Errno 2] No such file or directory: 'alice.txt'"
     ]
    }
   ],
   "source": [
    "#alice.py\n",
    "from pathlib import Path\n",
    "path = Path('alice.txt')\n",
    "#读取文件不存在\n",
    "contents = path.read_text(encoding='utf-8')  #若系统默认编码与要读取的文件编码不一要增加参数encoding"
   ]
  },
  {
   "cell_type": "code",
   "execution_count": 13,
   "id": "49716b4c",
   "metadata": {},
   "outputs": [
    {
     "name": "stdout",
     "output_type": "stream",
     "text": [
      "Sorry, the file alice.txt does not exist.\n"
     ]
    }
   ],
   "source": [
    "from pathlib import Path\n",
    "\n",
    "path = Path('alice.txt')\n",
    "try:\n",
    "    contents = path.read_text(encoding='utf-8')\n",
    "except FileNotFoundError:\n",
    "    print(f\"Sorry, the file {path} does not exist.\")"
   ]
  },
  {
   "cell_type": "markdown",
   "id": "5b1f4159",
   "metadata": {},
   "source": [
    "### 10.3.6　分析文本"
   ]
  },
  {
   "cell_type": "code",
   "execution_count": 14,
   "id": "8a1d290f",
   "metadata": {},
   "outputs": [
    {
     "name": "stdout",
     "output_type": "stream",
     "text": [
      "Sorry, the file alice.txt does not exist.\n"
     ]
    }
   ],
   "source": [
    "from pathlib import Path\n",
    "\n",
    "path = Path('alice.txt')\n",
    "try:\n",
    "    contents = path.read_text(encoding='utf-8')\n",
    "except FileNotFoundError:\n",
    "    print(f\"Sorry, the file {path} does not exist.\")\n",
    "else:\n",
    "    #计算文件大致包含多少个单词\n",
    "    words = contents.split() #split()生成列表，包含童话单词\n",
    "    num_words = len(words)\n",
    "    print(f\"The file {path} has about {num_words} words.\")"
   ]
  },
  {
   "cell_type": "markdown",
   "id": "7a781af3",
   "metadata": {},
   "source": [
    "### 10.3.7　使用多个文件"
   ]
  },
  {
   "cell_type": "code",
   "execution_count": 16,
   "id": "f5f5604a",
   "metadata": {},
   "outputs": [
    {
     "name": "stdout",
     "output_type": "stream",
     "text": [
      "Sorry, the file alice.txt does not exist.\n"
     ]
    }
   ],
   "source": [
    "#word_count.py\n",
    "from pathlib import Path\n",
    "\n",
    "def count_words(path):\n",
    "    \"\"\"计算一个文件大致包含多少个单词\"\"\"\n",
    "    try:\n",
    "        contents = path.read_text(encoding='utf-8')\n",
    "    except FileNotFoundError:\n",
    "        print(f\"Sorry, the file {path} does not exist.\")\n",
    "    else:\n",
    "    # 计算文件大致包含多少个单词\n",
    "        words = contents.split()\n",
    "        num_words = len(words)\n",
    "        print(f\"The file {path} has about {num_words} words.\")\n",
    "        \n",
    "path = Path('alice.txt')\n",
    "count_words(path)"
   ]
  },
  {
   "cell_type": "code",
   "execution_count": 18,
   "id": "d7ff8ddc",
   "metadata": {},
   "outputs": [
    {
     "name": "stdout",
     "output_type": "stream",
     "text": [
      "Sorry, the file alice.txt does not exist.\n",
      "Sorry, the file siddhartha.txt does not exist.\n",
      "Sorry, the file moby_dick.txt does not exist.\n",
      "Sorry, the file little_women.txt does not exist.\n"
     ]
    }
   ],
   "source": [
    "from pathlib import Path\n",
    "\n",
    "def count_words(filename):\n",
    "    \"\"\"计算一个文件大致包含多少个单词\"\"\"\n",
    "    try:\n",
    "        contents = path.read_text(encoding='utf-8')\n",
    "    except FileNotFoundError:\n",
    "        print(f\"Sorry, the file {path} does not exist.\")\n",
    "    else:\n",
    "    # 计算文件大致包含多少个单词\n",
    "        words = contents.split()\n",
    "        num_words = len(words)\n",
    "        print(f\"The file {path} has about {num_words} words.\")\n",
    "        \n",
    "filenames = ['alice.txt', 'siddhartha.txt', 'moby_dick.txt',\n",
    "        'little_women.txt']\n",
    "for filename in filenames:  #加入循环处理多个文件\n",
    "    path = Path(filename)\n",
    "    count_words(path)"
   ]
  },
  {
   "cell_type": "markdown",
   "id": "40c3c129",
   "metadata": {},
   "source": [
    "### 10.3.8　静默失败"
   ]
  },
  {
   "cell_type": "code",
   "execution_count": 4,
   "id": "c49340fb",
   "metadata": {},
   "outputs": [],
   "source": [
    "from pathlib import Path\n",
    "\n",
    "def count_words(path):\n",
    "    \"\"\"计算一个文件大致包含多少个单词\"\"\"\n",
    "    try:\n",
    "        contents = path.read_text(encoding='utf-8')\n",
    "    except FileNotFoundError:\n",
    "        pass #让python什么都不做\n",
    "    else:\n",
    "        words = contents.split()\n",
    "        num_words = len(words)\n",
    "        print(f\"The file {path} has about {num_words} words.\")\n",
    "        \n",
    "filenames = ['alice.txt', 'siddhartha.txt', 'moby_dick.txt',\n",
    "        'little_women.txt']\n",
    "for filename in filenames:  #加入循环处理多个文件\n",
    "    path = Path(filename)\n",
    "    count_words(path)"
   ]
  },
  {
   "cell_type": "markdown",
   "id": "2a725d11",
   "metadata": {},
   "source": [
    "### 练习"
   ]
  },
  {
   "cell_type": "markdown",
   "id": "7d15c041",
   "metadata": {},
   "source": [
    "#### 练习10.6：加法运算"
   ]
  },
  {
   "cell_type": "code",
   "execution_count": 2,
   "id": "b356c25c",
   "metadata": {},
   "outputs": [
    {
     "name": "stdout",
     "output_type": "stream",
     "text": [
      "请输入第一个整数: 234\n",
      "请输入第二个整数: sdsa\n",
      "错误：请输入一个整数。\n",
      "请输入第二个整数: 234\n",
      "结果：234 + 234 = 468\n"
     ]
    }
   ],
   "source": [
    "#定义函数\n",
    "def get_number_from_user(prompt):  \n",
    "    while True:  \n",
    "        try:  \n",
    "            return int(input(prompt))  \n",
    "        except ValueError:  \n",
    "            print(\"错误：请输入一个整数。\")  #捕获异常\n",
    "  \n",
    "def add_numbers():  \n",
    "    num1 = get_number_from_user(\"请输入第一个整数: \")  \n",
    "    num2 = get_number_from_user(\"请输入第二个整数: \")  \n",
    "    print(f\"结果：{num1} + {num2} = {num1 + num2}\")  \n",
    "    \n",
    "# 测试程序  \n",
    "add_numbers()"
   ]
  },
  {
   "cell_type": "markdown",
   "id": "d0c73de9",
   "metadata": {},
   "source": [
    "#### 练习10.7：加法计算器"
   ]
  },
  {
   "cell_type": "code",
   "execution_count": 3,
   "id": "875333b4",
   "metadata": {},
   "outputs": [
    {
     "name": "stdout",
     "output_type": "stream",
     "text": [
      "请输入一个整数（输入'q'退出）: 234\n",
      "当前总和为：234\n",
      "请输入一个整数（输入'q'退出）: 21\n",
      "当前总和为：255\n",
      "请输入一个整数（输入'q'退出）: 678\n",
      "当前总和为：933\n",
      "请输入一个整数（输入'q'退出）: q234\n",
      "错误：请输入一个有效的整数。\n",
      "请输入一个整数（输入'q'退出）: q\n",
      "最终总和为：933\n"
     ]
    }
   ],
   "source": [
    "def add_numbers():  \n",
    "    total = 0  # 初始化总和为0  \n",
    "    while True:  \n",
    "        try:  \n",
    "            num = input(\"请输入一个整数（输入'q'退出）: \")  \n",
    "            if num.lower() == 'q':    \n",
    "                break  \n",
    "            total += int(num)  # 将输入的整数加到总和中  \n",
    "            print(f\"当前总和为：{total}\")  \n",
    "        except ValueError:  \n",
    "            print(\"错误：请输入一个有效的整数。\")  \n",
    "    print(f\"最终总和为：{total}\")  \n",
    "  \n",
    "# 测试程序  \n",
    "add_numbers()"
   ]
  },
  {
   "cell_type": "markdown",
   "id": "469cbc70",
   "metadata": {},
   "source": [
    "#### 练习10.8：猫和狗"
   ]
  },
  {
   "cell_type": "code",
   "execution_count": 5,
   "id": "6f234b10",
   "metadata": {},
   "outputs": [
    {
     "name": "stdout",
     "output_type": "stream",
     "text": [
      "文件 cats.txt 不存在。\n",
      "内容来自文件 dogs.txt:\n",
      "Buddy  \n",
      "Max  \n",
      "Molly\n"
     ]
    }
   ],
   "source": [
    "def read_and_print_file(file_name):  \n",
    "    try:  \n",
    "        with open(file_name, 'r') as file:  \n",
    "            content = file.read()  \n",
    "            print(f\"内容来自文件 {file_name}:\\n{content}\")  \n",
    "    except FileNotFoundError:  \n",
    "        print(f\"文件 {file_name} 不存在。\")  \n",
    "  \n",
    "# 读取并打印cats.txt的内容\n",
    "read_and_print_file('cats.txt')  \n",
    "  \n",
    "# 读取并打印dogs.txt的内容  \n",
    "read_and_print_file('dogs.txt')  \n",
    "  \n",
    "# 为了测试except代码块，将cats.txt文件移动到另一个地方  "
   ]
  },
  {
   "cell_type": "markdown",
   "id": "671ab4b2",
   "metadata": {},
   "source": [
    "#### 练习10.9：静默的猫和狗"
   ]
  },
  {
   "cell_type": "code",
   "execution_count": 6,
   "id": "e1daeadc",
   "metadata": {},
   "outputs": [
    {
     "name": "stdout",
     "output_type": "stream",
     "text": [
      "内容来自文件 dogs.txt:\n",
      "Buddy  \n",
      "Max  \n",
      "Molly\n"
     ]
    }
   ],
   "source": [
    "def read_and_print_file(file_name):  \n",
    "    try:  \n",
    "        with open(file_name, 'r') as file:  \n",
    "            content = file.read()  \n",
    "            print(f\"内容来自文件 {file_name}:\\n{content}\")  \n",
    "    except FileNotFoundError:  \n",
    "        pass  # 使用 pass 语句让程序静默失败\n",
    "    \n",
    "read_and_print_file('cats.txt')    \n",
    "read_and_print_file('dogs.txt')"
   ]
  },
  {
   "cell_type": "markdown",
   "id": "e3ba86a3",
   "metadata": {},
   "source": [
    "#### 练习10.10：常见单词"
   ]
  },
  {
   "cell_type": "code",
   "execution_count": 7,
   "id": "ed1e63f7",
   "metadata": {},
   "outputs": [
    {
     "data": {
      "text/plain": [
       "2"
      ]
     },
     "execution_count": 7,
     "metadata": {},
     "output_type": "execute_result"
    }
   ],
   "source": [
    "#示例\n",
    "line = \"Row, row, row your boat\"\n",
    "line.count('row')"
   ]
  },
  {
   "cell_type": "code",
   "execution_count": 8,
   "id": "bc21f6d2",
   "metadata": {},
   "outputs": [
    {
     "data": {
      "text/plain": [
       "3"
      ]
     },
     "execution_count": 8,
     "metadata": {},
     "output_type": "execute_result"
    }
   ],
   "source": [
    "line.lower().count('row')"
   ]
  },
  {
   "cell_type": "markdown",
   "id": "b43cc944",
   "metadata": {},
   "source": [
    "## 10.4　存储数据"
   ]
  },
  {
   "cell_type": "markdown",
   "id": "cd176d22",
   "metadata": {},
   "source": [
    "### 10.4.1　使用 json.dumps() 和 json.loads()"
   ]
  },
  {
   "cell_type": "code",
   "execution_count": 3,
   "id": "c57fc790",
   "metadata": {},
   "outputs": [
    {
     "data": {
      "text/plain": [
       "20"
      ]
     },
     "execution_count": 3,
     "metadata": {},
     "output_type": "execute_result"
    }
   ],
   "source": [
    "#number_writer.py\n",
    "from pathlib import Path\n",
    "import json\n",
    "\n",
    "numbers = [2, 4, 5, 7,11, 13]\n",
    "\n",
    "#指定文件名\n",
    "path = Path('numbers.json')\n",
    "\n",
    "#使用json.dumps()函数生成字符串，包含数据的JSON表现形式\n",
    "contents = json.dumps(numbers)\n",
    "path.write_text(contents)"
   ]
  },
  {
   "cell_type": "code",
   "execution_count": 4,
   "id": "6247f850",
   "metadata": {},
   "outputs": [
    {
     "name": "stdout",
     "output_type": "stream",
     "text": [
      "[2, 4, 5, 7, 11, 13]\n"
     ]
    }
   ],
   "source": [
    "#number_reader.py\n",
    "from pathlib import Path\n",
    "import json\n",
    "\n",
    "path = Path('numbers.json')\n",
    "contents = path.read_text()\n",
    "#将文件内容传给json.loads()\n",
    "numbers = json.loads(contents)\n",
    "\n",
    "print(numbers)"
   ]
  },
  {
   "cell_type": "markdown",
   "id": "d3220c72",
   "metadata": {},
   "source": [
    "### 10.4.2　保存和读取用户生成的数据"
   ]
  },
  {
   "cell_type": "code",
   "execution_count": 5,
   "id": "a7c396ce",
   "metadata": {},
   "outputs": [
    {
     "name": "stdout",
     "output_type": "stream",
     "text": [
      "What is your name? Weiran\n",
      "We'll remember you when you come back, Weiran!\n"
     ]
    }
   ],
   "source": [
    "#remember_me.py\n",
    "from pathlib import Path\n",
    "import json\n",
    "\n",
    "username = input(\"What is your name? \")\n",
    "\n",
    "path = Path('username.json')\n",
    "contents = json.dumps(username)\n",
    "path.write_text(contents)\n",
    "\n",
    "print(f\"We'll remember you when you come back, {username}!\")"
   ]
  },
  {
   "cell_type": "code",
   "execution_count": 6,
   "id": "38ae9e21",
   "metadata": {},
   "outputs": [
    {
     "name": "stdout",
     "output_type": "stream",
     "text": [
      "Welcome back, Weiran!\n"
     ]
    }
   ],
   "source": [
    "#greet_user.py\n",
    "from pathlib import Path\n",
    "import json\n",
    "\n",
    "path = Path('username.json')\n",
    "contents = path.read_text()\n",
    "username = json.loads(contents) #使用 json.loads() 将恢复的数据赋给变量username\n",
    "\n",
    "print(f\"Welcome back, {username}!\")"
   ]
  },
  {
   "cell_type": "code",
   "execution_count": 8,
   "id": "b5bfb439",
   "metadata": {},
   "outputs": [
    {
     "name": "stdout",
     "output_type": "stream",
     "text": [
      "Welcome back, Weiran!\n"
     ]
    }
   ],
   "source": [
    "#remember_me.py\n",
    "from pathlib import Path\n",
    "import json\n",
    "\n",
    "path = Path('username.json')\n",
    "if path.exists():   #使用 path.exists() 来确定是否存储了用户名\n",
    "    contents = path.read_text()\n",
    "    username = json.loads(contents)\n",
    "    print(f\"Welcome back, {username}!\")\n",
    "    \n",
    "else:\n",
    "    username = input(\"What is your name? \")\n",
    "    contents = json.dumps(username)\n",
    "    path.write_text(contents)\n",
    "    print(f\"We'll remember you when you come back, {username}!\")"
   ]
  },
  {
   "cell_type": "markdown",
   "id": "d677ac92",
   "metadata": {},
   "source": [
    "### 10.4.3　重构"
   ]
  },
  {
   "cell_type": "code",
   "execution_count": 9,
   "id": "05b64c9a",
   "metadata": {},
   "outputs": [
    {
     "name": "stdout",
     "output_type": "stream",
     "text": [
      "Welcome back, Weiran!\n"
     ]
    }
   ],
   "source": [
    "#remember_me.py\n",
    "from pathlib import Path\n",
    "import json\n",
    "\n",
    "def greet_user():\n",
    "    \"\"\"问候用户，并指出其名字\"\"\"\n",
    "    path = Path('username.json')\n",
    "    if path.exists():\n",
    "        contents = path.read_text()\n",
    "        username = json.loads(contents)\n",
    "        print(f\"Welcome back, {username}!\")\n",
    "    else:\n",
    "        username = input(\"What is your name? \")\n",
    "        contents = json.dumps(username)\n",
    "        path.write_text(contents)\n",
    "        print(f\"We'll remember you when you come back, {username}!\")\n",
    "        \n",
    "greet_user()"
   ]
  },
  {
   "cell_type": "code",
   "execution_count": null,
   "id": "c50db38d",
   "metadata": {},
   "outputs": [],
   "source": [
    "#重构greet_user()\n",
    "from pathlib import Path\n",
    "import json\n",
    "\n",
    "def get_stored_username(path):\n",
    "    \"\"\"如果存储了用户名，就获取它\"\"\"\n",
    "    if path.exists():\n",
    "        contents = path.read_text()\n",
    "        username = json.loads(contents)\n",
    "        return username\n",
    "    else:\n",
    "        return None\n",
    "    \n",
    "def greet_user():\n",
    "    \"\"\"问候用户，并指出其名字\"\"\"\n",
    "    path = Path('username.json')\n",
    "    username = get_stored_username(path)\n",
    "    if username:\n",
    "        print(f\"Welcome back, {username}!\")\n",
    "    else:\n",
    "        username = input(\"What is your name? \")\n",
    "        contents = json.dumps(username)\n",
    "        path.write_text(contents)\n",
    "        print(f\"We'll remember you when you come back, {username}!\")\n",
    "        \n",
    "greet_user()"
   ]
  },
  {
   "cell_type": "code",
   "execution_count": 7,
   "id": "041afdd8",
   "metadata": {},
   "outputs": [
    {
     "name": "stdout",
     "output_type": "stream",
     "text": [
      "Welcome back, Weiran!\n"
     ]
    }
   ],
   "source": [
    "from pathlib import Path\n",
    "import json\n",
    "\n",
    "def get_stored_username(path):\n",
    "    \"\"\"如果存储了用户名，就获取它\"\"\"\n",
    "    if path.exists():\n",
    "        contents = path.read_text()\n",
    "        username = json.loads(contents)\n",
    "        return username\n",
    "    else:\n",
    "        return None\n",
    "\n",
    "def get_new_username(path):\n",
    "    \"\"\"提示用户输入用户名\"\"\"\n",
    "    username = input(\"What is your name? \")\n",
    "    contents = json.dumps(username)\n",
    "    path.write_text(contents)\n",
    "    return username\n",
    "\n",
    "def greet_user():\n",
    "    \"\"\"问候用户，并指出其名字\"\"\"\n",
    "    path = Path('username.json')\n",
    "    username = get_stored_username(path)\n",
    "    if username:\n",
    "        print(f\"Welcome back, {username}!\")\n",
    "    else:\n",
    "        username = get_new_username(path)\n",
    "        print(f\"We'll remember you when you come back, {username}!\")\n",
    "        \n",
    "greet_user()"
   ]
  },
  {
   "cell_type": "markdown",
   "id": "a39a3fb2",
   "metadata": {},
   "source": [
    "### 练习"
   ]
  },
  {
   "cell_type": "markdown",
   "id": "71940fa5",
   "metadata": {},
   "source": [
    "#### 练习10.11 喜欢的数"
   ]
  },
  {
   "cell_type": "code",
   "execution_count": 13,
   "id": "84689caf",
   "metadata": {},
   "outputs": [
    {
     "name": "stdout",
     "output_type": "stream",
     "text": [
      "What is your favorite number? 7\n",
      "I know your favorite number! It's 7!\n"
     ]
    }
   ],
   "source": [
    "#favorite_number.py\n",
    "from pathlib import Path\n",
    "import json\n",
    "\n",
    "number= input(\"What is your favorite number? \")\n",
    "\n",
    "path = Path('f_number.json')\n",
    "contents = path.read_text()\n",
    "number = json.loads(contents)\n",
    "print(f\"I know your favorite number! It's {number}!\")"
   ]
  },
  {
   "cell_type": "markdown",
   "id": "f84695bd",
   "metadata": {},
   "source": [
    "#### 练习10.12 记住喜欢的数"
   ]
  },
  {
   "cell_type": "code",
   "execution_count": 14,
   "id": "6d2fc978",
   "metadata": {},
   "outputs": [
    {
     "name": "stdout",
     "output_type": "stream",
     "text": [
      "I know your favorite number! It's 7!\n"
     ]
    }
   ],
   "source": [
    "#remember_number.py\n",
    "from pathlib import Path\n",
    "import json\n",
    "\n",
    "#读取路径\n",
    "path = Path('f_number.json')\n",
    "if path.exists():   #使用 path.exists() 来确定是否存储了用户名\n",
    "    contents = path.read_text()\n",
    "    number = json.loads(contents)\n",
    "    print(f\"I know your favorite number! It's {number}!\")\n",
    "    \n",
    "else:\n",
    "    number= input(\"What is your favorite number? \")\n",
    "    contents = json.dumps(number)\n",
    "    path.write_text(contents)\n",
    "    print(f\"I know your favorite number! It's {number}!!\")"
   ]
  },
  {
   "cell_type": "markdown",
   "id": "89ae665c",
   "metadata": {},
   "source": [
    "#### 练习10.13 用户字典"
   ]
  },
  {
   "cell_type": "code",
   "execution_count": 1,
   "id": "58dbd596",
   "metadata": {},
   "outputs": [
    {
     "name": "stdout",
     "output_type": "stream",
     "text": [
      "Welcome back, qy!\n",
      "I know your favorite number is 9.\n"
     ]
    }
   ],
   "source": [
    "#user_info\n",
    "from pathlib import Path\n",
    "import json\n",
    "\n",
    "def get_stored_info(path):\n",
    "    \"\"\"如果用户存储了信息，读取它\"\"\"\n",
    "    if path.exists():\n",
    "        contents = path.read_text()\n",
    "        user_info = json.loads(contents)#文件的内容传给用户字典\n",
    "        return user_info\n",
    "    else:\n",
    "        return None\n",
    "\n",
    "def get_new_info(path):\n",
    "    \"\"\"提示用户输入信息\"\"\"\n",
    "    username = input(\"What is your name?\")\n",
    "    favorite_number = input(\"What is your favorite number?\")\n",
    "\n",
    "    user_info = {'username':username, 'number':favorite_number}\n",
    "    contents = json.dumps(user_info)\n",
    "    path.write_text(contents)\n",
    "    return user_info\n",
    "    \n",
    "def greet_user():\n",
    "    \"\"\"问候用户并指出其信息\"\"\"\n",
    "    path = Path('user_info.json')\n",
    "    user_info = get_stored_info(path)\n",
    "    if user_info:\n",
    "        print(f\"Welcome back, {user_info['username']}!\")\n",
    "        print(f\"I know your favorite number is {user_info['number']}.\")\n",
    "    else:\n",
    "        user_info = get_new_info(path)\n",
    "        print(f\"We will remember you when you come back, {user_info['username']}!\")\n",
    "\n",
    "greet_user()"
   ]
  },
  {
   "cell_type": "markdown",
   "id": "7dde3caf",
   "metadata": {},
   "source": [
    "#### 练习10.14 验证用户"
   ]
  },
  {
   "cell_type": "code",
   "execution_count": 1,
   "id": "03b03c6a",
   "metadata": {},
   "outputs": [
    {
     "name": "stdout",
     "output_type": "stream",
     "text": [
      "Is Weiran your name?Yes or No.Yes\n",
      "Welcome back, Weiran!\n"
     ]
    }
   ],
   "source": [
    "from pathlib import Path\n",
    "import json\n",
    "\n",
    "def get_stored_username(path):\n",
    "    \"\"\"如果存储了用户名，就获取它\"\"\"\n",
    "    if path.exists():\n",
    "        contents = path.read_text()\n",
    "        username = json.loads(contents)\n",
    "        return username\n",
    "    else:\n",
    "        return None\n",
    "\n",
    "def get_new_username(path):\n",
    "    \"\"\"提示用户输入用户名\"\"\"\n",
    "    username = input(\"What is your name? \")\n",
    "    contents = json.dumps(username)\n",
    "    path.write_text(contents)\n",
    "    return username\n",
    "\n",
    "def greet_user():\n",
    "    \"\"\"问候用户，并指出其名字\"\"\"\n",
    "    path = Path('username.json')\n",
    "    username = get_stored_username(path)\n",
    "    if username:\n",
    "        response = input(f\"Is {username} your name?Yes or No.\")\n",
    "        if response == 'Yes':\n",
    "            print(f\"Welcome back, {username}!\")\n",
    "        else:\n",
    "            username=get_new_username()\n",
    "            print(f\"Welcome back, {username}!\")\n",
    "    else:\n",
    "        username = get_new_username(path)\n",
    "        print(f\"We'll remember you when you come back, {username}!\")\n",
    "        \n",
    "greet_user()"
   ]
  }
 ],
 "metadata": {
  "kernelspec": {
   "display_name": "Python 3 (ipykernel)",
   "language": "python",
   "name": "python3"
  },
  "language_info": {
   "codemirror_mode": {
    "name": "ipython",
    "version": 3
   },
   "file_extension": ".py",
   "mimetype": "text/x-python",
   "name": "python",
   "nbconvert_exporter": "python",
   "pygments_lexer": "ipython3",
   "version": "3.11.5"
  }
 },
 "nbformat": 4,
 "nbformat_minor": 5
}
